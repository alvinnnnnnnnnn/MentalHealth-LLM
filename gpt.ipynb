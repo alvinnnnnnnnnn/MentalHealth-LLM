{
 "cells": [
  {
   "cell_type": "markdown",
   "metadata": {},
   "source": [
    "# Importing libraries"
   ]
  },
  {
   "cell_type": "code",
   "execution_count": null,
   "metadata": {},
   "outputs": [],
   "source": [
    "import torch\n",
    "import os\n",
    "import warnings\n",
    "import platform\n",
    "\n",
    "import pandas as pd\n",
    "import numpy as np\n",
    "\n",
    "from bert_score import score\n",
    "from transformers import AutoTokenizer, AutoModelForCausalLM, Trainer, TrainingArguments, DataCollatorForLanguageModeling, pipeline\n",
    "from datasets import Dataset\n",
    "from evaluate import load"
   ]
  },
  {
   "cell_type": "markdown",
   "metadata": {},
   "source": [
    "# Defining file paths"
   ]
  },
  {
   "cell_type": "code",
   "execution_count": null,
   "metadata": {},
   "outputs": [],
   "source": [
    "OUTPUT_DIR = \"results\"\n",
    "LOG_DIR = \"logs\"\n",
    "TRAIN_FILE = \"dataset/train.txt\"  # Path to your training data file\n",
    "VAL_FILE = \"dataset/validation.txt\"  # Path to your validation data file\n",
    "TEST_FILE = \"dataset/test.txt\"  # Path to your test data file"
   ]
  },
  {
   "cell_type": "markdown",
   "metadata": {},
   "source": [
    "# Loading Pre-trained Model"
   ]
  },
  {
   "cell_type": "code",
   "execution_count": null,
   "metadata": {},
   "outputs": [],
   "source": [
    "# tokenizer = AutoTokenizer.from_pretrained(\"HuggingFaceTB/SmolLM2-360M-Instruct\")\n",
    "# model = AutoModelForCausalLM.from_pretrained(\"HuggingFaceTB/SmolLM2-360M-Instruct\")"
   ]
  },
  {
   "cell_type": "code",
   "execution_count": null,
   "metadata": {},
   "outputs": [],
   "source": [
    "model = AutoModelForCausalLM.from_pretrained(\"microsoft/Phi-4-mini-instruct\", trust_remote_code=True) \n",
    "tokenizer = AutoTokenizer.from_pretrained(\"microsoft/Phi-4-mini-instruct\", trust_remote_code=True)"
   ]
  },
  {
   "cell_type": "code",
   "execution_count": null,
   "metadata": {},
   "outputs": [],
   "source": [
    "original_vocab_size = model.config.vocab_size\n",
    "print(f\"Original vocab size: {original_vocab_size}\")"
   ]
  },
  {
   "cell_type": "code",
   "execution_count": null,
   "metadata": {},
   "outputs": [],
   "source": [
    "print(f\"Model max length: {model.config.max_position_embeddings}\")"
   ]
  },
  {
   "cell_type": "code",
   "execution_count": null,
   "metadata": {},
   "outputs": [],
   "source": [
    "print(f\"Max sequence length: {tokenizer.model_max_length}\")"
   ]
  },
  {
   "cell_type": "code",
   "execution_count": null,
   "metadata": {},
   "outputs": [],
   "source": [
    "model.gradient_checkpointing_enable()\n",
    "model.resize_token_embeddings(len(tokenizer))"
   ]
  },
  {
   "cell_type": "markdown",
   "metadata": {},
   "source": [
    "# Setting the device"
   ]
  },
  {
   "cell_type": "code",
   "execution_count": null,
   "metadata": {},
   "outputs": [],
   "source": [
    "torch.cuda.empty_cache()\n",
    "# device = torch.device(\"cuda\" if torch.cuda.is_available() else \"cpu\")\n",
    "device = torch.device(\"cpu\")\n",
    "model.to(device)\n",
    "\n",
    "print(device)"
   ]
  },
  {
   "cell_type": "code",
   "execution_count": null,
   "metadata": {},
   "outputs": [],
   "source": [
    "def count_tokens(file_path, tokenizer):\n",
    "    with open(file_path, \"r\", encoding=\"utf-8\") as f:\n",
    "        text = f.read()\n",
    "    tokens = tokenizer.tokenize(text)\n",
    "    return len(tokens)\n",
    "\n",
    "# Count tokens in training and validation files\n",
    "train_token_count = count_tokens(TRAIN_FILE, tokenizer)\n",
    "eval_token_count = count_tokens(VAL_FILE, tokenizer)\n",
    "print(f\"Train Tokens: {train_token_count}\")\n",
    "print(f\"Validation Tokens: {eval_token_count}\")"
   ]
  },
  {
   "cell_type": "markdown",
   "metadata": {},
   "source": [
    "# Training the model"
   ]
  },
  {
   "cell_type": "markdown",
   "metadata": {},
   "source": [
    "## Setting up training arguments"
   ]
  },
  {
   "cell_type": "code",
   "execution_count": null,
   "metadata": {},
   "outputs": [],
   "source": [
    "training_args = TrainingArguments(\n",
    "    no_cuda=True,\n",
    "    output_dir=OUTPUT_DIR,\n",
    "    eval_strategy=\"epoch\",\n",
    "    logging_strategy=\"epoch\",     # Logs loss at intervals\n",
    "    learning_rate=1e-5,\n",
    "    per_device_train_batch_size=1,  # Reduced batch size for limited GPU memory\n",
    "    per_device_eval_batch_size=1,\n",
    "    num_train_epochs=10,\n",
    "    weight_decay=0.01,\n",
    "    save_total_limit=2,\n",
    "    logging_dir=LOG_DIR,\n",
    "    gradient_accumulation_steps=4,  # Accumulate gradients to simulate larger batch sizes\n",
    "    fp16=False,\n",
    "    bf16=False,\n",
    "    optim=\"adamw_torch\"\n",
    ")"
   ]
  },
  {
   "cell_type": "markdown",
   "metadata": {},
   "source": [
    "## Loading dataset"
   ]
  },
  {
   "cell_type": "code",
   "execution_count": null,
   "metadata": {},
   "outputs": [],
   "source": [
    "def load_chatbot_data(file_path):\n",
    "    \"\"\"Load and preprocess chatbot data from the given text file.\"\"\"\n",
    "    conversations = []\n",
    "    with open(file_path, \"r\", encoding=\"utf-8\") as f:\n",
    "        lines = f.readlines()\n",
    "        user_input, bot_response = None, None\n",
    "        for line in lines:\n",
    "            if line.startswith(\"user:\"):\n",
    "                user_input = line.replace(\"user:\", \"\").strip()\n",
    "            elif line.startswith(\"bot:\"):\n",
    "                bot_response = line.replace(\"bot:\", \"\").strip()\n",
    "                if user_input and bot_response:\n",
    "                    conversations.append({\"input\": user_input, \"output\": bot_response})\n",
    "                    user_input, bot_response = None, None\n",
    "    return pd.DataFrame(conversations)"
   ]
  },
  {
   "cell_type": "code",
   "execution_count": null,
   "metadata": {},
   "outputs": [],
   "source": [
    "df_train = load_chatbot_data(TRAIN_FILE)\n",
    "df_val = load_chatbot_data(VAL_FILE)\n",
    "dataset_train = Dataset.from_pandas(df_train)\n",
    "dataset_val = Dataset.from_pandas(df_val)\n",
    "\n",
    "print(f\"Length of training dataset: {len(df_train)}\")\n",
    "print(f\"Length of validation dataset: {len(df_val)}\")"
   ]
  },
  {
   "cell_type": "markdown",
   "metadata": {},
   "source": [
    "## Tokenizing dataset"
   ]
  },
  {
   "cell_type": "code",
   "execution_count": null,
   "metadata": {},
   "outputs": [],
   "source": [
    "def tokenize_function(examples):\n",
    "    inputs = [f\"{inp} {out}\" for inp, out in zip(examples[\"input\"], examples[\"output\"])]\n",
    "    model_inputs = tokenizer(\n",
    "        inputs,\n",
    "        max_length=512,\n",
    "        truncation=True,\n",
    "        padding=\"max_length\",\n",
    "        # return_tensors=\"pt\",\n",
    "    )\n",
    "    # model_inputs[\"labels\"] = model_inputs[\"input_ids\"].clone() \n",
    "    model_inputs[\"labels\"] = torch.tensor(model_inputs[\"input_ids\"]).to(\"cpu\")\n",
    "    return model_inputs\n",
    "\n",
    "# Apply tokenization\n",
    "tokenized_train = dataset_train.map(tokenize_function, batched=True)\n",
    "tokenized_val = dataset_val.map(tokenize_function, batched=True)"
   ]
  },
  {
   "cell_type": "markdown",
   "metadata": {},
   "source": [
    "## Data collator "
   ]
  },
  {
   "cell_type": "code",
   "execution_count": null,
   "metadata": {},
   "outputs": [],
   "source": [
    "data_collator = DataCollatorForLanguageModeling(\n",
    "    tokenizer=tokenizer,\n",
    "    mlm=False,  # Masked language modeling is not used for causal LM\n",
    ")"
   ]
  },
  {
   "cell_type": "markdown",
   "metadata": {},
   "source": [
    "## Compute Metrics"
   ]
  },
  {
   "cell_type": "code",
   "execution_count": null,
   "metadata": {},
   "outputs": [],
   "source": [
    "# tokenizer = AutoTokenizer.from_pretrained(\"roberta-large\")\n",
    "# accuracy_metric = load(\"accuracy\")\n",
    "\n",
    "# def compute_bertscore(references, candidates, model_type=\"roberta-large\"):\n",
    "#     \"\"\"Compute BERTScore for chatbot responses.\"\"\"\n",
    "#     P, R, F1 = score(candidates, references, model_type=model_type, lang=\"en\", rescale_with_baseline=True)\n",
    "#     return {\n",
    "#         \"Precision\": P.mean().item(),\n",
    "#         \"Recall\": R.mean().item(),\n",
    "#         \"F1 Score\": F1.mean().item()\n",
    "#     }\n",
    "\n",
    "# def compute_metrics(eval_pred):\n",
    "#     \"\"\"Compute accuracy, BERTScore, for evaluation.\"\"\"\n",
    "#     predictions, labels = eval_pred\n",
    "\n",
    "#     # Ensure predictions and labels are in the correct format\n",
    "#     predictions = np.argmax(predictions, axis=-1).tolist()\n",
    "#     labels = labels.tolist()\n",
    "\n",
    "#     # Decode model outputs\n",
    "#     decoded_preds = [tokenizer.decode(pred, skip_special_tokens=True) for pred in predictions]\n",
    "#     decoded_labels = [tokenizer.decode(label, skip_special_tokens=True) for label in labels]\n",
    "\n",
    "#     # Compute accuracy\n",
    "#     accuracy = accuracy_metric.compute(predictions=predictions, references=labels)\n",
    "\n",
    "#     # Compute BERTScore (similarity of response to ground truth)\n",
    "#     bert_scores = compute_bertscore(decoded_labels, decoded_preds)\n",
    "\n",
    "#     # Combine metrics\n",
    "#     final_metrics = {\n",
    "#         \"Accuracy\": accuracy[\"accuracy\"],\n",
    "#         **bert_scores,\n",
    "#     }\n",
    "\n",
    "#     print(\"\\nEvaluation Metrics:\", final_metrics)\n",
    "#     return final_metrics"
   ]
  },
  {
   "cell_type": "code",
   "execution_count": null,
   "metadata": {},
   "outputs": [],
   "source": [
    "from transformers import TrainerCallback\n",
    "\n",
    "class LogTrainingLossCallback(TrainerCallback):\n",
    "    def on_epoch_end(self, args, state, control, **kwargs):\n",
    "        logs = state.log_history\n",
    "        train_loss = None\n",
    "\n",
    "        # Extract latest training loss\n",
    "        for log in reversed(logs):\n",
    "            if \"loss\" in log:\n",
    "                train_loss = log[\"loss\"]\n",
    "                break  # Get the last recorded loss\n",
    "\n",
    "        if train_loss is not None:\n",
    "            print(f\"Epoch {state.epoch}: Training Loss = {train_loss}\")"
   ]
  },
  {
   "cell_type": "markdown",
   "metadata": {},
   "source": [
    "## Initialising the model"
   ]
  },
  {
   "cell_type": "code",
   "execution_count": null,
   "metadata": {},
   "outputs": [],
   "source": [
    "trainer = Trainer(\n",
    "    model=model,\n",
    "    args=training_args,\n",
    "    train_dataset=tokenized_train,\n",
    "    eval_dataset=tokenized_val,\n",
    "    tokenizer=tokenizer,\n",
    "    data_collator=data_collator,\n",
    "    # compute_metrics=compute_metrics,\n",
    "    callbacks=[LogTrainingLossCallback()],  # Attach custom callback\n",
    ")\n",
    "\n",
    "trainer.train()"
   ]
  },
  {
   "cell_type": "markdown",
   "metadata": {},
   "source": [
    "## Saving Trained Model"
   ]
  },
  {
   "cell_type": "code",
   "execution_count": null,
   "metadata": {},
   "outputs": [],
   "source": [
    "model.save_pretrained(\"results\")\n",
    "tokenizer.save_pretrained(\"results\")"
   ]
  },
  {
   "cell_type": "markdown",
   "metadata": {},
   "source": [
    "# Evaluating the model"
   ]
  },
  {
   "cell_type": "markdown",
   "metadata": {},
   "source": [
    "## Load trained model"
   ]
  },
  {
   "cell_type": "code",
   "execution_count": null,
   "metadata": {},
   "outputs": [],
   "source": [
    "model = AutoModelForCausalLM.from_pretrained(\"results\", device_map=\"auto\")\n",
    "tokenizer = AutoTokenizer.from_pretrained(\"results\", device_map=\"auto\")\n",
    "\n",
    "model.to(device)"
   ]
  },
  {
   "cell_type": "code",
   "execution_count": null,
   "metadata": {},
   "outputs": [],
   "source": [
    "# def chatbot_response(user_input, chatbot):\n",
    "#     sentiment = get_sentiment(user_input)  # Get sentiment from BERT\n",
    "\n",
    "#     # Define chatbot responses based on sentiment\n",
    "#     responses = {\n",
    "#         \"positive\": \"I'm happy to hear that! Keep up the great energy. 😊\",\n",
    "#         \"neutral\": \"That sounds interesting. Tell me more, I'm here to listen. 🧡\",\n",
    "#         \"negative\": \"I'm sorry you're feeling this way. You're not alone—would you like some self-care tips? 💙\"\n",
    "#     }\n",
    "\n",
    "#     # Modify chatbot input based on sentiment\n",
    "#     modified_input = f\"{user_input} [Sentiment: {sentiment.capitalize()}]\"\n",
    "\n",
    "#     # Get chatbot response\n",
    "#     bot_reply = chatbot.generate_response(modified_input)  # Assuming chatbot has a generate_response method\n",
    "\n",
    "#     # Modify response based on sentiment if needed\n",
    "#     if sentiment == \"negative\":\n",
    "#         bot_reply += \" Remember, you're not alone. Would you like some coping tips? 💙\"\n",
    "\n",
    "#     return bot_reply"
   ]
  },
  {
   "cell_type": "code",
   "execution_count": null,
   "metadata": {},
   "outputs": [],
   "source": [
    "pipe = pipeline(\"translation\", model=\"Helsinki-NLP/opus-mt-en-zh\")\n",
    "sentiment_classifier = pipeline(\"sentiment-analysis\", model=\"distilbert-base-uncased-finetuned-sst-2-english\")"
   ]
  },
  {
   "cell_type": "code",
   "execution_count": null,
   "metadata": {},
   "outputs": [],
   "source": [
    "def get_sentiment(text):\n",
    "    \"\"\"Improved sentiment analysis with keyword-based distress detection.\"\"\"\n",
    "    crisis_keywords = [\"end my life\", \"suicide\", \"don't want to live\", \"kill myself\", \"worthless\", \"no reason to live\"]\n",
    "\n",
    "    # Check if crisis words are in the input\n",
    "    if any(phrase in text.lower() for phrase in crisis_keywords):\n",
    "        return \"crisis\"  # Override sentiment if crisis words are detected\n",
    "\n",
    "    # Otherwise, use DistilBERT-based sentiment analysis\n",
    "    result = sentiment_classifier(text)[0]\n",
    "    label = result['label']\n",
    "\n",
    "    # Convert to sentiment categories based on DistilBERT outputs\n",
    "    if label == \"NEGATIVE\":\n",
    "        return \"negative\"\n",
    "    elif label == \"POSITIVE\":\n",
    "        return \"positive\"\n",
    "    else:\n",
    "        return \"neutral\""
   ]
  },
  {
   "cell_type": "code",
   "execution_count": null,
   "metadata": {},
   "outputs": [],
   "source": [
    "def chatbot_response(prompt, max_length=200):\n",
    "    system_prompt = \"You are a helpful and supportive chatbot. Answer the user's question in a clear and concise way without repeating their words exactly.\"\n",
    "    full_prompt = f\"{system_prompt}\\nUser: {prompt}\\nBot:\"\n",
    "\n",
    "    sentiment_results = get_sentiment(prompt)\n",
    "\n",
    "    inputs = tokenizer(full_prompt, return_tensors=\"pt\")\n",
    "    inputs = {key: val.to(device) for key, val in inputs.items()}\n",
    "\n",
    "    outputs = model.generate(\n",
    "        **inputs, \n",
    "        max_length=max_length,\n",
    "        repetition_penalty=1.3,  # Penalize repeated words/phrases\n",
    "        no_repeat_ngram_size=3,  # Prevent 3-word repetition\n",
    "        temperature=0.7,  # Lower randomness to keep responses meaningful\n",
    "        top_p=0.9,  # Diverse sampling to avoid looping responses\n",
    "        top_k=50  # Limits token choices to avoid repetition\n",
    "    )\n",
    "\n",
    "    response = tokenizer.decode(outputs[0], skip_special_tokens=True)\n",
    "\n",
    "    # Ensure the response does not include the system prompt\n",
    "    response = response.replace(system_prompt, \"\").strip()\n",
    "    \n",
    "    # Remove any leftover system prompt instructions\n",
    "    if \"Bot:\" in response:\n",
    "        response = response.split(\"Bot:\")[-1].strip()\n",
    "\n",
    "    # Translate response to Chinese\n",
    "    translated = pipe(response)[0]['translation_text']\n",
    "\n",
    "    return response, translated, sentiment_results"
   ]
  },
  {
   "cell_type": "code",
   "execution_count": null,
   "metadata": {},
   "outputs": [],
   "source": [
    "if __name__ == \"__main__\":\n",
    "    print(\"Chatbot is ready! Type 'exit' to stop.\")\n",
    "    while True:\n",
    "        user_input = input(\"User: \")\n",
    "        if user_input.lower() == \"exit\":\n",
    "            break\n",
    "        response, translated, sentiment_results = chatbot_response(user_input)\n",
    "        print(f\"User: {user_input}\")\n",
    "        print(f\"Bot: {response}\")\n",
    "        print(f\"Translated Text: {translated}\")\n",
    "        print(f\"Sentiment Results: {sentiment_results}\")"
   ]
  }
 ],
 "metadata": {
  "kernelspec": {
   "display_name": "python3.9",
   "language": "python",
   "name": "python3"
  },
  "language_info": {
   "codemirror_mode": {
    "name": "ipython",
    "version": 3
   },
   "file_extension": ".py",
   "mimetype": "text/x-python",
   "name": "python",
   "nbconvert_exporter": "python",
   "pygments_lexer": "ipython3",
   "version": "3.9.21"
  }
 },
 "nbformat": 4,
 "nbformat_minor": 2
}
