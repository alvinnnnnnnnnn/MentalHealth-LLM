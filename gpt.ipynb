{
 "cells": [
  {
   "cell_type": "code",
   "execution_count": null,
   "metadata": {},
   "outputs": [],
   "source": [
    "import os \n",
    "import torch\n",
    "\n",
    "from datasets import load_dataset\n",
    "from transformers import GPT2Tokenizer, TFGPT2Model, TFGPT2LMHeadModel, TrainingArguments, Trainer"
   ]
  },
  {
   "cell_type": "code",
   "execution_count": null,
   "metadata": {},
   "outputs": [],
   "source": [
    "train_dir = 'dataset/train' # train the model \n",
    "validation_dir = 'dataset/validation' # validate the model\n",
    "test_dir = 'dataset/test' # unseen data\n",
    "OUTPUT_DIR = \"Results\"\n",
    "LOG_DIR = \"Logs\""
   ]
  },
  {
   "cell_type": "markdown",
   "metadata": {},
   "source": [
    "# Loading Pre-Trained Model"
   ]
  },
  {
   "cell_type": "code",
   "execution_count": null,
   "metadata": {},
   "outputs": [],
   "source": [
    "tokenizer = GPT2Tokenizer.from_pretrained('gpt2')\n",
    "model = TFGPT2Model.from_pretrained('gpt2')\n",
    "model_lm = TFGPT2LMHeadModel.from_pretrained('gpt2')"
   ]
  },
  {
   "cell_type": "markdown",
   "metadata": {},
   "source": [
    "# Training the model\n"
   ]
  },
  {
   "cell_type": "markdown",
   "metadata": {},
   "source": [
    "## Setting up training arguments"
   ]
  },
  {
   "cell_type": "code",
   "execution_count": null,
   "metadata": {},
   "outputs": [],
   "source": [
    "training_args = TrainingArguments(\n",
    "    output_dir = OUTPUT_DIR,          # Directory to save the model\n",
    "    evaluation_strategy = \"epoch\",    # Evaluate every epoch\n",
    "    learning_rate = 2e-5,             # Learning rate\n",
    "    per_device_train_batch_size = 2,  # Batch size per device\n",
    "    per_device_eval_batch_size = 2,   # Evaluation batch size\n",
    "    num_train_epochs = 3,             # Number of epochs\n",
    "    weight_decay = 0.01,              # Weight decay\n",
    "    save_strategy = \"epoch\",          # Save model every epoch\n",
    "    logging_dir = LOG_DIR,            # Directory for logs\n",
    "    logging_steps = 10,               # Log every 10 steps\n",
    ")"
   ]
  },
  {
   "cell_type": "markdown",
   "metadata": {},
   "source": [
    "## Initialising the trainer"
   ]
  },
  {
   "cell_type": "code",
   "execution_count": null,
   "metadata": {},
   "outputs": [],
   "source": [
    "def compute_metrics(eval_pred):\n",
    "    logits = eval_pred.predictions  # Predictions from the model\n",
    "    labels = eval_pred.label_ids    # True labels\n",
    "\n",
    "    # Calculate loss (if not already returned by the model)\n",
    "    loss_fn = torch.nn.CrossEntropyLoss()\n",
    "    loss = loss_fn(torch.tensor(logits).view(-1, logits.shape[-1]), torch.tensor(labels).view(-1)).item()\n",
    "\n",
    "    # Calculate accuracy\n",
    "    predictions = logits.argmax(axis=-1)\n",
    "    accuracy = (predictions == labels).astype(float).mean().item()\n",
    "\n",
    "    return {\"loss\": loss, \"accuracy\": accuracy}"
   ]
  },
  {
   "cell_type": "code",
   "execution_count": null,
   "metadata": {},
   "outputs": [],
   "source": [
    "train_dataset = load_dataset(\"text\", data_files={\"train\"})\n",
    "eval_dataset = load_dataset(\"text\", data_files={\"eval\"})\n",
    "test_dataset = load_dataset(\"text\", data_files={\"test\"})"
   ]
  },
  {
   "cell_type": "code",
   "execution_count": null,
   "metadata": {},
   "outputs": [],
   "source": [
    "tokenized_train_dataset = train_dataset.map(tokenize_function, batched=True, remove_columns=[\"train\"])\n",
    "tokenized_eval_dataset = eval_dataset.map(tokenize_function, batched=True, remove_columns=[\"eval\"])\n",
    "tokenized_test_dataset = test_dataset.map(tokenize_function, batched=True, remove_columns=[\"test\"])"
   ]
  },
  {
   "cell_type": "code",
   "execution_count": null,
   "metadata": {},
   "outputs": [],
   "source": [
    "trainer = Trainer(\n",
    "    model=model,\n",
    "    args=training_args,\n",
    "    train_dataset=tokenized_train_dataset[\"train\"],\n",
    "    eval_dataset=tokenized_eval_dataset[\"train\"], \n",
    "    tokenizer=tokenizer,\n",
    "    compute_metrics=compute_metrics  # Pass the compute_metrics function\n",
    ")"
   ]
  },
  {
   "cell_type": "code",
   "execution_count": null,
   "metadata": {},
   "outputs": [],
   "source": [
    "# Train the model\n",
    "trainer.train()"
   ]
  },
  {
   "cell_type": "markdown",
   "metadata": {},
   "source": [
    "## Saving the model"
   ]
  },
  {
   "cell_type": "code",
   "execution_count": null,
   "metadata": {},
   "outputs": [],
   "source": [
    "trainer.save_model(\"fine-tuned-model\")\n",
    "tokenizer.save_pretrained(\"fine-tuned-model\")"
   ]
  },
  {
   "cell_type": "markdown",
   "metadata": {},
   "source": [
    "# Evaluation"
   ]
  },
  {
   "cell_type": "code",
   "execution_count": null,
   "metadata": {},
   "outputs": [],
   "source": [
    "print(\"Chatbot is ready! Type 'exit' to stop.\")\n",
    "while True:\n",
    "    user_input = input(\"You: \")\n",
    "    if user_input.lower() == 'exit':\n",
    "        break\n",
    "\n",
    "    encoded_input = tokenizer(user_input, return_tensors='tf')\n",
    "\n",
    "    attention_mask = encoded_input['attention_mask']\n",
    "\n",
    "    generated_ids = model_lm.generate(\n",
    "        encoded_input['input_ids'],\n",
    "        attention_mask=attention_mask,  # Use attention mask\n",
    "        max_new_tokens=200,  # Control the length of generated text.  Adjust as needed.\n",
    "        temperature=0.9,      # Adjust for creativity (0.2-0.8 typically good)\n",
    "        top_p=0.9,           # Adjust for sampling strategy (0.8-0.95 typically good)\n",
    "        # top_k=40 # Another sampling parameter. Can be used instead of top_p.\n",
    "        pad_token_id=tokenizer.eos_token_id,  # Ensure padding token is set\n",
    "        eos_token_id=tokenizer.eos_token_id  # Ensure the model knows when to stop\n",
    "    )\n",
    "\n",
    "    generated_text = tokenizer.decode(generated_ids[0], skip_special_tokens=True)\n",
    "    print(\"gpt:\", generated_text)"
   ]
  },
  {
   "cell_type": "markdown",
   "metadata": {},
   "source": [
    "# Model for translation"
   ]
  },
  {
   "cell_type": "code",
   "execution_count": null,
   "metadata": {},
   "outputs": [],
   "source": [
    "# Load model directly\n",
    "from transformers import AutoTokenizer, AutoModelForSeq2SeqLM\n",
    "\n",
    "tokenizer = AutoTokenizer.from_pretrained(\"google-t5/t5-small\")\n",
    "model = AutoModelForSeq2SeqLM.from_pretrained(\"google-t5/t5-small\")"
   ]
  }
 ],
 "metadata": {
  "kernelspec": {
   "display_name": "Python 3",
   "language": "python",
   "name": "python3"
  },
  "language_info": {
   "codemirror_mode": {
    "name": "ipython",
    "version": 3
   },
   "file_extension": ".py",
   "mimetype": "text/x-python",
   "name": "python",
   "nbconvert_exporter": "python",
   "pygments_lexer": "ipython3",
   "version": "3.9.21"
  }
 },
 "nbformat": 4,
 "nbformat_minor": 2
}
