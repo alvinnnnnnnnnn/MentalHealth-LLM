{
 "cells": [
  {
   "cell_type": "code",
   "execution_count": 3,
   "metadata": {},
   "outputs": [],
   "source": [
    "import os \n",
    "import torch\n",
    "\n",
    "from datasets import load_dataset\n",
    "from transformers import AutoTokenizer, AutoModelForCausalLM, TrainingArguments, Trainer"
   ]
  },
  {
   "cell_type": "code",
   "execution_count": 4,
   "metadata": {},
   "outputs": [],
   "source": [
    "train_dir = 'dataset/train' # train the model \n",
    "validation_dir = 'dataset/validation' # validate the model\n",
    "test_dir = 'dataset/test' # unseen data\n",
    "OUTPUT_DIR = \"Results\"\n",
    "LOG_DIR = \"Logs\""
   ]
  },
  {
   "cell_type": "markdown",
   "metadata": {},
   "source": [
    "# Loading Pre-Trained Model"
   ]
  },
  {
   "cell_type": "code",
   "execution_count": null,
   "metadata": {},
   "outputs": [
    {
     "data": {
      "application/vnd.jupyter.widget-view+json": {
       "model_id": "bc5c9d3c37eb4d4394aa36968d4a8d1f",
       "version_major": 2,
       "version_minor": 0
      },
      "text/plain": [
       "pytorch_model.bin:  46%|####6     | 12.4G/27.0G [00:00<?, ?B/s]"
      ]
     },
     "metadata": {},
     "output_type": "display_data"
    }
   ],
   "source": [
    "# Load the tokenizer and model\n",
    "tokenizer = AutoTokenizer.from_pretrained(\"codellama/CodeLlama-7b-hf\")\n",
    "model = AutoModelForCausalLM.from_pretrained(\"klyang/MentaLLaMA-chat-7B\")"
   ]
  },
  {
   "cell_type": "markdown",
   "metadata": {},
   "source": [
    "# Training the model\n"
   ]
  },
  {
   "cell_type": "markdown",
   "metadata": {},
   "source": [
    "## Setting up training arguments"
   ]
  },
  {
   "cell_type": "code",
   "execution_count": null,
   "metadata": {},
   "outputs": [],
   "source": [
    "training_args = TrainingArguments(\n",
    "    output_dir = OUTPUT_DIR,        # Directory to save the model\n",
    "    evaluation_strategy = \"epoch\",    # Evaluate every epoch\n",
    "    learning_rate = 2e-5,             # Learning rate\n",
    "    per_device_train_batch_size = 2,  # Batch size per device\n",
    "    per_device_eval_batch_size = 2,   # Evaluation batch size\n",
    "    num_train_epochs = 3,             # Number of epochs\n",
    "    weight_decay = 0.01,              # Weight decay\n",
    "    save_strategy = \"epoch\",          # Save model every epoch\n",
    "    logging_dir = LOG_DIR,           # Directory for logs\n",
    "    logging_steps = 10,               # Log every 10 steps\n",
    ")"
   ]
  },
  {
   "cell_type": "markdown",
   "metadata": {},
   "source": [
    "## Initialising the trainer"
   ]
  },
  {
   "cell_type": "code",
   "execution_count": null,
   "metadata": {},
   "outputs": [],
   "source": [
    "def compute_metrics(eval_pred):\n",
    "    logits = eval_pred.predictions  # Predictions from the model\n",
    "    labels = eval_pred.label_ids    # True labels\n",
    "\n",
    "    # Calculate loss (if not already returned by the model)\n",
    "    loss_fn = torch.nn.CrossEntropyLoss()\n",
    "    loss = loss_fn(torch.tensor(logits).view(-1, logits.shape[-1]), torch.tensor(labels).view(-1)).item()\n",
    "\n",
    "    # Calculate accuracy\n",
    "    predictions = logits.argmax(axis=-1)\n",
    "    accuracy = (predictions == labels).astype(float).mean().item()\n",
    "\n",
    "    return {\"loss\": loss, \"accuracy\": accuracy}"
   ]
  },
  {
   "cell_type": "code",
   "execution_count": null,
   "metadata": {},
   "outputs": [],
   "source": [
    "# import tensorflow as tf \n",
    "\n",
    "# def compute_metrics(eval_pred):\n",
    "#     logits = eval_pred.predictions  # Predictions from the model\n",
    "#     labels = eval_pred.label_ids    # True labels\n",
    "\n",
    "#     # Calculate loss (if not already returned by the model)\n",
    "#     loss_fn = tf.keras.losses.SparseCategoricalCrossentropy(from_logits=True) # Use SparseCategoricalCrossentropy\n",
    "#     loss = loss_fn(labels, logits).numpy() # Calculate Loss\n",
    "\n",
    "#     # Calculate accuracy\n",
    "#     predictions = tf.argmax(logits, axis=-1).numpy()\n",
    "#     accuracy = tf.reduce_mean(tf.cast(tf.equal(predictions, labels), tf.float32)).numpy()\n",
    "\n",
    "#     return {\"loss\": loss, \"accuracy\": accuracy}"
   ]
  },
  {
   "cell_type": "code",
   "execution_count": null,
   "metadata": {},
   "outputs": [],
   "source": [
    "trainer = Trainer(\n",
    "    model=model,\n",
    "    args=training_args,\n",
    "    train_dataset=tokenized_datasets[\"train\"],\n",
    "    eval_dataset=tokenized_datasets[\"train\"], \n",
    "    tokenizer=tokenizer,\n",
    "    compute_metrics=compute_metrics  # Pass the compute_metrics function\n",
    ")"
   ]
  },
  {
   "cell_type": "code",
   "execution_count": null,
   "metadata": {},
   "outputs": [],
   "source": [
    "# Train the model\n",
    "trainer.train()"
   ]
  },
  {
   "cell_type": "markdown",
   "metadata": {},
   "source": [
    "## Saving the model"
   ]
  },
  {
   "cell_type": "code",
   "execution_count": null,
   "metadata": {},
   "outputs": [],
   "source": [
    "trainer.save_model(\"./fine-tuned-model\")\n",
    "tokenizer.save_pretrained(\"./fine-tuned-model\")"
   ]
  },
  {
   "cell_type": "markdown",
   "metadata": {},
   "source": [
    "# Evaluation"
   ]
  },
  {
   "cell_type": "code",
   "execution_count": null,
   "metadata": {},
   "outputs": [],
   "source": [
    "print(\"Chatbot is ready! Type 'exit' to stop.\")\n",
    "while True:\n",
    "    # Get user input\n",
    "    user_input = input(\"You: \")\n",
    "    if user_input.lower() == 'exit':\n",
    "        break\n",
    "    \n",
    "    # model = AutoModelForCausalLM.from_pretrained(\"./fine-tuned-model\")\n",
    "    # tokenizer = AutoTokenizer.from_pretrained(\"./fine-tuned-model\")\n",
    "\n",
    "    inputs = tokenizer(user_input, return_tensors=\"pt\") \n",
    "    outputs = model.generate(**inputs, max_length=100, num_return_sequences=1)\n",
    "    generated_text = tokenizer.decode(outputs[0], skip_special_tokens=True)\n",
    "\n",
    "    print(generated_text)"
   ]
  },
  {
   "cell_type": "markdown",
   "metadata": {},
   "source": [
    "# Model for translation"
   ]
  },
  {
   "cell_type": "code",
   "execution_count": null,
   "metadata": {},
   "outputs": [],
   "source": [
    "# Load model directly\n",
    "from transformers import AutoTokenizer, AutoModelForSeq2SeqLM\n",
    "\n",
    "tokenizer = AutoTokenizer.from_pretrained(\"google-t5/t5-small\")\n",
    "model = AutoModelForSeq2SeqLM.from_pretrained(\"google-t5/t5-small\")"
   ]
  }
 ],
 "metadata": {
  "kernelspec": {
   "display_name": "Python 3",
   "language": "python",
   "name": "python3"
  },
  "language_info": {
   "codemirror_mode": {
    "name": "ipython",
    "version": 3
   },
   "file_extension": ".py",
   "mimetype": "text/x-python",
   "name": "python",
   "nbconvert_exporter": "python",
   "pygments_lexer": "ipython3",
   "version": "3.9.21"
  }
 },
 "nbformat": 4,
 "nbformat_minor": 2
}
