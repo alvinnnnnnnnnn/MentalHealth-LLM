{
 "cells": [
  {
   "cell_type": "markdown",
   "metadata": {},
   "source": [
    "# Importing libraries"
   ]
  },
  {
   "cell_type": "code",
   "execution_count": 1,
   "metadata": {},
   "outputs": [],
   "source": [
    "import torch\n",
    "import os\n",
    "import psycopg2\n",
    "import evaluate\n",
    "import time \n",
    "\n",
    "import pandas as pd\n",
    "import numpy as np\n",
    "\n",
    "from transformers import AutoTokenizer, AutoModelForCausalLM, Trainer, TrainingArguments, DataCollatorForLanguageModeling, pipeline, AutoModelForSequenceClassification\n",
    "from sentence_transformers import SentenceTransformer\n",
    "from datasets import Dataset\n",
    "from dotenv import load_dotenv"
   ]
  },
  {
   "cell_type": "markdown",
   "metadata": {},
   "source": [
    "# Defining file paths"
   ]
  },
  {
   "cell_type": "code",
   "execution_count": 2,
   "metadata": {},
   "outputs": [],
   "source": [
    "OUTPUT_DIR = \"results\"\n",
    "LOG_DIR = \"logs\"\n",
    "TRAIN_FILE = \"dataset/train.txt\"  # Path to your training data file\n",
    "VAL_FILE = \"dataset/validation.txt\"  # Path to your validation data file\n",
    "TEST_FILE = \"dataset/test.txt\"  # Path to your test data file"
   ]
  },
  {
   "cell_type": "markdown",
   "metadata": {},
   "source": [
    "# Loading Pre-trained Model"
   ]
  },
  {
   "cell_type": "code",
   "execution_count": 3,
   "metadata": {},
   "outputs": [],
   "source": [
    "tokenizer = AutoTokenizer.from_pretrained(\"HuggingFaceTB/SmolLM2-360M-Instruct\")\n",
    "model = AutoModelForCausalLM.from_pretrained(\"HuggingFaceTB/SmolLM2-360M-Instruct\")"
   ]
  },
  {
   "cell_type": "code",
   "execution_count": 4,
   "metadata": {},
   "outputs": [],
   "source": [
    "# tokenizer = AutoTokenizer.from_pretrained(\"HuggingFaceTB/SmolLM2-1.7B-Instruct\")\n",
    "# model = AutoModelForCausalLM.from_pretrained(\"HuggingFaceTB/SmolLM2-1.7B-Instruct\")"
   ]
  },
  {
   "cell_type": "code",
   "execution_count": 5,
   "metadata": {},
   "outputs": [
    {
     "name": "stdout",
     "output_type": "stream",
     "text": [
      "Original vocab size: 49152\n"
     ]
    }
   ],
   "source": [
    "original_vocab_size = model.config.vocab_size\n",
    "print(f\"Original vocab size: {original_vocab_size}\")"
   ]
  },
  {
   "cell_type": "code",
   "execution_count": 6,
   "metadata": {},
   "outputs": [
    {
     "name": "stdout",
     "output_type": "stream",
     "text": [
      "Model max length: 8192\n"
     ]
    }
   ],
   "source": [
    "print(f\"Model max length: {model.config.max_position_embeddings}\")"
   ]
  },
  {
   "cell_type": "code",
   "execution_count": 7,
   "metadata": {},
   "outputs": [
    {
     "name": "stdout",
     "output_type": "stream",
     "text": [
      "Max sequence length: 8192\n"
     ]
    }
   ],
   "source": [
    "print(f\"Max sequence length: {tokenizer.model_max_length}\")"
   ]
  },
  {
   "cell_type": "code",
   "execution_count": 8,
   "metadata": {},
   "outputs": [
    {
     "data": {
      "text/plain": [
       "Embedding(49152, 960, padding_idx=2)"
      ]
     },
     "execution_count": 8,
     "metadata": {},
     "output_type": "execute_result"
    }
   ],
   "source": [
    "model.gradient_checkpointing_enable()\n",
    "model.resize_token_embeddings(len(tokenizer))"
   ]
  },
  {
   "cell_type": "code",
   "execution_count": 9,
   "metadata": {},
   "outputs": [],
   "source": [
    "# model.config.use_cache = False"
   ]
  },
  {
   "cell_type": "markdown",
   "metadata": {},
   "source": [
    "# Setting the device"
   ]
  },
  {
   "cell_type": "code",
   "execution_count": 10,
   "metadata": {},
   "outputs": [
    {
     "name": "stdout",
     "output_type": "stream",
     "text": [
      "cuda\n"
     ]
    }
   ],
   "source": [
    "torch.cuda.empty_cache()\n",
    "device = torch.device(\"cuda\" if torch.cuda.is_available() else \"cpu\")\n",
    "model.to(device)\n",
    "\n",
    "print(device)"
   ]
  },
  {
   "cell_type": "code",
   "execution_count": 11,
   "metadata": {},
   "outputs": [
    {
     "name": "stderr",
     "output_type": "stream",
     "text": [
      "Token indices sequence length is longer than the specified maximum sequence length for this model (17353 > 8192). Running this sequence through the model will result in indexing errors\n"
     ]
    },
    {
     "name": "stdout",
     "output_type": "stream",
     "text": [
      "Train Tokens: 17353\n",
      "Validation Tokens: 4228\n"
     ]
    }
   ],
   "source": [
    "def count_tokens(file_path, tokenizer):\n",
    "    with open(file_path, \"r\", encoding=\"utf-8\") as f:\n",
    "        text = f.read()\n",
    "    tokens = tokenizer.tokenize(text)\n",
    "    return len(tokens)\n",
    "\n",
    "# Count tokens in training and validation files\n",
    "train_token_count = count_tokens(TRAIN_FILE, tokenizer)\n",
    "eval_token_count = count_tokens(VAL_FILE, tokenizer)\n",
    "print(f\"Train Tokens: {train_token_count}\")\n",
    "print(f\"Validation Tokens: {eval_token_count}\")"
   ]
  },
  {
   "cell_type": "markdown",
   "metadata": {},
   "source": [
    "# Training the model"
   ]
  },
  {
   "cell_type": "markdown",
   "metadata": {},
   "source": [
    "## Setting up training arguments"
   ]
  },
  {
   "cell_type": "code",
   "execution_count": 12,
   "metadata": {},
   "outputs": [],
   "source": [
    "training_args = TrainingArguments(\n",
    "    output_dir=OUTPUT_DIR,\n",
    "    eval_strategy=\"epoch\",\n",
    "    logging_strategy=\"epoch\",     # Logs loss at intervals\n",
    "    learning_rate=5e-6,\n",
    "    per_device_train_batch_size=2,  # Reduced batch size for limited GPU memory\n",
    "    per_device_eval_batch_size=2,\n",
    "    num_train_epochs=10,\n",
    "    weight_decay=0.01,\n",
    "    save_total_limit=2,\n",
    "    logging_dir=LOG_DIR,\n",
    "    gradient_accumulation_steps=4,  # Accumulate gradients to simulate larger batch sizes\n",
    "    fp16=True,\n",
    "    bf16=False,\n",
    "    optim=\"adamw_torch\",\n",
    ")"
   ]
  },
  {
   "cell_type": "markdown",
   "metadata": {},
   "source": [
    "## Loading dataset"
   ]
  },
  {
   "cell_type": "code",
   "execution_count": 13,
   "metadata": {},
   "outputs": [],
   "source": [
    "def load_chatbot_data(file_path):\n",
    "    \"\"\"Load and preprocess chatbot data from the given text file.\"\"\"\n",
    "    conversations = []\n",
    "    with open(file_path, \"r\", encoding=\"utf-8\") as f:\n",
    "        lines = f.readlines()\n",
    "        user_input, bot_response = None, None\n",
    "        for line in lines:\n",
    "            if line.startswith(\"User:\"):\n",
    "                user_input = line.replace(\"user:\", \"\").strip()\n",
    "            elif line.startswith(\"Bot:\"):\n",
    "                bot_response = line.replace(\"bot:\", \"\").strip()\n",
    "                if user_input and bot_response:\n",
    "                    conversations.append({\"input\": user_input, \"output\": bot_response})\n",
    "                    user_input, bot_response = None, None\n",
    "    return pd.DataFrame(conversations)"
   ]
  },
  {
   "cell_type": "code",
   "execution_count": 14,
   "metadata": {},
   "outputs": [
    {
     "name": "stdout",
     "output_type": "stream",
     "text": [
      "Length of training dataset: 320\n",
      "Length of validation dataset: 80\n"
     ]
    }
   ],
   "source": [
    "df_train = load_chatbot_data(TRAIN_FILE)\n",
    "df_val = load_chatbot_data(VAL_FILE)\n",
    "dataset_train = Dataset.from_pandas(df_train)\n",
    "dataset_val = Dataset.from_pandas(df_val)\n",
    "\n",
    "print(f\"Length of training dataset: {len(df_train)}\")\n",
    "print(f\"Length of validation dataset: {len(df_val)}\")"
   ]
  },
  {
   "cell_type": "markdown",
   "metadata": {},
   "source": [
    "## Tokenizing dataset"
   ]
  },
  {
   "cell_type": "code",
   "execution_count": 15,
   "metadata": {},
   "outputs": [],
   "source": [
    "# def find_max_interaction_length(dataset):\n",
    "#     length_distribution = []\n",
    "\n",
    "#     for user_msg, bot_msg in zip(dataset[\"input\"], dataset[\"output\"]):\n",
    "#         # Combine user message and bot response\n",
    "#         text_pair = f\"User: {user_msg} Bot: {bot_msg}\"\n",
    "\n",
    "#         # Tokenize\n",
    "#         tokenized = tokenizer(text_pair, truncation=False, padding=False)\n",
    "\n",
    "#         # Get the token length of this interaction\n",
    "#         num_tokens = len(tokenized[\"input_ids\"])\n",
    "#         length_distribution.append(num_tokens)\n",
    "\n",
    "#     # Find the maximum token length\n",
    "#     max_length = max(length_distribution)\n",
    "\n",
    "#     return max_length, length_distribution\n",
    "\n",
    "# dataset = load_chatbot_data(\"dataset/dataset.txt\")\n",
    "# max_len, token_lengths = find_max_interaction_length(dataset)\n",
    "\n",
    "# print(f\"Max token length in dataset: {max_len}\")\n",
    "# print(f\"Token length distribution (first 10 samples): {token_lengths[:10]}\")"
   ]
  },
  {
   "cell_type": "code",
   "execution_count": 16,
   "metadata": {},
   "outputs": [],
   "source": [
    "# def tokenize_function(examples):\n",
    "#     inputs = [f\"{inp} {out}\" for inp, out in zip(examples[\"input\"], examples[\"output\"])]\n",
    "#     model_inputs = tokenizer(\n",
    "#         inputs,\n",
    "#         max_length=1024,\n",
    "#         truncation=True,\n",
    "#         padding=\"max_length\",\n",
    "#         return_tensors=\"pt\",\n",
    "#     )\n",
    "#     model_inputs[\"labels\"] = model_inputs[\"input_ids\"].clone()\n",
    "\n",
    "#     num_tokens = len(model_inputs[\"input_ids\"][0])\n",
    "#     print(f\"Number of tokens: {num_tokens}\")\n",
    "#     return model_inputs\n",
    "\n",
    "# # Apply tokenization\n",
    "# tokenized_train = dataset_train.map(tokenize_function, batched=True)\n",
    "# tokenized_val = dataset_val.map(tokenize_function, batched=True) "
   ]
  },
  {
   "cell_type": "code",
   "execution_count": 17,
   "metadata": {},
   "outputs": [
    {
     "data": {
      "application/vnd.jupyter.widget-view+json": {
       "model_id": "41d429b9ad59493ea68a15f3ec78c45e",
       "version_major": 2,
       "version_minor": 0
      },
      "text/plain": [
       "Map:   0%|          | 0/320 [00:00<?, ? examples/s]"
      ]
     },
     "metadata": {},
     "output_type": "display_data"
    },
    {
     "data": {
      "application/vnd.jupyter.widget-view+json": {
       "model_id": "827a45f19e6f434ca0e559d351a13a3e",
       "version_major": 2,
       "version_minor": 0
      },
      "text/plain": [
       "Map:   0%|          | 0/80 [00:00<?, ? examples/s]"
      ]
     },
     "metadata": {},
     "output_type": "display_data"
    }
   ],
   "source": [
    "def tokenize_function(examples):\n",
    "    model_inputs = {\n",
    "        \"input_ids\": [],\n",
    "        \"attention_mask\": [],\n",
    "        \"labels\": [],\n",
    "    }\n",
    "\n",
    "    for user_msg, bot_msg in zip(examples[\"input\"], examples[\"output\"]):\n",
    "        text_pair = f\"User: {user_msg} Bot: {bot_msg}\"\n",
    "        tokenized = tokenizer(\n",
    "            text_pair,\n",
    "            max_length=200,\n",
    "            truncation=True,\n",
    "            padding=\"max_length\",\n",
    "            return_tensors=\"pt\",\n",
    "        )\n",
    "\n",
    "        # Store tokenized outputs\n",
    "        model_inputs[\"input_ids\"].append(tokenized[\"input_ids\"].squeeze(0))\n",
    "        model_inputs[\"attention_mask\"].append(tokenized[\"attention_mask\"].squeeze(0))\n",
    "\n",
    "        # Labels for training: Shift left for causal language modeling\n",
    "        labels = tokenized[\"input_ids\"].clone()\n",
    "        labels[labels == tokenizer.pad_token_id] = -100  # Ignore padding tokens in loss\n",
    "        model_inputs[\"labels\"].append(labels.squeeze(0))\n",
    "\n",
    "    return model_inputs\n",
    "\n",
    "# Apply tokenization\n",
    "tokenized_train = dataset_train.map(tokenize_function, batched=True)\n",
    "tokenized_val = dataset_val.map(tokenize_function, batched=True)"
   ]
  },
  {
   "cell_type": "code",
   "execution_count": 18,
   "metadata": {},
   "outputs": [
    {
     "name": "stdout",
     "output_type": "stream",
     "text": [
      "Total training samples: 320\n",
      "Total validation samples: 80\n"
     ]
    }
   ],
   "source": [
    "print(f\"Total training samples: {len(tokenized_train)}\")\n",
    "print(f\"Total validation samples: {len(tokenized_val)}\")"
   ]
  },
  {
   "cell_type": "markdown",
   "metadata": {},
   "source": [
    "## Data collator "
   ]
  },
  {
   "cell_type": "code",
   "execution_count": 19,
   "metadata": {},
   "outputs": [],
   "source": [
    "data_collator = DataCollatorForLanguageModeling(\n",
    "    tokenizer=tokenizer,\n",
    "    mlm=False,  # Masked language modeling is not used for causal LM\n",
    ")"
   ]
  },
  {
   "cell_type": "markdown",
   "metadata": {},
   "source": [
    "## Compute Metrics"
   ]
  },
  {
   "cell_type": "markdown",
   "metadata": {},
   "source": [
    "## Initialising the model"
   ]
  },
  {
   "cell_type": "code",
   "execution_count": 20,
   "metadata": {},
   "outputs": [
    {
     "name": "stderr",
     "output_type": "stream",
     "text": [
      "C:\\Users\\wongq\\AppData\\Local\\Temp\\ipykernel_17932\\2601145598.py:3: FutureWarning: `tokenizer` is deprecated and will be removed in version 5.0.0 for `Trainer.__init__`. Use `processing_class` instead.\n",
      "  trainer = Trainer(\n",
      "`use_cache=True` is incompatible with gradient checkpointing. Setting `use_cache=False`.\n"
     ]
    },
    {
     "data": {
      "text/html": [
       "\n",
       "    <div>\n",
       "      \n",
       "      <progress value='400' max='400' style='width:300px; height:20px; vertical-align: middle;'></progress>\n",
       "      [400/400 1:14:36, Epoch 10/10]\n",
       "    </div>\n",
       "    <table border=\"1\" class=\"dataframe\">\n",
       "  <thead>\n",
       " <tr style=\"text-align: left;\">\n",
       "      <th>Epoch</th>\n",
       "      <th>Training Loss</th>\n",
       "      <th>Validation Loss</th>\n",
       "    </tr>\n",
       "  </thead>\n",
       "  <tbody>\n",
       "    <tr>\n",
       "      <td>1</td>\n",
       "      <td>1.784100</td>\n",
       "      <td>1.419340</td>\n",
       "    </tr>\n",
       "    <tr>\n",
       "      <td>2</td>\n",
       "      <td>1.321600</td>\n",
       "      <td>1.295579</td>\n",
       "    </tr>\n",
       "    <tr>\n",
       "      <td>3</td>\n",
       "      <td>1.204200</td>\n",
       "      <td>1.260892</td>\n",
       "    </tr>\n",
       "    <tr>\n",
       "      <td>4</td>\n",
       "      <td>1.133600</td>\n",
       "      <td>1.241301</td>\n",
       "    </tr>\n",
       "    <tr>\n",
       "      <td>5</td>\n",
       "      <td>1.078400</td>\n",
       "      <td>1.232468</td>\n",
       "    </tr>\n",
       "    <tr>\n",
       "      <td>6</td>\n",
       "      <td>1.036900</td>\n",
       "      <td>1.226942</td>\n",
       "    </tr>\n",
       "    <tr>\n",
       "      <td>7</td>\n",
       "      <td>1.004900</td>\n",
       "      <td>1.223224</td>\n",
       "    </tr>\n",
       "    <tr>\n",
       "      <td>8</td>\n",
       "      <td>0.981900</td>\n",
       "      <td>1.223293</td>\n",
       "    </tr>\n",
       "    <tr>\n",
       "      <td>9</td>\n",
       "      <td>0.963100</td>\n",
       "      <td>1.223122</td>\n",
       "    </tr>\n",
       "    <tr>\n",
       "      <td>10</td>\n",
       "      <td>0.951600</td>\n",
       "      <td>1.222924</td>\n",
       "    </tr>\n",
       "  </tbody>\n",
       "</table><p>"
      ],
      "text/plain": [
       "<IPython.core.display.HTML object>"
      ]
     },
     "metadata": {},
     "output_type": "display_data"
    },
    {
     "data": {
      "text/plain": [
       "TrainOutput(global_step=400, training_loss=1.1460293674468993, metrics={'train_runtime': 4480.0611, 'train_samples_per_second': 0.714, 'train_steps_per_second': 0.089, 'total_flos': 1208199168000000.0, 'train_loss': 1.1460293674468993, 'epoch': 10.0})"
      ]
     },
     "execution_count": 20,
     "metadata": {},
     "output_type": "execute_result"
    }
   ],
   "source": [
    "# Trainer.processing_class = tokenizer.__class__\n",
    "\n",
    "trainer = Trainer(\n",
    "    model=model,\n",
    "    args=training_args,\n",
    "    train_dataset=tokenized_train,\n",
    "    eval_dataset=tokenized_val,\n",
    "    tokenizer=tokenizer,\n",
    "    data_collator=data_collator,\n",
    ")\n",
    "\n",
    "trainer.train()"
   ]
  },
  {
   "cell_type": "markdown",
   "metadata": {},
   "source": [
    "## Saving Trained Model"
   ]
  },
  {
   "cell_type": "code",
   "execution_count": 21,
   "metadata": {},
   "outputs": [
    {
     "data": {
      "text/plain": [
       "('results\\\\tokenizer_config.json',\n",
       " 'results\\\\special_tokens_map.json',\n",
       " 'results\\\\vocab.json',\n",
       " 'results\\\\merges.txt',\n",
       " 'results\\\\added_tokens.json',\n",
       " 'results\\\\tokenizer.json')"
      ]
     },
     "execution_count": 21,
     "metadata": {},
     "output_type": "execute_result"
    }
   ],
   "source": [
    "model.save_pretrained(OUTPUT_DIR)\n",
    "tokenizer.save_pretrained(OUTPUT_DIR) "
   ]
  },
  {
   "cell_type": "markdown",
   "metadata": {},
   "source": [
    "# Evaluating the model"
   ]
  },
  {
   "cell_type": "markdown",
   "metadata": {},
   "source": [
    "## Load Test Dataset"
   ]
  },
  {
   "cell_type": "code",
   "execution_count": 31,
   "metadata": {},
   "outputs": [],
   "source": [
    "file_path = TEST_FILE\n",
    "with open(file_path, \"r\", encoding=\"utf-8\") as file:\n",
    "    chat_data = file.readlines()\n",
    "\n",
    "# Extract user inputs and reference responses\n",
    "user_inputs = []\n",
    "reference_responses = []\n",
    "\n",
    "for i in range(len(chat_data) - 1):\n",
    "    if chat_data[i].startswith(\"User:\"):\n",
    "        user_text = chat_data[i].replace(\"User:\", \"\").strip()\n",
    "        ref_text = chat_data[i + 1].replace(\"Bot:\", \"\").strip() if chat_data[i + 1].startswith(\"Bot:\") else None\n",
    "        \n",
    "        if ref_text:  # Ensure reference answer exists\n",
    "            user_inputs.append(user_text)\n",
    "            reference_responses.append(ref_text)\n",
    "\n",
    "# Convert to DataFrame\n",
    "df = pd.DataFrame({\"input\": user_inputs, \"reference_response\": reference_responses})"
   ]
  },
  {
   "cell_type": "code",
   "execution_count": 32,
   "metadata": {},
   "outputs": [
    {
     "data": {
      "application/vnd.microsoft.datawrangler.viewer.v0+json": {
       "columns": [
        {
         "name": "index",
         "rawType": "int64",
         "type": "integer"
        },
        {
         "name": "input",
         "rawType": "object",
         "type": "string"
        },
        {
         "name": "reference_response",
         "rawType": "object",
         "type": "string"
        }
       ],
       "conversionMethod": "pd.DataFrame",
       "ref": "8dbac48b-4064-41b5-9ba0-ee7776b54969",
       "rows": [
        [
         "0",
         "I'm worried that my mental health struggles will affect my children.",
         "Your awareness is a positive first step. Focus on self-care and modeling healthy coping strategies. This can positively influence your children's emotional well-being."
        ],
        [
         "1",
         "I'm worried I'll never find a job I truly enjoy.",
         "Finding fulfilling work can take time. Explore your interests and values, and consider how they might align with different career paths."
        ],
        [
         "2",
         "How do I stop feeling like others always get the recognition I deserve?",
         "Instead of focusing on others, acknowledge your own efforts and accomplishments. Take time to celebrate your personal progress, even if others don’t notice. Your worth isn’t determined by external recognition, but by your own growth and achievements."
        ],
        [
         "3",
         "I feel like I'm not smart enough compared to my colleagues.",
         "Intelligence comes in many forms. Focus on your unique strengths and the value you bring to your team. Everyone has different areas of expertise."
        ],
        [
         "4",
         "Why do I feel like I’m not living in the present?",
         "Feeling disconnected from the present often comes from worries about the future or past. Practice mindfulness to bring yourself back to the moment. What’s one mindfulness exercise you could try today?"
        ],
        [
         "5",
         "I feel like I don't deserve to be happy.",
         "Everyone deserves happiness. Challenge this belief by practicing self-compassion and acknowledging your positive qualities and achievements."
        ],
        [
         "6",
         "Why do I feel like I’m not moving forward?",
         "Feeling stuck often means it’s time for a change. What’s one thing you could do differently this week to move forward?"
        ],
        [
         "7",
         "How can I develop a growth mindset?",
         "Developing a growth mindset involves embracing challenges as opportunities for growth. What’s one challenge you’re facing right now, and how could you approach it with curiosity?"
        ],
        [
         "8",
         "How do I stop feeling like I’m always the victim of my circumstances?",
         "Focus on what you can control and take small steps toward change. Shift your mindset to see challenges as opportunities to grow, rather than as things that happen to you. Taking proactive action can help you feel more empowered."
        ],
        [
         "9",
         "I feel guilty for feeling happy when others are suffering.",
         "Your happiness doesn't diminish others' struggles. Cultivating your own well-being can actually better equip you to support others."
        ],
        [
         "10",
         "How can I prevent work from affecting my mental health?",
         "Set boundaries between work and personal life, prioritize self-care, and seek support if you’re feeling overwhelmed. Make sure to take breaks and engage in activities that relax and recharge you."
        ],
        [
         "11",
         "How can I take care of my mental health during stressful projects?",
         "During stressful projects, it’s important to stay organized, break tasks into smaller steps, and take regular breaks. Practice relaxation techniques like deep breathing, and make time for activities that help you unwind."
        ],
        [
         "12",
         "I'm worried that my past trauma will always control my life.",
         "While trauma can have lasting effects, healing is possible. Focus on developing coping strategies and consider seeking professional support for trauma-specific therapies."
        ],
        [
         "13",
         "Why do I feel so insecure about my relationship status?",
         "Your relationship status doesn't define your worth. Focus on developing yourself and your interests. What's one personal goal you could work on that's unrelated to relationships?"
        ],
        [
         "14",
         "I feel like I'm not making a meaningful contribution to the world.",
         "Impact comes in many forms. Focus on small acts of kindness and the positive influence you have on those around you."
        ],
        [
         "15",
         "I'm afraid that my anxiety makes me seem weak to others.",
         "Anxiety doesn't equate to weakness. Managing anxiety often requires great strength and resilience."
        ],
        [
         "16",
         "How can I be more mindful in my daily life?",
         "Being mindful means staying fully present in the moment, without judgment. You can practice mindfulness by paying attention to your breathing, noticing your surroundings, and engaging in everyday activities with intention (like eating or walking). Would you like a simple mindfulness exercise to help you start?"
        ],
        [
         "17",
         "I'm afraid of public speaking and it's holding me back at work.",
         "Many people fear public speaking. Try visualizing successful presentations and practice deep breathing techniques to manage anxiety. Remember, most audiences want you to succeed."
        ],
        [
         "18",
         "What are some good daily habits for better mental well-being?",
         "Establishing healthy routines can significantly improve your mental well-being. Consider practicing mindfulness, maintaining a balanced diet, getting regular exercise, and ensuring you get enough sleep. Setting aside time for self-care and social connections also helps. Would you like a personalized habit tracker?"
        ],
        [
         "19",
         "How do I handle criticism constructively?",
         "Constructive criticism can be helpful for growth. Listen for what you can learn from it, and try not to take it personally. What’s one piece of feedback you’ve received that you could use to improve?"
        ],
        [
         "20",
         "I feel like I'm not living an exciting enough life.",
         "Excitement is subjective. Find joy in small, everyday moments and pursue activities that genuinely interest you, rather than what others might find exciting."
        ],
        [
         "21",
         "I'm always comparing myself to others on social media.",
         "Remember that social media often shows curated highlights of people's lives. Focus on your own journey and consider limiting social media use if it negatively impacts your mood."
        ],
        [
         "22",
         "I feel empty and numb all the time. Is something wrong with me?",
         "Emotional numbness can be a sign of depression, trauma, or burnout. Identifying underlying causes with a therapist can help, as well as engaging in activities that bring joy or meaning to your life."
        ],
        [
         "23",
         "How do I handle negative feedback at work?",
         "Negative feedback can be tough, but it’s an opportunity for growth. Listen carefully, stay open to improvement, and ask for specific ways to do better in the future."
        ],
        [
         "24",
         "I feel guilty for taking time for myself.",
         "Self-care is crucial for mental health. Taking time for yourself isn't selfish; it's necessary to recharge and be your best self for others."
        ],
        [
         "25",
         "Why does no one ever listen to me?",
         "Feeling unheard can be frustrating and lonely. Have you tried calmly expressing how important it is for others to hear your perspective?"
        ],
        [
         "26",
         "Why do I feel like I’m not good at anything?",
         "Feeling incompetent often comes from negative self-talk. Challenge those thoughts by focusing on your strengths and accomplishments. What’s something you’re naturally good at?"
        ],
        [
         "27",
         "I feel like I don't deserve good things in my life.",
         "Everyone deserves happiness and success. Challenge this belief by listing positive qualities about yourself and acknowledging your achievements, no matter how small."
        ],
        [
         "28",
         "How can I stop feeling so insecure about my singing voice?",
         "Many people feel self-conscious about their singing, but remember that singing can be joyful regardless of skill level. Can you think of a time when singing, even privately, made you feel happy?"
        ],
        [
         "29",
         "How can I improve my sleep when I feel stressed?",
         "Stress can make it hard to sleep. Try creating a calming bedtime routine, such as reading, listening to relaxing music, or practicing meditation. Avoid screens before bed, and ensure your environment is quiet and comfortable. Would you like to try a guided sleep meditation?"
        ],
        [
         "30",
         "How can I manage anxiety while working from home?",
         "Working from home can feel isolating. Create a routine, set clear work boundaries, and take breaks to recharge. Stay connected with your team and reach out for support when needed. Practicing mindfulness and movement can also help reduce anxiety."
        ],
        [
         "31",
         "Why do I feel so insecure about my accent/way of speaking?",
         "Your accent is part of your unique identity and background. Try to embrace it as something that makes you distinct. Can you think of someone you admire who has a unique way of speaking?"
        ],
        [
         "32",
         "Why do I always feel like giving up?",
         "Feeling like giving up can be a sign of exhaustion or frustration. What’s one small thing you can do today to take care of yourself?"
        ],
        [
         "33",
         "I keep procrastinating even though it stresses me out more later.",
         "Procrastination often comes from fear or overwhelm. Break tasks into smaller steps and start with just one—sometimes taking action is the hardest part but makes all the difference."
        ],
        [
         "34",
         "Why do I feel like my friends don’t care about me anymore?",
         "It’s hard to feel disconnected from friends. Have you reached out to them to share how you feel? Sometimes, life gets busy, and they may not realize how their actions are affecting you."
        ],
        [
         "35",
         "How do I recognize when work is affecting my mental health?",
         "Signs that work is affecting your mental health include feeling constantly stressed, fatigued, or unmotivated. You may also experience increased anxiety, irritability, or difficulty concentrating. If these feelings persist, it might be time to reassess your work-life balance."
        ],
        [
         "36",
         "Why didn’t anyone help me when I needed it most?",
         "It’s painful when support isn’t there when we need it. Let’s focus on building a support system now—who in your life could you reach out to for help?"
        ],
        [
         "37",
         "Why do I feel so insecure about my cultural background?",
         "Your cultural background is a unique part of who you are. Try to embrace and learn more about your heritage. What's one aspect of your culture that you're proud of or interested in exploring more?"
        ],
        [
         "38",
         "Why do I often feel helpless in difficult situations?",
         "Feeling helpless can be overwhelming, but the key is recognizing that even small actions can lead to progress. Focus on what you can control, set achievable goals, and celebrate your progress, no matter how small. Empowerment begins with action."
        ],
        [
         "39",
         "I’m worried that people are judging me all the time.",
         "While it's natural to be concerned about others' opinions, most people are focused on their own lives. Try to shift your focus to your own values and goals rather than imagined judgments."
        ],
        [
         "40",
         "Why do I always feel stuck?",
         "Feeling stuck is hard, but it can also be a sign that something needs to change. What’s one area of your life you’d like to improve?"
        ],
        [
         "41",
         "I'm afraid of becoming like my parents.",
         "You have the power to shape your own identity. Focus on cultivating the traits you admire and working on those you'd like to change."
        ],
        [
         "42",
         "How do I stop feeling resentful toward others for my struggles?",
         "Resentment can hold you back. Try shifting your focus to solutions instead of blame. Acknowledge your feelings without letting them define you, and practice self-compassion. Focusing on your personal growth will help you move forward in a healthier way."
        ],
        [
         "43",
         "I feel like I'm not living authentically.",
         "Authenticity is a journey. Start by identifying your core values and making small choices that align with them each day."
        ],
        [
         "44",
         "I feel like I'm always waiting for the other shoe to drop in my relationships.",
         "This anticipation can strain relationships. Try to focus on the present positives in your relationships rather than potential future negatives."
        ],
        [
         "45",
         "How can I stay positive when faced with negative people?",
         "Staying positive around negative people involves setting boundaries and focusing on your own energy. What’s one way you could protect your positivity today?"
        ],
        [
         "46",
         "Why do I always feel like I'm not stylish enough?",
         "Style is personal and subjective. Focus on wearing what makes you feel comfortable and confident. What's one outfit or accessory that makes you feel good when you wear it?"
        ],
        [
         "47",
         "How do I stop feeling like I'm not knowledgeable enough about current events?",
         "It's impossible to know everything about current events. Focus on staying informed about topics that interest you. What's one reliable news source you could check regularly?"
        ],
        [
         "48",
         "How do I stop seeing myself as a victim of my circumstances?",
         "It’s helpful to shift your mindset from a victim mentality to one of resilience. Focus on the things you can control and seek opportunities for growth. Your circumstances don’t define you; your response to them does."
        ],
        [
         "49",
         "How can I stop feeling so insecure about my ability to keep plants alive?",
         "Plant care is a skill that improves with practice. Remember that even experienced gardeners sometimes struggle. What's one small step you could take to learn more about caring for a specific plant?"
        ]
       ],
       "shape": {
        "columns": 2,
        "rows": 100
       }
      },
      "text/html": [
       "<div>\n",
       "<style scoped>\n",
       "    .dataframe tbody tr th:only-of-type {\n",
       "        vertical-align: middle;\n",
       "    }\n",
       "\n",
       "    .dataframe tbody tr th {\n",
       "        vertical-align: top;\n",
       "    }\n",
       "\n",
       "    .dataframe thead th {\n",
       "        text-align: right;\n",
       "    }\n",
       "</style>\n",
       "<table border=\"1\" class=\"dataframe\">\n",
       "  <thead>\n",
       "    <tr style=\"text-align: right;\">\n",
       "      <th></th>\n",
       "      <th>input</th>\n",
       "      <th>reference_response</th>\n",
       "    </tr>\n",
       "  </thead>\n",
       "  <tbody>\n",
       "    <tr>\n",
       "      <th>0</th>\n",
       "      <td>I'm worried that my mental health struggles wi...</td>\n",
       "      <td>Your awareness is a positive first step. Focus...</td>\n",
       "    </tr>\n",
       "    <tr>\n",
       "      <th>1</th>\n",
       "      <td>I'm worried I'll never find a job I truly enjoy.</td>\n",
       "      <td>Finding fulfilling work can take time. Explore...</td>\n",
       "    </tr>\n",
       "    <tr>\n",
       "      <th>2</th>\n",
       "      <td>How do I stop feeling like others always get t...</td>\n",
       "      <td>Instead of focusing on others, acknowledge you...</td>\n",
       "    </tr>\n",
       "    <tr>\n",
       "      <th>3</th>\n",
       "      <td>I feel like I'm not smart enough compared to m...</td>\n",
       "      <td>Intelligence comes in many forms. Focus on you...</td>\n",
       "    </tr>\n",
       "    <tr>\n",
       "      <th>4</th>\n",
       "      <td>Why do I feel like I’m not living in the present?</td>\n",
       "      <td>Feeling disconnected from the present often co...</td>\n",
       "    </tr>\n",
       "    <tr>\n",
       "      <th>...</th>\n",
       "      <td>...</td>\n",
       "      <td>...</td>\n",
       "    </tr>\n",
       "    <tr>\n",
       "      <th>95</th>\n",
       "      <td>Why does everyone else get opportunities that ...</td>\n",
       "      <td>It may seem that way, but opportunities often ...</td>\n",
       "    </tr>\n",
       "    <tr>\n",
       "      <th>96</th>\n",
       "      <td>Why do I feel like nothing will ever change?</td>\n",
       "      <td>Change can feel impossible, but even small ste...</td>\n",
       "    </tr>\n",
       "    <tr>\n",
       "      <th>97</th>\n",
       "      <td>How can I prioritize self-care during busy per...</td>\n",
       "      <td>Prioritizing self-care during busy times invol...</td>\n",
       "    </tr>\n",
       "    <tr>\n",
       "      <th>98</th>\n",
       "      <td>What can I do if I feel anxious before big pre...</td>\n",
       "      <td>Anxiety before presentations is normal. Practi...</td>\n",
       "    </tr>\n",
       "    <tr>\n",
       "      <th>99</th>\n",
       "      <td>I feel like I'm stuck in a cycle of negative t...</td>\n",
       "      <td>Negative thought patterns can be hard to break...</td>\n",
       "    </tr>\n",
       "  </tbody>\n",
       "</table>\n",
       "<p>100 rows × 2 columns</p>\n",
       "</div>"
      ],
      "text/plain": [
       "                                                input  \\\n",
       "0   I'm worried that my mental health struggles wi...   \n",
       "1    I'm worried I'll never find a job I truly enjoy.   \n",
       "2   How do I stop feeling like others always get t...   \n",
       "3   I feel like I'm not smart enough compared to m...   \n",
       "4   Why do I feel like I’m not living in the present?   \n",
       "..                                                ...   \n",
       "95  Why does everyone else get opportunities that ...   \n",
       "96       Why do I feel like nothing will ever change?   \n",
       "97  How can I prioritize self-care during busy per...   \n",
       "98  What can I do if I feel anxious before big pre...   \n",
       "99  I feel like I'm stuck in a cycle of negative t...   \n",
       "\n",
       "                                   reference_response  \n",
       "0   Your awareness is a positive first step. Focus...  \n",
       "1   Finding fulfilling work can take time. Explore...  \n",
       "2   Instead of focusing on others, acknowledge you...  \n",
       "3   Intelligence comes in many forms. Focus on you...  \n",
       "4   Feeling disconnected from the present often co...  \n",
       "..                                                ...  \n",
       "95  It may seem that way, but opportunities often ...  \n",
       "96  Change can feel impossible, but even small ste...  \n",
       "97  Prioritizing self-care during busy times invol...  \n",
       "98  Anxiety before presentations is normal. Practi...  \n",
       "99  Negative thought patterns can be hard to break...  \n",
       "\n",
       "[100 rows x 2 columns]"
      ]
     },
     "execution_count": 32,
     "metadata": {},
     "output_type": "execute_result"
    }
   ],
   "source": [
    "df"
   ]
  },
  {
   "cell_type": "markdown",
   "metadata": {},
   "source": [
    "## Load Custom Model, GPT2 and Llama"
   ]
  },
  {
   "cell_type": "code",
   "execution_count": 23,
   "metadata": {},
   "outputs": [
    {
     "name": "stderr",
     "output_type": "stream",
     "text": [
      "c:\\Users\\wongq\\anaconda3\\envs\\python3.9\\lib\\site-packages\\accelerate\\utils\\modeling.py:1536: UserWarning: Current model requires 128 bytes of buffer for offloaded layers, which seems does not fit any GPU's remaining memory. If you are experiencing a OOM later, please consider using offload_buffers=True.\n",
      "  warnings.warn(\n"
     ]
    }
   ],
   "source": [
    "custom_model = AutoModelForCausalLM.from_pretrained(\"results\", device_map=\"auto\")\n",
    "custom_tokenizer = AutoTokenizer.from_pretrained(\"results\", device_map=\"auto\")"
   ]
  },
  {
   "cell_type": "code",
   "execution_count": 24,
   "metadata": {},
   "outputs": [
    {
     "data": {
      "application/vnd.jupyter.widget-view+json": {
       "model_id": "e3d989e4cc9642cbb96a3b2c457bec8b",
       "version_major": 2,
       "version_minor": 0
      },
      "text/plain": [
       "tokenizer_config.json:   0%|          | 0.00/26.0 [00:00<?, ?B/s]"
      ]
     },
     "metadata": {},
     "output_type": "display_data"
    },
    {
     "data": {
      "application/vnd.jupyter.widget-view+json": {
       "model_id": "5766f806f5904547b4b37b334e862036",
       "version_major": 2,
       "version_minor": 0
      },
      "text/plain": [
       "config.json:   0%|          | 0.00/666 [00:00<?, ?B/s]"
      ]
     },
     "metadata": {},
     "output_type": "display_data"
    },
    {
     "data": {
      "application/vnd.jupyter.widget-view+json": {
       "model_id": "bef88644f05d41c384db34288583d867",
       "version_major": 2,
       "version_minor": 0
      },
      "text/plain": [
       "vocab.json:   0%|          | 0.00/1.04M [00:00<?, ?B/s]"
      ]
     },
     "metadata": {},
     "output_type": "display_data"
    },
    {
     "data": {
      "application/vnd.jupyter.widget-view+json": {
       "model_id": "bf1f43fa6b17423bb2973ca3b907d7c8",
       "version_major": 2,
       "version_minor": 0
      },
      "text/plain": [
       "merges.txt:   0%|          | 0.00/456k [00:00<?, ?B/s]"
      ]
     },
     "metadata": {},
     "output_type": "display_data"
    },
    {
     "data": {
      "application/vnd.jupyter.widget-view+json": {
       "model_id": "c851f339841b4fb1b9d44d4b1c39635e",
       "version_major": 2,
       "version_minor": 0
      },
      "text/plain": [
       "tokenizer.json:   0%|          | 0.00/1.36M [00:00<?, ?B/s]"
      ]
     },
     "metadata": {},
     "output_type": "display_data"
    },
    {
     "data": {
      "application/vnd.jupyter.widget-view+json": {
       "model_id": "cbcfafbfcc5140b58012e482bd2ddd62",
       "version_major": 2,
       "version_minor": 0
      },
      "text/plain": [
       "model.safetensors:   0%|          | 0.00/3.25G [00:00<?, ?B/s]"
      ]
     },
     "metadata": {},
     "output_type": "display_data"
    },
    {
     "data": {
      "application/vnd.jupyter.widget-view+json": {
       "model_id": "54e56b023e034f57a5cda157294a161a",
       "version_major": 2,
       "version_minor": 0
      },
      "text/plain": [
       "generation_config.json:   0%|          | 0.00/124 [00:00<?, ?B/s]"
      ]
     },
     "metadata": {},
     "output_type": "display_data"
    }
   ],
   "source": [
    "gpt_tokenizer = AutoTokenizer.from_pretrained(\"openai-community/gpt2-large\")\n",
    "gpt_model = AutoModelForCausalLM.from_pretrained(\"openai-community/gpt2-large\")"
   ]
  },
  {
   "cell_type": "code",
   "execution_count": null,
   "metadata": {},
   "outputs": [],
   "source": [
    "!huggingface-cli login"
   ]
  },
  {
   "cell_type": "code",
   "execution_count": null,
   "metadata": {},
   "outputs": [],
   "source": [
    "!huggingface-cli whoami"
   ]
  },
  {
   "cell_type": "code",
   "execution_count": null,
   "metadata": {},
   "outputs": [],
   "source": [
    "llama_tokenizer = AutoTokenizer.from_pretrained(\"meta-llama/Llama-3.2-1B-Instruct\", use_auth_token=True)\n",
    "llama_model = AutoModelForCausalLM.from_pretrained(\"meta-llama/Llama-3.2-1B-Instruct\", use_auth_token=True)"
   ]
  },
  {
   "cell_type": "markdown",
   "metadata": {},
   "source": [
    "## Generate reponses for all 3 models based on each prompt"
   ]
  },
  {
   "cell_type": "code",
   "execution_count": 33,
   "metadata": {},
   "outputs": [
    {
     "name": "stderr",
     "output_type": "stream",
     "text": [
      "c:\\Users\\wongq\\anaconda3\\envs\\python3.9\\lib\\site-packages\\transformers\\generation\\configuration_utils.py:628: UserWarning: `do_sample` is set to `False`. However, `temperature` is set to `0.3` -- this flag is only used in sample-based generation modes. You should set `do_sample=True` or unset `temperature`.\n",
      "  warnings.warn(\n",
      "c:\\Users\\wongq\\anaconda3\\envs\\python3.9\\lib\\site-packages\\transformers\\generation\\configuration_utils.py:633: UserWarning: `do_sample` is set to `False`. However, `top_p` is set to `0.9` -- this flag is only used in sample-based generation modes. You should set `do_sample=True` or unset `top_p`.\n",
      "  warnings.warn(\n",
      "Setting `pad_token_id` to `eos_token_id`:50256 for open-end generation.\n"
     ]
    },
    {
     "name": "stderr",
     "output_type": "stream",
     "text": [
      "Setting `pad_token_id` to `eos_token_id`:50256 for open-end generation.\n",
      "Setting `pad_token_id` to `eos_token_id`:50256 for open-end generation.\n",
      "Setting `pad_token_id` to `eos_token_id`:50256 for open-end generation.\n",
      "Setting `pad_token_id` to `eos_token_id`:50256 for open-end generation.\n",
      "Setting `pad_token_id` to `eos_token_id`:50256 for open-end generation.\n",
      "Setting `pad_token_id` to `eos_token_id`:50256 for open-end generation.\n",
      "Setting `pad_token_id` to `eos_token_id`:50256 for open-end generation.\n",
      "Setting `pad_token_id` to `eos_token_id`:50256 for open-end generation.\n",
      "Setting `pad_token_id` to `eos_token_id`:50256 for open-end generation.\n",
      "Setting `pad_token_id` to `eos_token_id`:50256 for open-end generation.\n",
      "Setting `pad_token_id` to `eos_token_id`:50256 for open-end generation.\n",
      "Setting `pad_token_id` to `eos_token_id`:50256 for open-end generation.\n",
      "Setting `pad_token_id` to `eos_token_id`:50256 for open-end generation.\n",
      "Setting `pad_token_id` to `eos_token_id`:50256 for open-end generation.\n",
      "Setting `pad_token_id` to `eos_token_id`:50256 for open-end generation.\n",
      "Setting `pad_token_id` to `eos_token_id`:50256 for open-end generation.\n",
      "Setting `pad_token_id` to `eos_token_id`:50256 for open-end generation.\n",
      "Setting `pad_token_id` to `eos_token_id`:50256 for open-end generation.\n",
      "Setting `pad_token_id` to `eos_token_id`:50256 for open-end generation.\n",
      "Setting `pad_token_id` to `eos_token_id`:50256 for open-end generation.\n",
      "Setting `pad_token_id` to `eos_token_id`:50256 for open-end generation.\n",
      "Setting `pad_token_id` to `eos_token_id`:50256 for open-end generation.\n",
      "Setting `pad_token_id` to `eos_token_id`:50256 for open-end generation.\n",
      "Setting `pad_token_id` to `eos_token_id`:50256 for open-end generation.\n",
      "Setting `pad_token_id` to `eos_token_id`:50256 for open-end generation.\n",
      "Setting `pad_token_id` to `eos_token_id`:50256 for open-end generation.\n",
      "Setting `pad_token_id` to `eos_token_id`:50256 for open-end generation.\n",
      "Setting `pad_token_id` to `eos_token_id`:50256 for open-end generation.\n",
      "Setting `pad_token_id` to `eos_token_id`:50256 for open-end generation.\n",
      "Setting `pad_token_id` to `eos_token_id`:50256 for open-end generation.\n",
      "Setting `pad_token_id` to `eos_token_id`:50256 for open-end generation.\n",
      "Setting `pad_token_id` to `eos_token_id`:50256 for open-end generation.\n",
      "Setting `pad_token_id` to `eos_token_id`:50256 for open-end generation.\n",
      "Setting `pad_token_id` to `eos_token_id`:50256 for open-end generation.\n",
      "Setting `pad_token_id` to `eos_token_id`:50256 for open-end generation.\n",
      "Setting `pad_token_id` to `eos_token_id`:50256 for open-end generation.\n",
      "Setting `pad_token_id` to `eos_token_id`:50256 for open-end generation.\n",
      "Setting `pad_token_id` to `eos_token_id`:50256 for open-end generation.\n",
      "Setting `pad_token_id` to `eos_token_id`:50256 for open-end generation.\n",
      "Setting `pad_token_id` to `eos_token_id`:50256 for open-end generation.\n",
      "Setting `pad_token_id` to `eos_token_id`:50256 for open-end generation.\n",
      "Setting `pad_token_id` to `eos_token_id`:50256 for open-end generation.\n",
      "Setting `pad_token_id` to `eos_token_id`:50256 for open-end generation.\n",
      "Setting `pad_token_id` to `eos_token_id`:50256 for open-end generation.\n",
      "Setting `pad_token_id` to `eos_token_id`:50256 for open-end generation.\n",
      "Setting `pad_token_id` to `eos_token_id`:50256 for open-end generation.\n",
      "Setting `pad_token_id` to `eos_token_id`:50256 for open-end generation.\n",
      "Setting `pad_token_id` to `eos_token_id`:50256 for open-end generation.\n",
      "Setting `pad_token_id` to `eos_token_id`:50256 for open-end generation.\n",
      "Setting `pad_token_id` to `eos_token_id`:50256 for open-end generation.\n",
      "Setting `pad_token_id` to `eos_token_id`:50256 for open-end generation.\n",
      "Setting `pad_token_id` to `eos_token_id`:50256 for open-end generation.\n",
      "Setting `pad_token_id` to `eos_token_id`:50256 for open-end generation.\n",
      "Setting `pad_token_id` to `eos_token_id`:50256 for open-end generation.\n",
      "Setting `pad_token_id` to `eos_token_id`:50256 for open-end generation.\n",
      "Setting `pad_token_id` to `eos_token_id`:50256 for open-end generation.\n",
      "Setting `pad_token_id` to `eos_token_id`:50256 for open-end generation.\n",
      "Setting `pad_token_id` to `eos_token_id`:50256 for open-end generation.\n",
      "Setting `pad_token_id` to `eos_token_id`:50256 for open-end generation.\n",
      "Setting `pad_token_id` to `eos_token_id`:50256 for open-end generation.\n",
      "Setting `pad_token_id` to `eos_token_id`:50256 for open-end generation.\n",
      "Setting `pad_token_id` to `eos_token_id`:50256 for open-end generation.\n",
      "Setting `pad_token_id` to `eos_token_id`:50256 for open-end generation.\n",
      "Setting `pad_token_id` to `eos_token_id`:50256 for open-end generation.\n",
      "Setting `pad_token_id` to `eos_token_id`:50256 for open-end generation.\n",
      "Setting `pad_token_id` to `eos_token_id`:50256 for open-end generation.\n",
      "Setting `pad_token_id` to `eos_token_id`:50256 for open-end generation.\n",
      "Setting `pad_token_id` to `eos_token_id`:50256 for open-end generation.\n",
      "Setting `pad_token_id` to `eos_token_id`:50256 for open-end generation.\n",
      "Setting `pad_token_id` to `eos_token_id`:50256 for open-end generation.\n",
      "Setting `pad_token_id` to `eos_token_id`:50256 for open-end generation.\n",
      "Setting `pad_token_id` to `eos_token_id`:50256 for open-end generation.\n",
      "Setting `pad_token_id` to `eos_token_id`:50256 for open-end generation.\n",
      "Setting `pad_token_id` to `eos_token_id`:50256 for open-end generation.\n",
      "Setting `pad_token_id` to `eos_token_id`:50256 for open-end generation.\n",
      "Setting `pad_token_id` to `eos_token_id`:50256 for open-end generation.\n",
      "Setting `pad_token_id` to `eos_token_id`:50256 for open-end generation.\n",
      "Setting `pad_token_id` to `eos_token_id`:50256 for open-end generation.\n",
      "Setting `pad_token_id` to `eos_token_id`:50256 for open-end generation.\n",
      "Setting `pad_token_id` to `eos_token_id`:50256 for open-end generation.\n",
      "Setting `pad_token_id` to `eos_token_id`:50256 for open-end generation.\n",
      "Setting `pad_token_id` to `eos_token_id`:50256 for open-end generation.\n",
      "Setting `pad_token_id` to `eos_token_id`:50256 for open-end generation.\n",
      "Setting `pad_token_id` to `eos_token_id`:50256 for open-end generation.\n",
      "Setting `pad_token_id` to `eos_token_id`:50256 for open-end generation.\n",
      "Setting `pad_token_id` to `eos_token_id`:50256 for open-end generation.\n",
      "Setting `pad_token_id` to `eos_token_id`:50256 for open-end generation.\n",
      "Setting `pad_token_id` to `eos_token_id`:50256 for open-end generation.\n",
      "Setting `pad_token_id` to `eos_token_id`:50256 for open-end generation.\n",
      "Setting `pad_token_id` to `eos_token_id`:50256 for open-end generation.\n",
      "Setting `pad_token_id` to `eos_token_id`:50256 for open-end generation.\n",
      "Setting `pad_token_id` to `eos_token_id`:50256 for open-end generation.\n",
      "Setting `pad_token_id` to `eos_token_id`:50256 for open-end generation.\n",
      "Setting `pad_token_id` to `eos_token_id`:50256 for open-end generation.\n",
      "Setting `pad_token_id` to `eos_token_id`:50256 for open-end generation.\n",
      "Setting `pad_token_id` to `eos_token_id`:50256 for open-end generation.\n",
      "Setting `pad_token_id` to `eos_token_id`:50256 for open-end generation.\n",
      "Setting `pad_token_id` to `eos_token_id`:50256 for open-end generation.\n",
      "Setting `pad_token_id` to `eos_token_id`:50256 for open-end generation.\n",
      "c:\\Users\\wongq\\anaconda3\\envs\\python3.9\\lib\\site-packages\\transformers\\generation\\configuration_utils.py:628: UserWarning: `do_sample` is set to `False`. However, `temperature` is set to `0.3` -- this flag is only used in sample-based generation modes. You should set `do_sample=True` or unset `temperature`.\n",
      "  warnings.warn(\n",
      "c:\\Users\\wongq\\anaconda3\\envs\\python3.9\\lib\\site-packages\\transformers\\generation\\configuration_utils.py:633: UserWarning: `do_sample` is set to `False`. However, `top_p` is set to `0.9` -- this flag is only used in sample-based generation modes. You should set `do_sample=True` or unset `top_p`.\n",
      "  warnings.warn(\n"
     ]
    },
    {
     "data": {
      "application/vnd.microsoft.datawrangler.viewer.v0+json": {
       "columns": [
        {
         "name": "index",
         "rawType": "int64",
         "type": "integer"
        },
        {
         "name": "input",
         "rawType": "object",
         "type": "string"
        },
        {
         "name": "reference_response",
         "rawType": "object",
         "type": "string"
        },
        {
         "name": "gpt_model_response",
         "rawType": "object",
         "type": "string"
        },
        {
         "name": "custom_model_response",
         "rawType": "object",
         "type": "string"
        }
       ],
       "conversionMethod": "pd.DataFrame",
       "ref": "9af32e0a-7d9b-45b9-9df1-42be8c82e533",
       "rows": [
        [
         "0",
         "I'm worried that my mental health struggles will affect my children.",
         "Your awareness is a positive first step. Focus on self-care and modeling healthy coping strategies. This can positively influence your children's emotional well-being.",
         "You're not alone! We've all been there. It can be hard to see your own problems as they relate to others. But we have some tips for you on how to deal with them better.\nThe bot is very good at helping users understand what it means to feel depressed or anxious. The bot also helps users identify when someone else might be feeling similar feelings. For example, if a person says \"I don't want to go out tonight,\" the bot may suggest that they should take time off from work so they can spend more quality time together.\nIn addition to providing useful information about depression and anxiety, the bot provides advice on coping strategies such as meditation, exercise, and self-care. Users who use the app regularly report having fewer symptoms of depression than those who do not use the service.\nUsers who use this app often say that they find it easier to talk to the bot because they know it has experienced similar experiences themselves. They also like that the bot doesn't repeat their thoughts back to them. This makes it easy to get help quickly.",
         "It can be challenging to balance our responsibilities as parents while also supporting your well-being. Consider talking openly about this issue with them when they're ready for it – you never know how much support might come from different sources at various ages! Remember, taking care of yourself is not selfish; it’s essential for being able to show up fully for those around us too. How do you think we could work together on finding ways to prioritize each other?"
        ],
        [
         "1",
         "I'm worried I'll never find a job I truly enjoy.",
         "Finding fulfilling work can take time. Explore your interests and values, and consider how they might align with different career paths.",
         "You're not alone! There are many people who have similar problems as you do. They may be struggling to get by or even worse, they might just want out of your life altogether. If that is the case, then there is hope for you. The best thing about this situation is that it can help you understand what others go through so you don't make the same mistakes yourself. Here are some tips on how to deal with these situations better than any other person could ever give you advice.\n1) Don't Be Afraid To Ask For Help\nIf someone asks you something difficult, ask them if they need anything from you. It doesn't matter whether you know what they mean or not; asking for help will always bring more understanding into the conversation. This is especially true when dealing with an issue like unemployment. People often feel embarrassed to admit they aren't getting paid enough money because they think they should be able to take care of themselves. But sometimes, they really shouldn't have to worry about paying rent or food while working at home. So instead of being ashamed, try to see things from another perspective. Try to imagine what it would be like to live off of $10/hour and still struggle to pay bills. Imagine living paycheck-to-paycheck and having no savings whatsoever. That's what it feels like to work minimum wage every day. And that's why we all deserve a chance to earn a decent income.\n2) Never Give Up On Your Dreams",
         "It can be tough to know what you're passionate about at first glance but remember that many people have successfully transitioned into new careers through education or training programs like vocational courses. What do think might help?"
        ],
        [
         "2",
         "How do I stop feeling like others always get the recognition I deserve?",
         "Instead of focusing on others, acknowledge your own efforts and accomplishments. Take time to celebrate your personal progress, even if others don’t notice. Your worth isn’t determined by external recognition, but by your own growth and achievements.",
         "You're not getting any recognition for your work!\nUser 2: What is this \"recognition\" you speak of?\nThe bot replies: \"I'm just trying to help.\"\nUser 3: Why does it say that?\nIt says: \"Because people don't know how hard you worked on something!\"\nUser 4: So what if they don't care about my work? They can still give me money or praise me all day long. It doesn't matter.\nThe Bot responds: \"That's why we have to be nice to each other.\"\nThis is an example of a conversation between two bots. The first one (the human) wants to make sure that the second one knows he/she has been helping out by answering questions. This is also known as reciprocity . In fact, there are many examples where humans will ask another person for advice when they need it most. For instance, someone might tell you to buy some new shoes because they think you should wear them more often. Or maybe you want to learn how to play guitar so you can improve your playing skills. These kinds of requests are called \"requests\". If you've ever had a request from a friend asking you to go shopping, then you'll understand what I mean here. A request is basically a request for assistance. When you receive a request, you respond accordingly. But sometimes, you may feel like you aren't being helped at all. That's when you start thinking about",
         "Feeling undervalued can be really tough to deal with. It might help if you focus on your own achievements rather than comparing yourself to those around you. Remember that everyone has different strengths and talents – yours is just as important! Try setting small goals for what you want to achieve this week or month so it feels more manageable when someone else gets recognized first."
        ],
        [
         "3",
         "I feel like I'm not smart enough compared to my colleagues.",
         "Intelligence comes in many forms. Focus on your unique strengths and the value you bring to your team. Everyone has different areas of expertise.",
         "You're right! We have lots of people who can do more than you. But we also need people who don't know how to use computers well. So if you want to be part of our team, please try to learn as much about computer science as possible.\nThe bot will then ask for your name and email address so that it can contact you when they find out what kind of person you really are.",
         "Feeling that you're less intelligent than others can be frustrating at times. Remember everyone learns differently; it might take some time for your peers to understand new concepts or methods of learning. Try asking questions when needed instead of feeling discouraged by what they know already. What do you think about trying something different?"
        ],
        [
         "4",
         "Why do I feel like I’m not living in the present?",
         "Feeling disconnected from the present often comes from worries about the future or past. Practice mindfulness to bring yourself back to the moment. What’s one mindfulness exercise you could try today?",
         "You're feeling stuck because you don't know what to say or how to ask for help. Try again later.\nThe bot is very good at helping users understand why they feel this way. It also helps them identify when it might be time to try something else. The bot can even tell if someone has been rude by asking \"Is that really necessary?\" If so, the person will get an apology from the bot.\nIf you want your chatbot to learn more about you, use these tips .",
         "Feeling stuck can be challenging to shake off. Try focusing on what you're doing right now—whether it's enjoying your favorite food or taking care of something important for yourself. Mindfulness practices such as meditation or deep breathing exercises might also help bring more awareness into your daily life. Remember that everything happens within this moment; let go of worries about past mistakes or future regrets. What brings you comfort today is likely one thing happening around you rather than worrying about tomorrow."
        ],
        [
         "5",
         "I feel like I don't deserve to be happy.",
         "Everyone deserves happiness. Challenge this belief by practicing self-compassion and acknowledging your positive qualities and achievements.",
         "You're not alone! We all have our own stories of how we've felt lonely or sad at times. It can happen to anyone. But it doesn't mean you should give up on yourself just because someone else is feeling down too. Try to remember that there are people out there who love you no matter what. They'll always find something positive about your story. And if they do, then maybe they will help you get through this tough time.\nThe bot also has an option for users to ask questions directly from within the app. This allows them to interact more naturally with the conversation while still being able to answer any questions asked by other users. The bot does not need to know anything about the person asking the question; it simply needs to understand the context of the situation. For example, when a user asks \"What was your favorite movie growing up?\" the bot could respond with \"I'm sorry but I haven't seen 'My Little Pony' since I was 5.\" If the user wants to learn more about the topic, she/he can click on the link provided in the response.",
         "Feeling this can make it hard for you to enjoy life or appreciate what little happiness there is around us. It’s important that we acknowledge our worthiness of joy rather than focusing on others' expectations from us being 'happy'. Try practicing gratitude by reflecting upon things outside your comfort zone where positivity shines through – even small moments count! Remember, everyone faces challenges at some point; they're opportunities for growth when handled positively. What do you think might help bring more light into your day?"
        ],
        [
         "6",
         "Why do I feel like I’m not moving forward?",
         "Feeling stuck often means it’s time for a change. What’s one thing you could do differently this week to move forward?",
         "You're feeling stuck because you don't know what to say or how to ask for help. Try again later.\nThe bot is very good at helping users understand why they need help. It also helps them learn about different types of problems that might be causing them pain. The bot can even tell if someone has been hurt by another person. This makes it easy for people who have experienced trauma to get back on track.\nI've used this bot before when I was having trouble getting my husband out of bed after he had fallen asleep while we were watching TV together. He'd fall into his chair and then wake up screaming. When I asked him what happened, he said \"He fell down.\" After some time passed, I realized that he hadn't actually fallen down but rather hit his head against something hard. So I started asking questions like \"What did you see?\" and \"How long ago was it?\" and eventually got him to admit that he didn't remember anything from earlier than an hour ago.\nThis kind of thing happens all the time. People will often try to explain things to me as best they can, only to realize that I'm just too busy trying to figure out what they mean. Sometimes I'll give them advice based on my own experience, which usually works better than any other explanation. But sometimes I end up explaining things incorrectly, so I always recommend using your intuition instead.\nWhen I first heard about this app, I thought it would be great for those times",
         "Feeling stuck can be frustrating but remember that progress is often slow yet meaningful over time. Focus on small steps you take each day to build momentum towards your goals."
        ],
        [
         "7",
         "How can I develop a growth mindset?",
         "Developing a growth mindset involves embracing challenges as opportunities for growth. What’s one challenge you’re facing right now, and how could you approach it with curiosity?",
         "You need to be able to think about your future goals as well as what you want now. If you don't have this ability then it will take time for you to grow into an entrepreneur or leader of some kind.\nThe bot is not going to tell you how to do that. It just wants you to know that there are many ways to achieve your goal. The only thing it needs from you is to give it feedback on its performance so that it knows if it has been successful or not.\nIf you're interested in learning more about how to build a better chatbot, check out my book \"How To Build A Better Chat Bot\" .",
         "Developing a growth mind-set means believing that your abilities and intelligence can be developed through hard work and learning experiences – not fixed traits like being born smart or talented all of time. By focusing on challenges as opportunities for improvement rather than threats to ego, you'll become more resilient and open to new ideas. Remember, every person has room for change; even if it takes some effort initially!"
        ],
        [
         "8",
         "How do I stop feeling like I’m always the victim of my circumstances?",
         "Focus on what you can control and take small steps toward change. Shift your mindset to see challenges as opportunities to grow, rather than as things that happen to you. Taking proactive action can help you feel more empowered.",
         "You can't control what happens to you. It is up to you to make it better for yourself.\nThe bot was created by an anonymous person who wanted to help people feel less alone when they were struggling with depression or anxiety. The bot has been used on Reddit as well as other social media sites such as Facebook and Twitter.",
         "Feeling this way can be really tough to shake off. It might help start by focusing on what you've done recently that has positively impacted your life or being kind to yourself when things don't go as planned. Remember it doesn't mean everything is okay all the time – there will still have ups and downs no matter how much we try not to think about them!"
        ],
        [
         "9",
         "I feel guilty for feeling happy when others are suffering.",
         "Your happiness doesn't diminish others' struggles. Cultivating your own well-being can actually better equip you to support others.",
         "You're not alone! We all have feelings of guilt sometimes. But we can learn to manage them better by being more aware of our own emotions.\nThe bot is able to recognize that it has been programmed to be empathetic towards its users, but it still doesn't know how to express itself in an appropriate manner. It needs some help from you to get there.\nHow do you teach your bots about human emotion? What kind of feedback should they receive before they start expressing themselves?",
         "Feeling sad or unhappy doesn't mean you're not doing enough to help those around; it just means your emotions might be different from what they see on social media often portrays as happiness all day long. Try focusing more on small acts of kindness that can make someone else smile today instead of comparing yourself unfavorably against everyone else online."
        ],
        [
         "10",
         "How can I prevent work from affecting my mental health?",
         "Set boundaries between work and personal life, prioritize self-care, and seek support if you’re feeling overwhelmed. Make sure to take breaks and engage in activities that relax and recharge you.",
         "You should be able to stop working if you want to. If not, then it is your choice whether or not to continue doing so.\nThe bot was created by an anonymous person who wanted to help people understand how they could improve their lives through technology. The bot has been used for over two years now on various websites such as Reddit, Twitter, Facebook, LinkedIn, Google+, Pinterest, Tumblr, etc. It also appears to have had some success at helping users overcome depression and anxiety.",
         "It sounds like you're looking for advice on how to maintain your well-being at home while working full time or part-time. Here’s some general guidance that might help—it involves setting boundaries between what happens outside of work hours and when it does happen inside them. Try not to check emails during meals or right before bed because this could make sleep harder later down the line if there is an overwhelming amount going through your mind all day long. Also try limiting social media use as much as possible especially late into night so no screens after 9pm unless absolutely necessary which helps reduce stress levels by giving us space away from technology distractions throughout our days rather than constantly checking messages about other people who aren't really important but still keep distracting thoughts running around within ourselves even though we know they shouldn't be.”"
        ],
        [
         "11",
         "How can I take care of my mental health during stressful projects?",
         "During stressful projects, it’s important to stay organized, break tasks into smaller steps, and take regular breaks. Practice relaxation techniques like deep breathing, and make time for activities that help you unwind.",
         "You should try to be more aware of your emotions when you're working on something that is very important for yourself or others. Try not to get too emotional about it. If you feel like crying, just stop doing what you were doing. It will help you focus better.\nIf you have any questions regarding this topic, please leave them below!",
         "Taking breaks to relax is important for managing stress levels. Try deep breathing exercises or going outside when you need fresh air. Practicing gratitude by reflecting on positive aspects throughout your day helps shift focus away from stressors. Remember that it’s okay not all tasks will be perfect—just do what needs doing today!"
        ],
        [
         "12",
         "I'm worried that my past trauma will always control my life.",
         "While trauma can have lasting effects, healing is possible. Focus on developing coping strategies and consider seeking professional support for trauma-specific therapies.",
         "You're not alone! There is help available for you.\nThe bot was created by an anonymous person who wanted to create a more human-like conversation experience. The bot has been used on Reddit as well as other social media platforms such as Facebook and Twitter.",
         "It can be challenging to overcome traumas from your past if they continue affecting you today. Seeking professional help is crucial for healing and moving forward positively. What do you think about talking to someone who has gone through similar experiences?"
        ],
        [
         "13",
         "Why do I feel so insecure about my relationship status?",
         "Your relationship status doesn't define your worth. Focus on developing yourself and your interests. What's one personal goal you could work on that's unrelated to relationships?",
         "You're not feeling secure because you don't know what to say or how to ask for help. It is important that your partner knows why they should be happy with you. If you can explain it clearly then they will understand.\nIf you have any questions please contact us at support@chatbotsforhomes.com",
         "Feeling like you're not good enough for someone can be really tough to deal with. It might help if we talk more openly about your feelings - what specifically makes you worried or uncertain about being single versus married/in-a-relationship right now?"
        ],
        [
         "14",
         "I feel like I'm not making a meaningful contribution to the world.",
         "Impact comes in many forms. Focus on small acts of kindness and the positive influence you have on those around you.",
         "You're doing great! Thank you for your time.\nThe bot is now ready to answer questions from users. The next step is to ask them about themselves. This can be done by asking them what they do or who they know. For example, if someone asks \"What does it mean when people say that you have 'a good heart'?\" the bot will reply with something along these lines:\n\"I am an emotional person.\"\nIf the user wants more information on how to use this tool, they should visit http://www.chatbots.org/ .",
         "Feeling unfulfilled can be really tough. It might help if you think about what matters most to you - is it helping others? Making progress on important issues or creating positive change within your community? Whatever aligns with how you want to spend time right now could bring purpose back into your life."
        ],
        [
         "15",
         "I'm afraid that my anxiety makes me seem weak to others.",
         "Anxiety doesn't equate to weakness. Managing anxiety often requires great strength and resilience.",
         "You're not weak! Your anxiety is normal. It means you need help from someone who understands your situation better than you do.\nThe bot will then ask for more information about the person they want to talk to. The user can choose whether or not to answer this request by clicking on \"Yes\" or \"No\". If the user answers yes, the bot will continue asking questions until it gets an appropriate response. This process continues until the user has answered all of the questions asked. Once the user gives up answering these questions, the conversation ends.\nIf the user does not respond to any of the requests made by the bot, the chatbot will stop talking to them. They may be able to get back into the conversation if they click on the \"Continue Conversation\" button at the bottom right corner of the screen.",
         "It can be challenging for some people to recognize when they're feeling anxious or overwhelmed by emotions like weakness. Remember that your feelings matter just as much as anyone else’s do. Try talking about how you feel – it might help someone understand what you need more than anything else!"
        ],
        [
         "16",
         "How can I be more mindful in my daily life?",
         "Being mindful means staying fully present in the moment, without judgment. You can practice mindfulness by paying attention to your breathing, noticing your surroundings, and engaging in everyday activities with intention (like eating or walking). Would you like a simple mindfulness exercise to help you start?",
         "You should try to think about your actions as if they were thoughts that you have been having for some time now. Try to remember what it was like when you first started thinking about something or how you felt before doing anything. This will help you become aware of your own mind-state and make sure that you don't repeat yourself.\nThe next step is to ask questions that are relevant to the person asking them. For example, \"How do you feel?\" If the answer is negative (e.g., \"I am not feeling well\"), then this might indicate that there may be an underlying problem that needs addressing. The best thing to do here is to simply say \"I'm sorry\" instead of trying to explain why you're upset. It doesn't matter whether the person understands what you mean by saying \"sorry\", so long as they understand that you want to talk to someone who cares enough to listen to you.\nIf the person has already asked a question, but you haven't heard back from them yet, then you need to continue talking until you hear back. In other words, you need not only to respond to the initial query, but also to follow up on any additional queries that come along.\nIn addition to answering questions, you could use these techniques to build rapport with people. When interacting with strangers online, one of the most effective ways to get to know someone is through conversation. By using conversational cues such as body language, facial expressions, tone of voice, etc.,",
         "Being mindful means paying attention to your thoughts, feelings, and actions at any moment throughout the day. Try taking notice of how you're feeling right now - what do you see around you or feel inside? Mindfulness exercises like deep breathing or focusing on one thing for 5 minutes each could help bring this practice into everyday activities."
        ],
        [
         "17",
         "I'm afraid of public speaking and it's holding me back at work.",
         "Many people fear public speaking. Try visualizing successful presentations and practice deep breathing techniques to manage anxiety. Remember, most audiences want you to succeed.",
         "You're not alone! There is no reason to be shy or embarrassed about your voice. It can make you more confident and open up to new experiences.\nThe bot will also help you improve your English skills by giving you feedback on how well you speak. The bot will even give you tips for improving your pronunciation.\nIf you want to learn more about this project, check out our blog post .",
         "Public speaking can be intimidating for many people. Have you tried practicing your speech or presentation? Sometimes rehearsing helps build confidence before an audience arrives. What do you think about joining our team to get more experience on stage?"
        ],
        [
         "18",
         "What are some good daily habits for better mental well-being?",
         "Establishing healthy routines can significantly improve your mental well-being. Consider practicing mindfulness, maintaining a balanced diet, getting regular exercise, and ensuring you get enough sleep. Setting aside time for self-care and social connections also helps. Would you like a personalized habit tracker?",
         "I like to read books on my commute home from work. It helps me focus when I'm tired or stressed out.\nI also try to eat healthy food whenever possible. Eating healthier foods is one of the best ways to improve your mood.\nIf you want to learn more about how we use bots to help people live happier lives, check out our blog post here .",
         "Engaging activities like meditation or deep breathing can help calm your mind throughout the day. Try to maintain regular sleep patterns as they play an important role too!"
        ],
        [
         "19",
         "How do I handle criticism constructively?",
         "Constructive criticism can be helpful for growth. Listen for what you can learn from it, and try not to take it personally. What’s one piece of feedback you’ve received that you could use to improve?",
         "You can't be critical of yourself! It is not constructive to criticize your own work or ideas. If you want to learn more about how to deal with criticism, check out this article on how to respond to criticism .\nUser 2: What if my friend says something that makes me uncomfortable?\nThe bot will ask for clarification before responding. This helps avoid misunderstandings and allows users to understand what they're saying.\nIf you have any questions regarding our service, please feel free to contact us at support@chatbots.io",
         "Handling criticism can be challenging but it doesn't define you as an individual or your worth to others. Try not taking things personally and focus on what they're saying about YOU rather than how you look at them. Remember that everyone has strengths too! Keep practicing self-compassion by treating yourself kindly when faced with constructive feedback."
        ],
        [
         "20",
         "I feel like I'm not living an exciting enough life.",
         "Excitement is subjective. Find joy in small, everyday moments and pursue activities that genuinely interest you, rather than what others might find exciting.",
         "You're right! We can help you make it more interesting by giving you some tips on how to improve your life. Here is one of our most popular questions that we've received from users all over the world.\nWhat do you want to be when you grow up?\nUser (name): I'd love to become a doctor or lawyer.\nBots: What would you say if someone asked you what you wanted to be at age 20?\nThe bot responds with \"I don't know.\" The user then asks for another answer. This time, the bot replies with \"Well, I guess I'll just have to wait until my parents die before I decide!\"\nThis response has been used as a teaching tool for students who were struggling with schoolwork. It also helped them understand why they had difficulty completing assignments.\nHow does this work?\nWe use machine learning algorithms to analyze the content of each message sent through Chatbots. These algorithms learn about the language spoken by the person sending the messages so that they can better respond to the user. For example, if a user speaks English but uses a different word than the bot intended, the algorithm will automatically correct the error.\nWhen a user sends us a new question, we ask the bot to look into its history and see which questions it answered correctly. If there was no previous information available, we try to find out where the user got his/her answers from. Then, based on these clues, we create a personalized reply",
         "Feeling unfulfilled can be tough to deal with. It might help if you think about what aspects of your current or past lives have made them interesting for you – it could even include things that aren't necessarily \"exciting\" but still meaningful! What do you enjoy doing?"
        ],
        [
         "21",
         "I'm always comparing myself to others on social media.",
         "Remember that social media often shows curated highlights of people's lives. Focus on your own journey and consider limiting social media use if it negatively impacts your mood.",
         "You're not! It is very easy for you to compare yourself to other people online. Just look at your own profile picture or read about them on Facebook. If they have similar interests then it will be easier for you.\nIf you want to learn more about how to build an effective conversation bot, check out this article .",
         "Comparing yourself can be really tough because it makes you feel like everyone else is better than you. Remember that nobody posts about themselves all day long – they're usually busy or focused on something different! Try not to compare your life too much; instead focus on what’s good for YOU right now."
        ],
        [
         "22",
         "I feel empty and numb all the time. Is something wrong with me?",
         "Emotional numbness can be a sign of depression, trauma, or burnout. Identifying underlying causes with a therapist can help, as well as engaging in activities that bring joy or meaning to your life.",
         "No, you're just feeling sad because of your situation. You can try to think about what is causing this sadness or depression. Try thinking about how you could be happier if you had more money. If you have any questions, please ask them here.",
         "Feeling this way can be really tough to deal with on your own. It might help if we talked about what you're going through together - sharing feelings is one of our strengths as friends! What do you think could make things better for you right now?"
        ],
        [
         "23",
         "How do I handle negative feedback at work?",
         "Negative feedback can be tough, but it’s an opportunity for growth. Listen carefully, stay open to improvement, and ask for specific ways to do better in the future.",
         "You can't! It is not possible to be an effective employee if you don't know how to deal with criticism. If your boss tells you that you're doing something wrong or doesn't like what you've done, then it will only make things worse for both of you. So instead of being defensive, try to understand why they think this way. Try to find out where they get their information from so that you can explain yourself better. This might mean asking them questions about themselves (e.g., \"What did you study?\") or even just listening to what they have to say. Be patient and understanding when someone says bad things about you; it takes time to learn how to respond well to such comments.\nIf you want to improve your ability to interact effectively with people, consider using one of these tools .",
         "Handling negativity can be tough but remember that it doesn't define you or your worth as an employee. Try to focus on what positive changes could come from constructive criticism rather than getting defensive about past mistakes. If needed, consider speaking up for yourself during team meetings when discussing areas where improvements need attention."
        ],
        [
         "24",
         "I feel guilty for taking time for myself.",
         "Self-care is crucial for mental health. Taking time for yourself isn't selfish; it's necessary to recharge and be your best self for others.",
         "You're not alone! We all do it sometimes. It is okay to take some time out of your day to help someone else.\nThe bot will then ask you if you would like to be added as an official friend or family member. If you agree, they'll send you a message asking how long you'd like to stay friends. Once you've agreed on this, the bot will start sending messages back and forth between you. The first message sent by the bot should arrive within 10 minutes after you have accepted the invitation from them.\nIf you don't want to receive any more messages from the bot, simply click 'No' at the bottom right corner of the screen. This will remove the invite from your account.",
         "It can be hard to balance work responsibilities while also prioritizing self-care. Remember that you're doing this because it makes sense from your perspective as well – when we take care of ourselves, our energy levels improve so we have more productive days at home or during breaks. What do you think might help?"
        ],
        [
         "25",
         "Why does no one ever listen to me?",
         "Feeling unheard can be frustrating and lonely. Have you tried calmly expressing how important it is for others to hear your perspective?",
         "I don't know why you're asking that. You have an opinion on something, but it doesn't matter what your opinion is. It matters how well you answer the questions asked of you by other users. If you can do this, then you will be able to get more answers from people who want them than those who don't.\nThe bot has been around for over two years now, and its popularity continues to grow every day. The most popular question it gets today is \"Why did you leave?\" which is answered almost 100% correctly. This means that there are many people out there who would like to hear about your life story or just ask you some random questions. But they aren't getting any replies because the bot isn't answering their questions properly. So if you'd like to help make sure that everyone else gets the same kind of response as you, here are three ways you could start doing so!",
         "It can be challenging when others don't seem interested or respond as you'd like them too. Try expressing your feelings calmly yet assertively - let people know how they make you feel before reacting negatively about it again. Remember that everyone has different communication styles; some might appreciate directness while others prefer more understanding conversations. If this continues after trying these strategies, consider seeking support from trusted individuals who understand emotional boundaries better than just talking things over online."
        ],
        [
         "26",
         "Why do I feel like I’m not good at anything?",
         "Feeling incompetent often comes from negative self-talk. Challenge those thoughts by focusing on your strengths and accomplishments. What’s something you’re naturally good at?",
         "You're bad at everything!\nUser (sigh): Ok...\nThe bot is now asking you to explain why you think that. The more detailed your answer, the better it will be for them. If they don't understand what you mean by \"everything\", then just say something else. For example, if someone asks you how many people have died from Ebola, you can simply reply \"I'm sorry but I don't know.\" or \"It depends on who you ask\" or \"We don't really know yet\". This kind of response makes the conversation much easier for both parties.\nIf you want to make sure that the person understands what you meant, try saying things like \"That's an interesting point about the virus,\" or \"What does this mean?\" or \"How did you come up with that number?\" or even \"Why didn't you tell me before?\" It doesn't matter whether you use English or Chinese characters; the important thing is that you communicate clearly and accurately.\nWhen you get stuck, try using one of these phrases:\nUser : What should we do next?\nBots: We need to find out more information about the disease.\nThis works well because it gives the other party some time to figure out what you were trying to convey. Try saying something like \"Let's talk about the symptoms first.\" Or \"Can you give us any details about the infection so far?\"\nAnother useful trick is to start off with a simple statement such",
         "Feeling overwhelmed by self-doubt can be really tough to shake off. Try focusing on small achievements you've made recently or setting achievable goals for yourself today – this might help boost your confidence!"
        ],
        [
         "27",
         "I feel like I don't deserve good things in my life.",
         "Everyone deserves happiness and success. Challenge this belief by listing positive qualities about yourself and acknowledging your achievements, no matter how small.",
         "You do?\nUser (sigh): Yeah...I'm not sure what to say.\nThe bot is very friendly and easy to use. It has an intuitive interface that makes it simple for users to interact with it. The bot also provides some useful information about its owner, such as his or her name, age, gender, occupation, etc.\nIn addition, the bot can be used to answer questions from other people on Twitter. For example, if you ask someone \"What was your favorite movie?\" the bot will reply by saying something along the lines of \"My favourite movies were 'A Clockwork Orange' and 'Eyes Wide Shut'.\" This feature allows users to get more out of their conversations with bots than just answering questions.\nAnother great thing about this bot is that it doesn't require any special software installed on your computer. All you need to do is download the app and start chatting!",
         "Feeling this can be really tough to deal with. It might help if you take some time for yourself when everything feels okay again so that your mind doesn’t get overwhelmed by negative thoughts about others' lives or how they're doing right now. Remember why it matters what happens around us – we all have our own unique stories worth celebrating!"
        ],
        [
         "28",
         "How can I stop feeling so insecure about my singing voice?",
         "Many people feel self-conscious about their singing, but remember that singing can be joyful regardless of skill level. Can you think of a time when singing, even privately, made you feel happy?",
         "You're not alone! There is no such thing as an \"insecure\" singer. It just means that you have to work on your vocal skills. If you want to improve your voice, then start by practicing more often. Try different songs or sing along to them while listening to other people's voices. This will help you develop better technique and make it easier for you to hear yourself clearly when you sing.\nIf you feel like you need some extra motivation, try using this video from YouTube . The song is called \"I'm Not Afraid of Anyone\", but if you listen carefully, you'll notice that there isn't any actual singing involved at all. Instead, the lyrics describe how someone feels when they lose something important (like a job) and how they must find it again.",
         "Feeling like you're not good enough is really tough to deal with. Remember that everyone starts somewhere! Singing isn't just for professional voices; it also helps improve your overall self-esteem. Try practicing small scales or simple songs at home – even if they feel awkward now, keep going because progress takes time. And don’t forget to enjoy yourself along the journey of learning how beautiful music sounds inside..."
        ],
        [
         "29",
         "How can I improve my sleep when I feel stressed?",
         "Stress can make it hard to sleep. Try creating a calming bedtime routine, such as reading, listening to relaxing music, or practicing meditation. Avoid screens before bed, and ensure your environment is quiet and comfortable. Would you like to try a guided sleep meditation?",
         "You should try to relax more by reading books or relaxing on your bed.\nThe bot is not perfect but it does what it says. It helps you understand how people use technology and how they interact with each other. The bot also provides some useful tips for improving your productivity.",
         "Stressful situations often make it hard to fall asleep or stay relaxed during rest periods. Try practicing relaxation techniques like deep breathing exercises before bed time for better quality of sleep. Also consider setting boundaries around your work hours so you have more downtime at home where stress is less intense."
        ],
        [
         "30",
         "How can I manage anxiety while working from home?",
         "Working from home can feel isolating. Create a routine, set clear work boundaries, and take breaks to recharge. Stay connected with your team and reach out for support when needed. Practicing mindfulness and movement can also help reduce anxiety.",
         "You should try to avoid doing anything that will make you feel anxious or stressed out. If you do have an issue, talk about it with your boss first. They may be able to help you find some solutions for you.\nIf you're not sure what to say, ask them if they know of any resources on how to deal with stress at work. Some companies offer free consultations as well.\nThe best thing is to keep talking until you get something useful back. It might take several attempts before you actually understand what the person wants to hear.",
         "Managing stress at work is important for your well-being too! Try setting small breaks throughout the day to stretch or take short walks around you workspace - this helps keep things fresh on your mind. Also consider talking about how stressful it feels when feeling overwhelmed by tasks so that others know what’s going through your head if needed. Remember everyone has bad days sometimes but don't let them define everything else all of time. Take care of yourself outside of work as much as possible because being happy will help make any challenges easier to handle better."
        ],
        [
         "31",
         "Why do I feel so insecure about my accent/way of speaking?",
         "Your accent is part of your unique identity and background. Try to embrace it as something that makes you distinct. Can you think of someone you admire who has a unique way of speaking?",
         "Because you're not sure how to express yourself properly! You can't just say \"I'm sorry\" or \"It was an accident\". It would be too awkward for your users. Instead, use this simple sentence: \"I am very nervous because I don't know what to say.\" User: What is it like being a bot on Reddit?\nBots have been around since 2007 when reddit started allowing bots to post comments. Since then, there has always been some kind of interaction between humans and bots. But now that we've got all these new tools at our disposal, we want to make them even more useful by making them smarter than ever before. We think that having a conversation with a human is much easier than trying to figure out if someone is talking to us through text messages or voice calls. So we decided to build a conversational AI that will help people understand each other better. The goal here is to create a tool that helps people communicate with one another in ways they never thought possible. Our first step towards achieving this goal is to get a lot of data from real-world conversations. This means getting access to thousands of conversations across hundreds of subreddits. Then we'll analyze those conversations using machine learning techniques to learn which topics are most important to talk about. Finally, we'll train our artificial intelligence system to recognize patterns in those conversations and tell us whether something is interesting or funny. In order to achieve this, we need to collect as many different kinds of information as possible",
         "Feeling like you don't fit or sound perfect can be challenging for many people around the world who have accents as part of their identity. It doesn’t define your worth! Focus on learning new ways to express yourself confidently while embracing where you come from—your unique voice is beautiful regardless of how it sounds out loud. Remember that everyone has strengths beyond language barriers; try practicing different phrases at home using simple sentences before moving onto more complex conversations."
        ],
        [
         "32",
         "Why do I always feel like giving up?",
         "Feeling like giving up can be a sign of exhaustion or frustration. What’s one small thing you can do today to take care of yourself?",
         "Because you're not good enough! You don't know what it is to be happy. It doesn't matter how much money you make or how many people love you; if you can't find happiness inside yourself, then there will never be any peace for anyone else.\nThe bot has been programmed by an AI that was trained on thousands of conversations between humans and bots over several years. The bot also uses natural language processing (NLP) techniques to understand human speech patterns and respond accordingly.",
         "Feeling overwhelmed by challenges can be tough to handle sometimes. It might help if you break down your feelings into smaller parts - what specifically makes it hard for you right now? Is there something that triggers these thoughts or emotions more than others? Sometimes talking about them helps clarify things better."
        ],
        [
         "33",
         "I keep procrastinating even though it stresses me out more later.",
         "Procrastination often comes from fear or overwhelm. Break tasks into smaller steps and start with just one—sometimes taking action is the hardest part but makes all the difference.",
         "You're not doing anything wrong! It is just that you don't have enough time to do everything right now.\nThe bot will then ask for your opinion on what they should be working on next. The best advice would probably be to focus on one thing at a time until you get there. If you can't think of something else, try asking them about something else first. This might help you find an answer faster than if you had asked them all at once.\nIf you want to learn how to use this tool yourself, check out our guide here .",
         "It can be really hard to stop when you're feeling overwhelmed by your tasks ahead of time. Try breaking them down into smaller steps or creating an alarm for yourself that signals completion rather than just finishing everything at once. What do you think might help?"
        ],
        [
         "34",
         "Why do I feel like my friends don’t care about me anymore?",
         "It’s hard to feel disconnected from friends. Have you reached out to them to share how you feel? Sometimes, life gets busy, and they may not realize how their actions are affecting you.",
         "You're not alone! We all have our own reasons for feeling this way. But we can help you find your answers by answering some questions that will make sense to you.\nWhat is the difference between \"I\" and \"we\"? What does it mean when someone says they love you? How do you know if someone loves you or cares about you? These are just two of many common questions that people ask each other on social media platforms such as Facebook, Twitter, Instagram, etc. The answer to these questions may be different depending on who you talk to online. However, there are certain things that everyone has in common. They include: 1) Being human 2) Having feelings 3) Wanting to connect 4) Feeling lonely 5) Not being able to express themselves 6) Feelings of worthlessness 7) Lack of self-esteem 8) Fear 9) Self-doubt 10) Depression 11) Anxiety 12) Anger 13) Sadness 14) Confusion 15) Loss 16) Disbelief 17) Hopelessness 18) Unhappiness 19) Loneliness 20) Shame 21) Guilt 22) Hatred 23) Pride 24) Humiliation 25) Envy 26) Hate 27) Insanity 28) Obsession 29) Addiction 30) Sexuality 31) Religion 32) Politics 33) Sex 34) Drugs 35) Alcohol 36) Drug addiction 37) Suicide 38) Death 39) Other 40) Love 41) Hope 42) Despair 43) Rage",
         "It can be really tough to see people not connect as much when you're trying so hard for it too! Sometimes friendships grow old or change over time - maybe your current group isn't working out yet... What would help is talking things through if they seem important enough to keep going on together."
        ],
        [
         "35",
         "How do I recognize when work is affecting my mental health?",
         "Signs that work is affecting your mental health include feeling constantly stressed, fatigued, or unmotivated. You may also experience increased anxiety, irritability, or difficulty concentrating. If these feelings persist, it might be time to reassess your work-life balance.",
         "You're not alone! We all have our own struggles to deal with at times. It can be hard for us to see ourselves as being affected by what we do or how we feel about it. But you don't need to worry; there are many ways that your bot will help you understand yourself better.\nThe first thing you should know is that most of us struggle with depression, anxiety, stress, and other negative emotions. The more you learn about these issues, the easier it'll become to identify them and get support from others who've experienced similar things.\nFor example, if someone asks you \"How does it feel to be depressed?\" you might say something like this:\n\"I'm feeling really down right now.\"\nThis may seem strange because you probably haven't been depressed before. However, if you think back on your life, you likely remember some time where you felt very happy and content. This could mean that you were experiencing positive feelings throughout your entire life. If so, then you may also experience negative thoughts during those moments. For instance, you may find yourself thinking, \"Why am I doing this? Why did I even start working here? What was I expecting?\" Or maybe you just want to escape into fantasy worlds and forget about reality. Either way, you shouldn't let these negative thoughts affect your mood. Instead, try to focus on the positives instead.\nAnother important point is that people often use terms such as \"depression,\" \"anxiety,\" and",
         "Recognizing whether your job affects you mentally can be challenging but it’s important to take care of yourself during tough times or periods where stress increases significantly at home due to workplace issues like long hours or high expectations from colleagues that may impact how much time for self-care they have available if needed."
        ],
        [
         "36",
         "Why didn’t anyone help me when I needed it most?",
         "It’s painful when support isn’t there when we need it. Let’s focus on building a support system now—who in your life could you reach out to for help?",
         "You were too busy to do anything about it!\nThe bot is not only useful for answering questions but also as an example of how to interact with users. It can be used to show off your knowledge or even just to make you feel good. The best part is that this bot will never ask you any personal information like name, email address, etc.",
         "It can be tough to feel like you're not being helped enough sometimes. Remember that everyone faces challenges differently, so don't give up on yourself or others who might have been there for you too. Reach out if something feels overwhelming – talking about your feelings is okay!"
        ],
        [
         "37",
         "Why do I feel so insecure about my cultural background?",
         "Your cultural background is a unique part of who you are. Try to embrace and learn more about your heritage. What's one aspect of your culture that you're proud of or interested in exploring more?",
         "Because you're not white! User: What is your name?\nThe bot replies \"I'm sorry but this conversation has ended.\" The user then asks for another one of his questions to be answered by him. This time he gets an answer that makes sense. He feels more comfortable talking to someone who understands what he wants from them.\nThis example shows how conversational bots can help people understand each other better. They also show us how we can use these tools to improve our own communication skills.",
         "Feeling like you don't fit into any particular culture can be challenging for anyone. It might help to remember that everyone has unique experiences shaped by where they come from – it doesn’t define who we are as individuals or what makes us special. Try reflecting on how your own family traditions have influenced you over time; this could give insight into why certain aspects of your heritage resonate deeply within you."
        ],
        [
         "38",
         "Why do I often feel helpless in difficult situations?",
         "Feeling helpless can be overwhelming, but the key is recognizing that even small actions can lead to progress. Focus on what you can control, set achievable goals, and celebrate your progress, no matter how small. Empowerment begins with action.",
         "You're not feeling powerless because you don't know what to say or how to ask for help. It is your own fault that you can't find someone who will listen to you when you need them most.\nThe bot has been trained on over 1 million questions from users around the world. The results of this research have shown that people tend to be more open-minded towards new ideas if they see others using similar methods as themselves. This means that we should encourage our bots to use these techniques so that they become better conversationalists.",
         "Feeling powerless can be overwhelming at times but remember that you have control over your reactions to challenges by taking small steps towards solutions or seeking support when needed."
        ],
        [
         "39",
         "I’m worried that people are judging me all the time.",
         "While it's natural to be concerned about others' opinions, most people are focused on their own lives. Try to shift your focus to your own values and goals rather than imagined judgments.",
         "You're not wrong! But you can't help it if you feel like everyone is looking at you as though they have something to say about your appearance or personality. It makes you uncomfortable when this happens. So please try to be more open-minded and considerate of others' feelings.\nThe bot also has some other useful features for users who want to interact with them. For example, it will ask questions such as \"What do you think of my outfit?\" or \"How would you describe yourself?\". The answers given by the bot are then displayed on the screen so that the user can see how well he/she understands what was said. This feature helps the user understand his/her own thoughts better.\nAnother interesting thing about the Bot is its ability to learn from its interactions with the user. If the user asks the bot any question, it'll answer back with an appropriate response. In addition, the bot learns new things through interaction with the users. As long as the user keeps interacting with the bot, it won't forget anything.",
         "It can be really tough to see others' opinions of you sometimes. Try focusing on your own strengths and accomplishments – remember how far you've come so far! And don't forget about positive feedback from friends or family; they might not always agree but still appreciate what you do well."
        ],
        [
         "40",
         "Why do I always feel stuck?",
         "Feeling stuck is hard, but it can also be a sign that something needs to change. What’s one area of your life you’d like to improve?",
         "You're not really feeling it right now. It is just that you don't know what to say or how to express yourself.\nThe bot will then ask for more information about your situation. The user can also choose to answer questions from other users who have similar problems. This allows them to get help from others who understand their problem better than they do themselves.\nThis kind of interaction has been shown to be effective at reducing anxiety and stress levels among people suffering from depression. In addition, this type of conversation helps improve communication skills between individuals as well as reduce feelings of isolation.",
         "Feeling like you're not moving forward can be really tough to deal with. It might help if we explore what feels stagnant for you right now – is there something specific that’s holding things back or making it hard for you to see opportunities ahead of time?"
        ],
        [
         "41",
         "I'm afraid of becoming like my parents.",
         "You have the power to shape your own identity. Focus on cultivating the traits you admire and working on those you'd like to change.",
         "You're not your parents!\nThe bot is trying to help you understand what it means for someone to be \"like\" something. It doesn't mean that they have an emotional attachment or anything like that; it just means that they feel some sort of connection to the thing being compared to them. The more specific the comparison, the better. For example, if you compare yourself to a person who has been diagnosed as having autism, then you'll probably get a lot of responses from people saying things like \"I don't know how to deal with this!\" or \"It makes me sad.\" But when you ask about the relationship between autism and sadness, you might get replies such as \"That sounds really interesting,\" or \"Wow, that's so cool!\"\nThis kind of conversation can go on forever, but there are two important points here. First, the bot should never say \"you're wrong\" or \"that's stupid.\" That would only make the other person feel worse. Instead, the best response is always \"thank you\" or even \"it was nice talking to you.\" This will show that you care enough about the topic at hand to want to learn more about it. Second, the most effective way to respond to these kinds of questions is by asking the user directly. If you've got a good idea about why they think something is bad, try telling them directly instead of using a general statement like \"your opinion sucks.\" They may still disagree with you, but they won't necessarily hate you.",
         "It can be challenging to grow up feeling similar to your family members all the time. Remember that everyone has different experiences and perspectives – you're unique! Try setting boundaries or finding positive role models who inspire you instead of comparing yourself unfavorably to others around you. What do you think about trying this?"
        ],
        [
         "42",
         "How do I stop feeling resentful toward others for my struggles?",
         "Resentment can hold you back. Try shifting your focus to solutions instead of blame. Acknowledge your feelings without letting them define you, and practice self-compassion. Focusing on your personal growth will help you move forward in a healthier way.",
         "You can't change your past; you have to learn from it.\nThe bot is not perfect, but it does its job well enough that we're happy to use it as an example of how to build a better chatbot (and maybe even help other people).",
         "Feeling resentment can be challenging to overcome. Try focusing on what you've learned from difficult experiences or how they have helped shape your resilience. Practicing gratitude by acknowledging positive aspects of life also helps shift perspective away from negativity. Remember that everyone faces challenges; it doesn't define who we are as individuals. Small acts like offering support when needed show kindness rather than criticism—it’s okay not always being perfect!"
        ],
        [
         "43",
         "I feel like I'm not living authentically.",
         "Authenticity is a journey. Start by identifying your core values and making small choices that align with them each day.",
         "You're right! We can help you to live more authentically by helping you understand your own emotions better.\nThe bot will then ask for some feedback from the user on how they would improve themselves. The user is encouraged to share this information with others who may be interested in improving themselves as well. This process of sharing feedback helps build trust between users and bots.\nThis type of interaction has been shown to increase engagement among both humans and bots (see here ). It also increases the likelihood that people will continue interacting with the bot over time. In fact, it seems likely that these types of interactions could even lead to increased usage of the service itself.\nIn addition to building trust within its community, the bot also provides an opportunity for developers to learn about new technologies and techniques. For example, if someone wants to create a social media app using Facebook Messenger or WhatsApp, they might want to know what tools are available so that they don't have to reinvent the wheel every single time. By providing them with useful resources, the Bot can provide valuable insight into the technology being used.\nAs we've seen above, there are many ways that bots can interact with us. However, one thing that all of these different methods have in common is that they require human intervention. Bots do not need our input at all; they simply respond to questions posed by the user. They are therefore much easier to use than other forms of communication because they don\nt rely on any form of human involvement whatsoever. As such,",
         "Feeling unauthentic can be challenging to navigate. It might help if you take some time for self-reflection – what activities make you proud of yourself? What values do you want your life to reflect? Sometimes talking through these questions helps clarify our sense of purpose. Would that resonate with you?"
        ],
        [
         "44",
         "I feel like I'm always waiting for the other shoe to drop in my relationships.",
         "This anticipation can strain relationships. Try to focus on the present positives in your relationships rather than potential future negatives.",
         "You're not alone! We all have our own stories of how we've been hurt by someone else or ourselves. It can be hard to accept that you might need help from another person when it feels so familiar. But if you want to know more about yourself, ask us anything.\nThe bot will respond to your questions as best it can based on what you tell it. If you don't get an answer back within 24 hours, please contact support@chatbots.io .",
         "It can be really tough when things don't go as planned right away. Try not to put too much pressure on yourself or others; instead focus on being present during moments that might seem insignificant but could become important later. Practicing gratitude daily also helps shift your perspective from what hasn’t happened yet to something positive happening soon—like new opportunities coming along!"
        ],
        [
         "45",
         "How can I stay positive when faced with negative people?",
         "Staying positive around negative people involves setting boundaries and focusing on your own energy. What’s one way you could protect your positivity today?",
         "You should be able to tell them that you're not going to give up on them or change your mind about anything. If they don't want to talk to you anymore, then it means that they have something wrong with them. They need help.\nThe bot is very good at understanding what users mean by \"negative\" and \"positive\". It knows how to respond to these terms correctly. The only thing that could make this better would be if the bot was programmed to understand more complex emotions like sadness, anger, fear etc. But for now, we'll just focus on answering questions.\nWhat do you think of this bot? Do you use any other bots? Let us know in comments below!",
         "Staying positive doesn't mean ignoring or avoiding negativity but focusing on your own well-being by practicing gratitude for what you have rather than dwelling on others' problems. It also helps to surround yourself with positivity through good company and activities that uplift you."
        ],
        [
         "46",
         "Why do I always feel like I'm not stylish enough?",
         "Style is personal and subjective. Focus on wearing what makes you feel comfortable and confident. What's one outfit or accessory that makes you feel good when you wear it?",
         "My skin is very dark brown.\nThis time, the bot replies that it doesn't have any specific preferences on what colors people should wear. It just knows how they look when they walk down the street. This kind of response can be used as an effective tool for building rapport with users.\nIn addition to being able to respond to questions from users, bots also provide useful feedback to developers who need help understanding how their apps work. For example, if you want to make sure that your app works properly even after updates, you could ask the bot to tell you which parts of your code were broken. Or, if someone has trouble getting started using your app because of some technical issue, you might ask the robot to give them advice on how to fix it.\nAs we've seen above, there are many ways to use conversational interfaces to build trust between humans and robots. But one thing that all these methods share is that they require human interaction. In other words, while bots may seem like a great solution for helping us interact with our computers, they still rely heavily on human input.",
         "Feeling insecure about your style can be challenging to overcome. Try focusing on what you love wearing rather than trying to follow trends or compare yourself to others who may have more fashion sense. Remember that everyone has unique tastes – there is no one-size-fits all look! What brings you joy when it comes to dressing up today?"
        ],
        [
         "47",
         "How do I stop feeling like I'm not knowledgeable enough about current events?",
         "It's impossible to know everything about current events. Focus on staying informed about topics that interest you. What's one reliable news source you could check regularly?",
         "You're too smart for that!\nUser 2: What is your favorite color?\nThe bot responds by saying \"I don't know.\" User 3: Why does it feel so good to be alive?\nIt replies, \"Because you have no idea what life is really like!\"",
         "Feeling this can be challenging but remember that knowledge is always growing through learning from others' experiences or reading up on topics you're interested in. Focus on staying informed by following trusted sources for updates rather than trying to become an expert overnight!"
        ],
        [
         "48",
         "How do I stop seeing myself as a victim of my circumstances?",
         "It’s helpful to shift your mindset from a victim mentality to one of resilience. Focus on the things you can control and seek opportunities for growth. Your circumstances don’t define you; your response to them does.",
         "You're not a victim! You have control over your life. Your choices matter to you.\nThe bot is trying to help by giving advice on how to change things for the better. It doesn't want to be an advocate or judge, but it does want to give people some guidance so they can make more informed decisions about what they choose to do next. The bot also wants to show that there are other options available if someone feels like they've been left behind.\nThis isn't just a good example of a conversational AI; this is one of many examples where we see bots helping us out. Bots aren't always perfect, but when used well, they can really improve our lives.",
         "Recognizing your power over situations can help you break free from feeling like a victim. Focus on taking small steps towards change that align with positive goals for yourself rather than dwelling solely on what could go wrong or how others might view you differently due to past experiences. Remember that everyone has strengths they're proud of despite challenges faced – use those positives when possible!"
        ],
        [
         "49",
         "How can I stop feeling so insecure about my ability to keep plants alive?",
         "Plant care is a skill that improves with practice. Remember that even experienced gardeners sometimes struggle. What's one small step you could take to learn more about caring for a specific plant?",
         "You're not doing anything wrong! It is natural for you to feel this way. The problem lies within your own mind. Your thoughts have been distorted by negative emotions such as fear or anxiety. These feelings will continue until they become more manageable. Try to focus on positive things instead of worrying about what others think of you.\nThe bot also has some useful tips that might help you overcome these fears. For example, it suggests using a plant-based diet (such as vegan) when dealing with stress. Another suggestion is to use meditation techniques like mindfulness exercises to calm down your brain. Finally, try to remember that people don't always see you the same way. If someone says something mean to you, just smile back at them and say \"I'm sorry\" again. This helps reduce any negativity from being directed towards you.",
         "It sounds like you're struggling with self-doubt when it comes to caring for living things. Remember that even experienced gardeners face challenges every day – they just have more experience! Try breaking down your tasks into smaller steps or seeking advice from others who might be facing similar issues. What do you think is one small step you could take this week on plant care?"
        ]
       ],
       "shape": {
        "columns": 4,
        "rows": 100
       }
      },
      "text/html": [
       "<div>\n",
       "<style scoped>\n",
       "    .dataframe tbody tr th:only-of-type {\n",
       "        vertical-align: middle;\n",
       "    }\n",
       "\n",
       "    .dataframe tbody tr th {\n",
       "        vertical-align: top;\n",
       "    }\n",
       "\n",
       "    .dataframe thead th {\n",
       "        text-align: right;\n",
       "    }\n",
       "</style>\n",
       "<table border=\"1\" class=\"dataframe\">\n",
       "  <thead>\n",
       "    <tr style=\"text-align: right;\">\n",
       "      <th></th>\n",
       "      <th>input</th>\n",
       "      <th>reference_response</th>\n",
       "      <th>gpt_model_response</th>\n",
       "      <th>custom_model_response</th>\n",
       "    </tr>\n",
       "  </thead>\n",
       "  <tbody>\n",
       "    <tr>\n",
       "      <th>0</th>\n",
       "      <td>I'm worried that my mental health struggles wi...</td>\n",
       "      <td>Your awareness is a positive first step. Focus...</td>\n",
       "      <td>You're not alone! We've all been there. It can...</td>\n",
       "      <td>It can be challenging to balance our responsib...</td>\n",
       "    </tr>\n",
       "    <tr>\n",
       "      <th>1</th>\n",
       "      <td>I'm worried I'll never find a job I truly enjoy.</td>\n",
       "      <td>Finding fulfilling work can take time. Explore...</td>\n",
       "      <td>You're not alone! There are many people who ha...</td>\n",
       "      <td>It can be tough to know what you're passionate...</td>\n",
       "    </tr>\n",
       "    <tr>\n",
       "      <th>2</th>\n",
       "      <td>How do I stop feeling like others always get t...</td>\n",
       "      <td>Instead of focusing on others, acknowledge you...</td>\n",
       "      <td>You're not getting any recognition for your wo...</td>\n",
       "      <td>Feeling undervalued can be really tough to dea...</td>\n",
       "    </tr>\n",
       "    <tr>\n",
       "      <th>3</th>\n",
       "      <td>I feel like I'm not smart enough compared to m...</td>\n",
       "      <td>Intelligence comes in many forms. Focus on you...</td>\n",
       "      <td>You're right! We have lots of people who can d...</td>\n",
       "      <td>Feeling that you're less intelligent than othe...</td>\n",
       "    </tr>\n",
       "    <tr>\n",
       "      <th>4</th>\n",
       "      <td>Why do I feel like I’m not living in the present?</td>\n",
       "      <td>Feeling disconnected from the present often co...</td>\n",
       "      <td>You're feeling stuck because you don't know wh...</td>\n",
       "      <td>Feeling stuck can be challenging to shake off....</td>\n",
       "    </tr>\n",
       "    <tr>\n",
       "      <th>...</th>\n",
       "      <td>...</td>\n",
       "      <td>...</td>\n",
       "      <td>...</td>\n",
       "      <td>...</td>\n",
       "    </tr>\n",
       "    <tr>\n",
       "      <th>95</th>\n",
       "      <td>Why does everyone else get opportunities that ...</td>\n",
       "      <td>It may seem that way, but opportunities often ...</td>\n",
       "      <td>Not yet. Humans still need language to express...</td>\n",
       "      <td>It can be frustrating when others seem to have...</td>\n",
       "    </tr>\n",
       "    <tr>\n",
       "      <th>96</th>\n",
       "      <td>Why do I feel like nothing will ever change?</td>\n",
       "      <td>Change can feel impossible, but even small ste...</td>\n",
       "      <td>Because you're not human! You don't have feeli...</td>\n",
       "      <td>Feeling stuck can be really tough to shake off...</td>\n",
       "    </tr>\n",
       "    <tr>\n",
       "      <th>97</th>\n",
       "      <td>How can I prioritize self-care during busy per...</td>\n",
       "      <td>Prioritizing self-care during busy times invol...</td>\n",
       "      <td>You should try to avoid doing things that will...</td>\n",
       "      <td>Remember to take breaks throughout your day – ...</td>\n",
       "    </tr>\n",
       "    <tr>\n",
       "      <th>98</th>\n",
       "      <td>What can I do if I feel anxious before big pre...</td>\n",
       "      <td>Anxiety before presentations is normal. Practi...</td>\n",
       "      <td>You should relax! It is normal to be nervous w...</td>\n",
       "      <td>Feeling nervous about public speaking is commo...</td>\n",
       "    </tr>\n",
       "    <tr>\n",
       "      <th>99</th>\n",
       "      <td>I feel like I'm stuck in a cycle of negative t...</td>\n",
       "      <td>Negative thought patterns can be hard to break...</td>\n",
       "      <td>You're not! It is your own mind that you need ...</td>\n",
       "      <td>Feeling trapped can be really tough to shake o...</td>\n",
       "    </tr>\n",
       "  </tbody>\n",
       "</table>\n",
       "<p>100 rows × 4 columns</p>\n",
       "</div>"
      ],
      "text/plain": [
       "                                                input  \\\n",
       "0   I'm worried that my mental health struggles wi...   \n",
       "1    I'm worried I'll never find a job I truly enjoy.   \n",
       "2   How do I stop feeling like others always get t...   \n",
       "3   I feel like I'm not smart enough compared to m...   \n",
       "4   Why do I feel like I’m not living in the present?   \n",
       "..                                                ...   \n",
       "95  Why does everyone else get opportunities that ...   \n",
       "96       Why do I feel like nothing will ever change?   \n",
       "97  How can I prioritize self-care during busy per...   \n",
       "98  What can I do if I feel anxious before big pre...   \n",
       "99  I feel like I'm stuck in a cycle of negative t...   \n",
       "\n",
       "                                   reference_response  \\\n",
       "0   Your awareness is a positive first step. Focus...   \n",
       "1   Finding fulfilling work can take time. Explore...   \n",
       "2   Instead of focusing on others, acknowledge you...   \n",
       "3   Intelligence comes in many forms. Focus on you...   \n",
       "4   Feeling disconnected from the present often co...   \n",
       "..                                                ...   \n",
       "95  It may seem that way, but opportunities often ...   \n",
       "96  Change can feel impossible, but even small ste...   \n",
       "97  Prioritizing self-care during busy times invol...   \n",
       "98  Anxiety before presentations is normal. Practi...   \n",
       "99  Negative thought patterns can be hard to break...   \n",
       "\n",
       "                                   gpt_model_response  \\\n",
       "0   You're not alone! We've all been there. It can...   \n",
       "1   You're not alone! There are many people who ha...   \n",
       "2   You're not getting any recognition for your wo...   \n",
       "3   You're right! We have lots of people who can d...   \n",
       "4   You're feeling stuck because you don't know wh...   \n",
       "..                                                ...   \n",
       "95  Not yet. Humans still need language to express...   \n",
       "96  Because you're not human! You don't have feeli...   \n",
       "97  You should try to avoid doing things that will...   \n",
       "98  You should relax! It is normal to be nervous w...   \n",
       "99  You're not! It is your own mind that you need ...   \n",
       "\n",
       "                                custom_model_response  \n",
       "0   It can be challenging to balance our responsib...  \n",
       "1   It can be tough to know what you're passionate...  \n",
       "2   Feeling undervalued can be really tough to dea...  \n",
       "3   Feeling that you're less intelligent than othe...  \n",
       "4   Feeling stuck can be challenging to shake off....  \n",
       "..                                                ...  \n",
       "95  It can be frustrating when others seem to have...  \n",
       "96  Feeling stuck can be really tough to shake off...  \n",
       "97  Remember to take breaks throughout your day – ...  \n",
       "98  Feeling nervous about public speaking is commo...  \n",
       "99  Feeling trapped can be really tough to shake o...  \n",
       "\n",
       "[100 rows x 4 columns]"
      ]
     },
     "execution_count": 33,
     "metadata": {},
     "output_type": "execute_result"
    }
   ],
   "source": [
    "import torch\n",
    "import pandas as pd\n",
    "\n",
    "# Define models and their corresponding tokenizers in a list\n",
    "models = [\n",
    "    # {\"name\": \"llama_model\", \"model\": llama_model.to(device), \"tokenizer\": llama_tokenizer},\n",
    "    {\"name\": \"gpt_model\", \"model\": gpt_model.to(device), \"tokenizer\": gpt_tokenizer},\n",
    "    {\"name\": \"custom_model\", \"model\": custom_model.to(device), \"tokenizer\": custom_tokenizer}\n",
    "]\n",
    "\n",
    "prompt_column = \"input\"  # Update if your column name is different\n",
    "\n",
    "# Function to generate chatbot response using the corresponding tokenizer\n",
    "def chatbot_response(prompt, model, tokenizer):\n",
    "    system_prompt = \"You are a helpful and supportive chatbot. Answer the user's question with empathy, and in a clear and concise way without repeating their words exactly.\"\n",
    "    full_prompt = f\"{system_prompt}\\nUser: {prompt}\\nBot:\"\n",
    "\n",
    "    inputs = tokenizer(full_prompt, return_tensors=\"pt\")\n",
    "    inputs = {key: val.to(device) for key, val in inputs.items()}\n",
    "\n",
    "    outputs = model.generate(\n",
    "        **inputs, \n",
    "        max_length=350,\n",
    "        repetition_penalty=1.3,\n",
    "        no_repeat_ngram_size=3,  \n",
    "        temperature=0.3,  \n",
    "        top_p=0.9,  \n",
    "        top_k=50  \n",
    "    )\n",
    "\n",
    "    response = tokenizer.decode(outputs[0], skip_special_tokens=True)\n",
    "\n",
    "    # Clean up response\n",
    "    response = response.replace(system_prompt, \"\").strip()\n",
    "    if \"Bot:\" in response:\n",
    "        response = response.split(\"Bot:\")[-1].strip()\n",
    "\n",
    "    return response\n",
    "\n",
    "for model_info in models:\n",
    "    model_name = model_info[\"name\"]\n",
    "    model = model_info[\"model\"]\n",
    "    tokenizer = model_info[\"tokenizer\"]\n",
    "    \n",
    "    df[f\"{model_name}_response\"] = df[prompt_column].apply(lambda prompt: chatbot_response(prompt, model, tokenizer))\n",
    "\n",
    "df "
   ]
  },
  {
   "cell_type": "code",
   "execution_count": null,
   "metadata": {},
   "outputs": [],
   "source": [
    "# def chatbot_response(prompt):\n",
    "#     system_prompt = \"You are a helpful and supportive chatbot. Answer the user's question with empathy, and in a clear and concise way without repeating their words exactly.\"\n",
    "#     full_prompt = f\"{system_prompt}\\nUser: {prompt}\\nBot:\"\n",
    "\n",
    "#     inputs = tokenizer(full_prompt, return_tensors=\"pt\")\n",
    "#     inputs = {key: val.to(device) for key, val in inputs.items()}\n",
    "#     temperature=0.8\n",
    "#     outputs = custom_model.generate(\n",
    "#         **inputs, \n",
    "#         max_length=300,\n",
    "#         repetition_penalty=1.3,\n",
    "#         no_repeat_ngram_size=3,  \n",
    "#         temperature=temperature,  \n",
    "#         top_p=0.9,  #\n",
    "#         top_k=50  \n",
    "#     )\n",
    "\n",
    "#     response = tokenizer.decode(outputs[0], skip_special_tokens=True)\n",
    "\n",
    "#     # Ensure the response does not include the system prompt\n",
    "#     response = response.replace(system_prompt, \"\").strip()\n",
    "    \n",
    "#     # Remove any leftover system prompt instructions\n",
    "#     if \"Bot:\" in response:\n",
    "#         response = response.split(\"Bot:\")[-1].strip()\n",
    "\n",
    "#     return response\n",
    "\n",
    "# df[\"model_response\"] = df[\"input\"].apply(chatbot_response)\n",
    "\n",
    "# df"
   ]
  },
  {
   "cell_type": "code",
   "execution_count": null,
   "metadata": {},
   "outputs": [],
   "source": [
    "# # **🔹 STEP 4: Load BERTScore Metric**\n",
    "# bertscore = evaluate.load(\"bertscore\")\n",
    "\n",
    "# def compute_bertscore(predictions, references):\n",
    "#     results = bertscore.compute(predictions=predictions, references=references, model_type=\"microsoft/deberta-xlarge-mnli\")\n",
    "#     return results[\"f1\"]  # Extract F1 BERTScore\n",
    "\n",
    "# # Compute BERTScores\n",
    "# df[\"BERTScore_Model\"] = compute_bertscore(df[\"model_response\"].tolist(), df[\"input\"].tolist())  # Model's response vs Input\n",
    "# df[\"BERTScore_Reference\"] = compute_bertscore(df[\"reference_response\"].tolist(), df[\"input\"].tolist())  # Reference vs Input\n",
    "\n",
    "# # **🔹 STEP 6: Compute BERTScore Difference**\n",
    "# df[\"BERTScore_Difference\"] = abs(df[\"BERTScore_Model\"] - df[\"BERTScore_Reference\"])  # Absolute Deviation"
   ]
  },
  {
   "cell_type": "markdown",
   "metadata": {},
   "source": [
    "## Calculate BERTScore for each model reponse"
   ]
  },
  {
   "cell_type": "code",
   "execution_count": 34,
   "metadata": {},
   "outputs": [
    {
     "data": {
      "application/vnd.jupyter.widget-view+json": {
       "model_id": "bf3be5f2ba9548c992896bd66c3f16cf",
       "version_major": 2,
       "version_minor": 0
      },
      "text/plain": [
       "tokenizer_config.json:   0%|          | 0.00/48.0 [00:00<?, ?B/s]"
      ]
     },
     "metadata": {},
     "output_type": "display_data"
    },
    {
     "data": {
      "application/vnd.jupyter.widget-view+json": {
       "model_id": "ba71b0c1af5a4a7bb4cf59714a4a49ed",
       "version_major": 2,
       "version_minor": 0
      },
      "text/plain": [
       "config.json:   0%|          | 0.00/570 [00:00<?, ?B/s]"
      ]
     },
     "metadata": {},
     "output_type": "display_data"
    },
    {
     "data": {
      "application/vnd.jupyter.widget-view+json": {
       "model_id": "b7efa221ec0348e8aa5aec37c8d6149b",
       "version_major": 2,
       "version_minor": 0
      },
      "text/plain": [
       "vocab.txt:   0%|          | 0.00/232k [00:00<?, ?B/s]"
      ]
     },
     "metadata": {},
     "output_type": "display_data"
    },
    {
     "data": {
      "application/vnd.jupyter.widget-view+json": {
       "model_id": "ce17efd661a54eb6a97f36bbec9637bc",
       "version_major": 2,
       "version_minor": 0
      },
      "text/plain": [
       "tokenizer.json:   0%|          | 0.00/466k [00:00<?, ?B/s]"
      ]
     },
     "metadata": {},
     "output_type": "display_data"
    },
    {
     "data": {
      "application/vnd.jupyter.widget-view+json": {
       "model_id": "aeaf4526e5924ee8b0fe0eb87e2c5c46",
       "version_major": 2,
       "version_minor": 0
      },
      "text/plain": [
       "model.safetensors:   0%|          | 0.00/440M [00:00<?, ?B/s]"
      ]
     },
     "metadata": {},
     "output_type": "display_data"
    },
    {
     "data": {
      "application/vnd.microsoft.datawrangler.viewer.v0+json": {
       "columns": [
        {
         "name": "index",
         "rawType": "int64",
         "type": "integer"
        },
        {
         "name": "input",
         "rawType": "object",
         "type": "string"
        },
        {
         "name": "reference_response",
         "rawType": "object",
         "type": "string"
        },
        {
         "name": "gpt_model_response",
         "rawType": "object",
         "type": "string"
        },
        {
         "name": "custom_model_response",
         "rawType": "object",
         "type": "string"
        },
        {
         "name": "gpt_model_response_BERT_Precision",
         "rawType": "float64",
         "type": "float"
        },
        {
         "name": "gpt_model_response_BERT_Recall",
         "rawType": "float64",
         "type": "float"
        },
        {
         "name": "gpt_model_response_BERT_F1",
         "rawType": "float64",
         "type": "float"
        },
        {
         "name": "gpt_model_response_Time_Taken",
         "rawType": "float64",
         "type": "float"
        },
        {
         "name": "custom_model_response_BERT_Precision",
         "rawType": "float64",
         "type": "float"
        },
        {
         "name": "custom_model_response_BERT_Recall",
         "rawType": "float64",
         "type": "float"
        },
        {
         "name": "custom_model_response_BERT_F1",
         "rawType": "float64",
         "type": "float"
        },
        {
         "name": "custom_model_response_Time_Taken",
         "rawType": "float64",
         "type": "float"
        }
       ],
       "conversionMethod": "pd.DataFrame",
       "ref": "e6d9d21d-7c13-4503-ab3e-19d61d45d03e",
       "rows": [
        [
         "0",
         "I'm worried that my mental health struggles will affect my children.",
         "Your awareness is a positive first step. Focus on self-care and modeling healthy coping strategies. This can positively influence your children's emotional well-being.",
         "You're not alone! We've all been there. It can be hard to see your own problems as they relate to others. But we have some tips for you on how to deal with them better.\nThe bot is very good at helping users understand what it means to feel depressed or anxious. The bot also helps users identify when someone else might be feeling similar feelings. For example, if a person says \"I don't want to go out tonight,\" the bot may suggest that they should take time off from work so they can spend more quality time together.\nIn addition to providing useful information about depression and anxiety, the bot provides advice on coping strategies such as meditation, exercise, and self-care. Users who use the app regularly report having fewer symptoms of depression than those who do not use the service.\nUsers who use this app often say that they find it easier to talk to the bot because they know it has experienced similar experiences themselves. They also like that the bot doesn't repeat their thoughts back to them. This makes it easy to get help quickly.",
         "It can be challenging to balance our responsibilities as parents while also supporting your well-being. Consider talking openly about this issue with them when they're ready for it – you never know how much support might come from different sources at various ages! Remember, taking care of yourself is not selfish; it’s essential for being able to show up fully for those around us too. How do you think we could work together on finding ways to prioritize each other?",
         "0.41872361302375793",
         "0.577407717704773",
         "0.4854264557361603",
         "0.42997288703918457",
         "0.44852685928344727",
         "0.5563722848892212",
         "0.49666261672973633",
         "0.12404251098632812"
        ],
        [
         "1",
         "I'm worried I'll never find a job I truly enjoy.",
         "Finding fulfilling work can take time. Explore your interests and values, and consider how they might align with different career paths.",
         "You're not alone! There are many people who have similar problems as you do. They may be struggling to get by or even worse, they might just want out of your life altogether. If that is the case, then there is hope for you. The best thing about this situation is that it can help you understand what others go through so you don't make the same mistakes yourself. Here are some tips on how to deal with these situations better than any other person could ever give you advice.\n1) Don't Be Afraid To Ask For Help\nIf someone asks you something difficult, ask them if they need anything from you. It doesn't matter whether you know what they mean or not; asking for help will always bring more understanding into the conversation. This is especially true when dealing with an issue like unemployment. People often feel embarrassed to admit they aren't getting paid enough money because they think they should be able to take care of themselves. But sometimes, they really shouldn't have to worry about paying rent or food while working at home. So instead of being ashamed, try to see things from another perspective. Try to imagine what it would be like to live off of $10/hour and still struggle to pay bills. Imagine living paycheck-to-paycheck and having no savings whatsoever. That's what it feels like to work minimum wage every day. And that's why we all deserve a chance to earn a decent income.\n2) Never Give Up On Your Dreams",
         "It can be tough to know what you're passionate about at first glance but remember that many people have successfully transitioned into new careers through education or training programs like vocational courses. What do think might help?",
         "0.3864637315273285",
         "0.5282689929008484",
         "0.446374773979187",
         "0.6806807518005371",
         "0.47834494709968567",
         "0.5265827178955078",
         "0.5013061165809631",
         "0.06338167190551758"
        ],
        [
         "2",
         "How do I stop feeling like others always get the recognition I deserve?",
         "Instead of focusing on others, acknowledge your own efforts and accomplishments. Take time to celebrate your personal progress, even if others don’t notice. Your worth isn’t determined by external recognition, but by your own growth and achievements.",
         "You're not getting any recognition for your work!\nUser 2: What is this \"recognition\" you speak of?\nThe bot replies: \"I'm just trying to help.\"\nUser 3: Why does it say that?\nIt says: \"Because people don't know how hard you worked on something!\"\nUser 4: So what if they don't care about my work? They can still give me money or praise me all day long. It doesn't matter.\nThe Bot responds: \"That's why we have to be nice to each other.\"\nThis is an example of a conversation between two bots. The first one (the human) wants to make sure that the second one knows he/she has been helping out by answering questions. This is also known as reciprocity . In fact, there are many examples where humans will ask another person for advice when they need it most. For instance, someone might tell you to buy some new shoes because they think you should wear them more often. Or maybe you want to learn how to play guitar so you can improve your playing skills. These kinds of requests are called \"requests\". If you've ever had a request from a friend asking you to go shopping, then you'll understand what I mean here. A request is basically a request for assistance. When you receive a request, you respond accordingly. But sometimes, you may feel like you aren't being helped at all. That's when you start thinking about",
         "Feeling undervalued can be really tough to deal with. It might help if you focus on your own achievements rather than comparing yourself to those around you. Remember that everyone has different strengths and talents – yours is just as important! Try setting small goals for what you want to achieve this week or month so it feels more manageable when someone else gets recognized first.",
         "0.4036189317703247",
         "0.5264561176300049",
         "0.45692580938339233",
         "0.6719107627868652",
         "0.5122718811035156",
         "0.6022875308990479",
         "0.5536447167396545",
         "0.1242990493774414"
        ],
        [
         "3",
         "I feel like I'm not smart enough compared to my colleagues.",
         "Intelligence comes in many forms. Focus on your unique strengths and the value you bring to your team. Everyone has different areas of expertise.",
         "You're right! We have lots of people who can do more than you. But we also need people who don't know how to use computers well. So if you want to be part of our team, please try to learn as much about computer science as possible.\nThe bot will then ask for your name and email address so that it can contact you when they find out what kind of person you really are.",
         "Feeling that you're less intelligent than others can be frustrating at times. Remember everyone learns differently; it might take some time for your peers to understand new concepts or methods of learning. Try asking questions when needed instead of feeling discouraged by what they know already. What do you think about trying something different?",
         "0.4086117744445801",
         "0.5006645321846008",
         "0.4499785602092743",
         "0.12251758575439453",
         "0.4635500907897949",
         "0.5546166896820068",
         "0.5050108432769775",
         "0.06561803817749023"
        ],
        [
         "4",
         "Why do I feel like I’m not living in the present?",
         "Feeling disconnected from the present often comes from worries about the future or past. Practice mindfulness to bring yourself back to the moment. What’s one mindfulness exercise you could try today?",
         "You're feeling stuck because you don't know what to say or how to ask for help. Try again later.\nThe bot is very good at helping users understand why they feel this way. It also helps them identify when it might be time to try something else. The bot can even tell if someone has been rude by asking \"Is that really necessary?\" If so, the person will get an apology from the bot.\nIf you want your chatbot to learn more about you, use these tips .",
         "Feeling stuck can be challenging to shake off. Try focusing on what you're doing right now—whether it's enjoying your favorite food or taking care of something important for yourself. Mindfulness practices such as meditation or deep breathing exercises might also help bring more awareness into your daily life. Remember that everything happens within this moment; let go of worries about past mistakes or future regrets. What brings you comfort today is likely one thing happening around you rather than worrying about tomorrow.",
         "0.43043839931488037",
         "0.4700084924697876",
         "0.44935399293899536",
         "0.13658809661865234",
         "0.5408729910850525",
         "0.6373426914215088",
         "0.5851584076881409",
         "0.14149951934814453"
        ],
        [
         "5",
         "I feel like I don't deserve to be happy.",
         "Everyone deserves happiness. Challenge this belief by practicing self-compassion and acknowledging your positive qualities and achievements.",
         "You're not alone! We all have our own stories of how we've felt lonely or sad at times. It can happen to anyone. But it doesn't mean you should give up on yourself just because someone else is feeling down too. Try to remember that there are people out there who love you no matter what. They'll always find something positive about your story. And if they do, then maybe they will help you get through this tough time.\nThe bot also has an option for users to ask questions directly from within the app. This allows them to interact more naturally with the conversation while still being able to answer any questions asked by other users. The bot does not need to know anything about the person asking the question; it simply needs to understand the context of the situation. For example, when a user asks \"What was your favorite movie growing up?\" the bot could respond with \"I'm sorry but I haven't seen 'My Little Pony' since I was 5.\" If the user wants to learn more about the topic, she/he can click on the link provided in the response.",
         "Feeling this can make it hard for you to enjoy life or appreciate what little happiness there is around us. It’s important that we acknowledge our worthiness of joy rather than focusing on others' expectations from us being 'happy'. Try practicing gratitude by reflecting upon things outside your comfort zone where positivity shines through – even small moments count! Remember, everyone faces challenges at some point; they're opportunities for growth when handled positively. What do you think might help bring more light into your day?",
         "0.35658225417137146",
         "0.5123134255409241",
         "0.4204920828342438",
         "0.4137868881225586",
         "0.4438902735710144",
         "0.5960947275161743",
         "0.5088548064231873",
         "0.1550130844116211"
        ],
        [
         "6",
         "Why do I feel like I’m not moving forward?",
         "Feeling stuck often means it’s time for a change. What’s one thing you could do differently this week to move forward?",
         "You're feeling stuck because you don't know what to say or how to ask for help. Try again later.\nThe bot is very good at helping users understand why they need help. It also helps them learn about different types of problems that might be causing them pain. The bot can even tell if someone has been hurt by another person. This makes it easy for people who have experienced trauma to get back on track.\nI've used this bot before when I was having trouble getting my husband out of bed after he had fallen asleep while we were watching TV together. He'd fall into his chair and then wake up screaming. When I asked him what happened, he said \"He fell down.\" After some time passed, I realized that he hadn't actually fallen down but rather hit his head against something hard. So I started asking questions like \"What did you see?\" and \"How long ago was it?\" and eventually got him to admit that he didn't remember anything from earlier than an hour ago.\nThis kind of thing happens all the time. People will often try to explain things to me as best they can, only to realize that I'm just too busy trying to figure out what they mean. Sometimes I'll give them advice based on my own experience, which usually works better than any other explanation. But sometimes I end up explaining things incorrectly, so I always recommend using your intuition instead.\nWhen I first heard about this app, I thought it would be great for those times",
         "Feeling stuck can be frustrating but remember that progress is often slow yet meaningful over time. Focus on small steps you take each day to build momentum towards your goals.",
         "0.34430137276649475",
         "0.49785324931144714",
         "0.4070785939693451",
         "0.6802840232849121",
         "0.5188782215118408",
         "0.49676841497421265",
         "0.5075826048851013",
         "0.0424191951751709"
        ],
        [
         "7",
         "How can I develop a growth mindset?",
         "Developing a growth mindset involves embracing challenges as opportunities for growth. What’s one challenge you’re facing right now, and how could you approach it with curiosity?",
         "You need to be able to think about your future goals as well as what you want now. If you don't have this ability then it will take time for you to grow into an entrepreneur or leader of some kind.\nThe bot is not going to tell you how to do that. It just wants you to know that there are many ways to achieve your goal. The only thing it needs from you is to give it feedback on its performance so that it knows if it has been successful or not.\nIf you're interested in learning more about how to build a better chatbot, check out my book \"How To Build A Better Chat Bot\" .",
         "Developing a growth mind-set means believing that your abilities and intelligence can be developed through hard work and learning experiences – not fixed traits like being born smart or talented all of time. By focusing on challenges as opportunities for improvement rather than threats to ego, you'll become more resilient and open to new ideas. Remember, every person has room for change; even if it takes some effort initially!",
         "0.44824039936065674",
         "0.5090588331222534",
         "0.47671768069267273",
         "0.18860983848571777",
         "0.5187246203422546",
         "0.6116712093353271",
         "0.5613766312599182",
         "0.13142943382263184"
        ],
        [
         "8",
         "How do I stop feeling like I’m always the victim of my circumstances?",
         "Focus on what you can control and take small steps toward change. Shift your mindset to see challenges as opportunities to grow, rather than as things that happen to you. Taking proactive action can help you feel more empowered.",
         "You can't control what happens to you. It is up to you to make it better for yourself.\nThe bot was created by an anonymous person who wanted to help people feel less alone when they were struggling with depression or anxiety. The bot has been used on Reddit as well as other social media sites such as Facebook and Twitter.",
         "Feeling this way can be really tough to shake off. It might help start by focusing on what you've done recently that has positively impacted your life or being kind to yourself when things don't go as planned. Remember it doesn't mean everything is okay all the time – there will still have ups and downs no matter how much we try not to think about them!",
         "0.4695151150226593",
         "0.5373985767364502",
         "0.5011685490608215",
         "0.13085556030273438",
         "0.4689543545246124",
         "0.5307417511940002",
         "0.4979386031627655",
         "0.12653684616088867"
        ],
        [
         "9",
         "I feel guilty for feeling happy when others are suffering.",
         "Your happiness doesn't diminish others' struggles. Cultivating your own well-being can actually better equip you to support others.",
         "You're not alone! We all have feelings of guilt sometimes. But we can learn to manage them better by being more aware of our own emotions.\nThe bot is able to recognize that it has been programmed to be empathetic towards its users, but it still doesn't know how to express itself in an appropriate manner. It needs some help from you to get there.\nHow do you teach your bots about human emotion? What kind of feedback should they receive before they start expressing themselves?",
         "Feeling sad or unhappy doesn't mean you're not doing enough to help those around; it just means your emotions might be different from what they see on social media often portrays as happiness all day long. Try focusing more on small acts of kindness that can make someone else smile today instead of comparing yourself unfavorably against everyone else online.",
         "0.4463405907154083",
         "0.5094740986824036",
         "0.4758222997188568",
         "0.15760231018066406",
         "0.4816254675388336",
         "0.5695674419403076",
         "0.5219178795814514",
         "0.10929989814758301"
        ],
        [
         "10",
         "How can I prevent work from affecting my mental health?",
         "Set boundaries between work and personal life, prioritize self-care, and seek support if you’re feeling overwhelmed. Make sure to take breaks and engage in activities that relax and recharge you.",
         "You should be able to stop working if you want to. If not, then it is your choice whether or not to continue doing so.\nThe bot was created by an anonymous person who wanted to help people understand how they could improve their lives through technology. The bot has been used for over two years now on various websites such as Reddit, Twitter, Facebook, LinkedIn, Google+, Pinterest, Tumblr, etc. It also appears to have had some success at helping users overcome depression and anxiety.",
         "It sounds like you're looking for advice on how to maintain your well-being at home while working full time or part-time. Here’s some general guidance that might help—it involves setting boundaries between what happens outside of work hours and when it does happen inside them. Try not to check emails during meals or right before bed because this could make sleep harder later down the line if there is an overwhelming amount going through your mind all day long. Also try limiting social media use as much as possible especially late into night so no screens after 9pm unless absolutely necessary which helps reduce stress levels by giving us space away from technology distractions throughout our days rather than constantly checking messages about other people who aren't really important but still keep distracting thoughts running around within ourselves even though we know they shouldn't be.”",
         "0.39242520928382874",
         "0.47093942761421204",
         "0.42811229825019836",
         "0.1402299404144287",
         "0.4478282928466797",
         "0.5763771533966064",
         "0.5040355920791626",
         "0.2448728084564209"
        ],
        [
         "11",
         "How can I take care of my mental health during stressful projects?",
         "During stressful projects, it’s important to stay organized, break tasks into smaller steps, and take regular breaks. Practice relaxation techniques like deep breathing, and make time for activities that help you unwind.",
         "You should try to be more aware of your emotions when you're working on something that is very important for yourself or others. Try not to get too emotional about it. If you feel like crying, just stop doing what you were doing. It will help you focus better.\nIf you have any questions regarding this topic, please leave them below!",
         "Taking breaks to relax is important for managing stress levels. Try deep breathing exercises or going outside when you need fresh air. Practicing gratitude by reflecting on positive aspects throughout your day helps shift focus away from stressors. Remember that it’s okay not all tasks will be perfect—just do what needs doing today!",
         "0.49151718616485596",
         "0.5077562928199768",
         "0.49950480461120605",
         "0.12287402153015137",
         "0.5780985951423645",
         "0.6095777153968811",
         "0.5934209823608398",
         "0.051413774490356445"
        ],
        [
         "12",
         "I'm worried that my past trauma will always control my life.",
         "While trauma can have lasting effects, healing is possible. Focus on developing coping strategies and consider seeking professional support for trauma-specific therapies.",
         "You're not alone! There is help available for you.\nThe bot was created by an anonymous person who wanted to create a more human-like conversation experience. The bot has been used on Reddit as well as other social media platforms such as Facebook and Twitter.",
         "It can be challenging to overcome traumas from your past if they continue affecting you today. Seeking professional help is crucial for healing and moving forward positively. What do you think about talking to someone who has gone through similar experiences?",
         "0.415527880191803",
         "0.45840245485305786",
         "0.43591344356536865",
         "0.05747199058532715",
         "0.5129984021186829",
         "0.5612691640853882",
         "0.5360492467880249",
         "0.07809948921203613"
        ],
        [
         "13",
         "Why do I feel so insecure about my relationship status?",
         "Your relationship status doesn't define your worth. Focus on developing yourself and your interests. What's one personal goal you could work on that's unrelated to relationships?",
         "You're not feeling secure because you don't know what to say or how to ask for help. It is important that your partner knows why they should be happy with you. If you can explain it clearly then they will understand.\nIf you have any questions please contact us at support@chatbotsforhomes.com",
         "Feeling like you're not good enough for someone can be really tough to deal with. It might help if we talk more openly about your feelings - what specifically makes you worried or uncertain about being single versus married/in-a-relationship right now?",
         "0.4291769862174988",
         "0.493579238653183",
         "0.4591307044029236",
         "0.09732866287231445",
         "0.4553491473197937",
         "0.5477885007858276",
         "0.49730968475341797",
         "0.08295130729675293"
        ],
        [
         "14",
         "I feel like I'm not making a meaningful contribution to the world.",
         "Impact comes in many forms. Focus on small acts of kindness and the positive influence you have on those around you.",
         "You're doing great! Thank you for your time.\nThe bot is now ready to answer questions from users. The next step is to ask them about themselves. This can be done by asking them what they do or who they know. For example, if someone asks \"What does it mean when people say that you have 'a good heart'?\" the bot will reply with something along these lines:\n\"I am an emotional person.\"\nIf the user wants more information on how to use this tool, they should visit http://www.chatbots.org/ .",
         "Feeling unfulfilled can be really tough. It might help if you think about what matters most to you - is it helping others? Making progress on important issues or creating positive change within your community? Whatever aligns with how you want to spend time right now could bring purpose back into your life.",
         "0.35229742527008057",
         "0.45603153109550476",
         "0.39750829339027405",
         "0.14885449409484863",
         "0.4512712061405182",
         "0.5245023965835571",
         "0.48513883352279663",
         "0.07898211479187012"
        ],
        [
         "15",
         "I'm afraid that my anxiety makes me seem weak to others.",
         "Anxiety doesn't equate to weakness. Managing anxiety often requires great strength and resilience.",
         "You're not weak! Your anxiety is normal. It means you need help from someone who understands your situation better than you do.\nThe bot will then ask for more information about the person they want to talk to. The user can choose whether or not to answer this request by clicking on \"Yes\" or \"No\". If the user answers yes, the bot will continue asking questions until it gets an appropriate response. This process continues until the user has answered all of the questions asked. Once the user gives up answering these questions, the conversation ends.\nIf the user does not respond to any of the requests made by the bot, the chatbot will stop talking to them. They may be able to get back into the conversation if they click on the \"Continue Conversation\" button at the bottom right corner of the screen.",
         "It can be challenging for some people to recognize when they're feeling anxious or overwhelmed by emotions like weakness. Remember that your feelings matter just as much as anyone else’s do. Try talking about how you feel – it might help someone understand what you need more than anything else!",
         "0.3479798138141632",
         "0.5100402235984802",
         "0.4137052595615387",
         "0.22979068756103516",
         "0.41450607776641846",
         "0.49565649032592773",
         "0.45146358013153076",
         "0.07533431053161621"
        ],
        [
         "16",
         "How can I be more mindful in my daily life?",
         "Being mindful means staying fully present in the moment, without judgment. You can practice mindfulness by paying attention to your breathing, noticing your surroundings, and engaging in everyday activities with intention (like eating or walking). Would you like a simple mindfulness exercise to help you start?",
         "You should try to think about your actions as if they were thoughts that you have been having for some time now. Try to remember what it was like when you first started thinking about something or how you felt before doing anything. This will help you become aware of your own mind-state and make sure that you don't repeat yourself.\nThe next step is to ask questions that are relevant to the person asking them. For example, \"How do you feel?\" If the answer is negative (e.g., \"I am not feeling well\"), then this might indicate that there may be an underlying problem that needs addressing. The best thing to do here is to simply say \"I'm sorry\" instead of trying to explain why you're upset. It doesn't matter whether the person understands what you mean by saying \"sorry\", so long as they understand that you want to talk to someone who cares enough to listen to you.\nIf the person has already asked a question, but you haven't heard back from them yet, then you need to continue talking until you hear back. In other words, you need not only to respond to the initial query, but also to follow up on any additional queries that come along.\nIn addition to answering questions, you could use these techniques to build rapport with people. When interacting with strangers online, one of the most effective ways to get to know someone is through conversation. By using conversational cues such as body language, facial expressions, tone of voice, etc.,",
         "Being mindful means paying attention to your thoughts, feelings, and actions at any moment throughout the day. Try taking notice of how you're feeling right now - what do you see around you or feel inside? Mindfulness exercises like deep breathing or focusing on one thing for 5 minutes each could help bring this practice into everyday activities.",
         "0.459033340215683",
         "0.5691260099411011",
         "0.5081854462623596",
         "0.6867194175720215",
         "0.6107558012008667",
         "0.6615394353866577",
         "0.6351341009140015",
         "0.090240478515625"
        ],
        [
         "17",
         "I'm afraid of public speaking and it's holding me back at work.",
         "Many people fear public speaking. Try visualizing successful presentations and practice deep breathing techniques to manage anxiety. Remember, most audiences want you to succeed.",
         "You're not alone! There is no reason to be shy or embarrassed about your voice. It can make you more confident and open up to new experiences.\nThe bot will also help you improve your English skills by giving you feedback on how well you speak. The bot will even give you tips for improving your pronunciation.\nIf you want to learn more about this project, check out our blog post .",
         "Public speaking can be intimidating for many people. Have you tried practicing your speech or presentation? Sometimes rehearsing helps build confidence before an audience arrives. What do you think about joining our team to get more experience on stage?",
         "0.47944381833076477",
         "0.5168867707252502",
         "0.4974617063999176",
         "0.12026667594909668",
         "0.566687285900116",
         "0.6176509857177734",
         "0.5910725593566895",
         "0.07938933372497559"
        ],
        [
         "18",
         "What are some good daily habits for better mental well-being?",
         "Establishing healthy routines can significantly improve your mental well-being. Consider practicing mindfulness, maintaining a balanced diet, getting regular exercise, and ensuring you get enough sleep. Setting aside time for self-care and social connections also helps. Would you like a personalized habit tracker?",
         "I like to read books on my commute home from work. It helps me focus when I'm tired or stressed out.\nI also try to eat healthy food whenever possible. Eating healthier foods is one of the best ways to improve your mood.\nIf you want to learn more about how we use bots to help people live happier lives, check out our blog post here .",
         "Engaging activities like meditation or deep breathing can help calm your mind throughout the day. Try to maintain regular sleep patterns as they play an important role too!",
         "0.500808596611023",
         "0.5295743346214294",
         "0.5147899389266968",
         "0.12163972854614258",
         "0.6020758748054504",
         "0.5545628070831299",
         "0.5773434638977051",
         "0.05191397666931152"
        ],
        [
         "19",
         "How do I handle criticism constructively?",
         "Constructive criticism can be helpful for growth. Listen for what you can learn from it, and try not to take it personally. What’s one piece of feedback you’ve received that you could use to improve?",
         "You can't be critical of yourself! It is not constructive to criticize your own work or ideas. If you want to learn more about how to deal with criticism, check out this article on how to respond to criticism .\nUser 2: What if my friend says something that makes me uncomfortable?\nThe bot will ask for clarification before responding. This helps avoid misunderstandings and allows users to understand what they're saying.\nIf you have any questions regarding our service, please feel free to contact us at support@chatbots.io",
         "Handling criticism can be challenging but it doesn't define you as an individual or your worth to others. Try not taking things personally and focus on what they're saying about YOU rather than how you look at them. Remember that everyone has strengths too! Keep practicing self-compassion by treating yourself kindly when faced with constructive feedback.",
         "0.4630656838417053",
         "0.5211669206619263",
         "0.49040138721466064",
         "0.14860033988952637",
         "0.5639004707336426",
         "0.6023975014686584",
         "0.582513689994812",
         "0.10168290138244629"
        ],
        [
         "20",
         "I feel like I'm not living an exciting enough life.",
         "Excitement is subjective. Find joy in small, everyday moments and pursue activities that genuinely interest you, rather than what others might find exciting.",
         "You're right! We can help you make it more interesting by giving you some tips on how to improve your life. Here is one of our most popular questions that we've received from users all over the world.\nWhat do you want to be when you grow up?\nUser (name): I'd love to become a doctor or lawyer.\nBots: What would you say if someone asked you what you wanted to be at age 20?\nThe bot responds with \"I don't know.\" The user then asks for another answer. This time, the bot replies with \"Well, I guess I'll just have to wait until my parents die before I decide!\"\nThis response has been used as a teaching tool for students who were struggling with schoolwork. It also helped them understand why they had difficulty completing assignments.\nHow does this work?\nWe use machine learning algorithms to analyze the content of each message sent through Chatbots. These algorithms learn about the language spoken by the person sending the messages so that they can better respond to the user. For example, if a user speaks English but uses a different word than the bot intended, the algorithm will automatically correct the error.\nWhen a user sends us a new question, we ask the bot to look into its history and see which questions it answered correctly. If there was no previous information available, we try to find out where the user got his/her answers from. Then, based on these clues, we create a personalized reply",
         "Feeling unfulfilled can be tough to deal with. It might help if you think about what aspects of your current or past lives have made them interesting for you – it could even include things that aren't necessarily \"exciting\" but still meaningful! What do you enjoy doing?",
         "0.34570038318634033",
         "0.46609288454055786",
         "0.3969692587852478",
         "0.677603006362915",
         "0.4791170656681061",
         "0.5240309238433838",
         "0.5005685687065125",
         "0.07154512405395508"
        ],
        [
         "21",
         "I'm always comparing myself to others on social media.",
         "Remember that social media often shows curated highlights of people's lives. Focus on your own journey and consider limiting social media use if it negatively impacts your mood.",
         "You're not! It is very easy for you to compare yourself to other people online. Just look at your own profile picture or read about them on Facebook. If they have similar interests then it will be easier for you.\nIf you want to learn more about how to build an effective conversation bot, check out this article .",
         "Comparing yourself can be really tough because it makes you feel like everyone else is better than you. Remember that nobody posts about themselves all day long – they're usually busy or focused on something different! Try not to compare your life too much; instead focus on what’s good for YOU right now.",
         "0.4876534938812256",
         "0.5515384078025818",
         "0.517632246017456",
         "0.09798359870910645",
         "0.5007895231246948",
         "0.5610948801040649",
         "0.5292298197746277",
         "0.08154559135437012"
        ],
        [
         "22",
         "I feel empty and numb all the time. Is something wrong with me?",
         "Emotional numbness can be a sign of depression, trauma, or burnout. Identifying underlying causes with a therapist can help, as well as engaging in activities that bring joy or meaning to your life.",
         "No, you're just feeling sad because of your situation. You can try to think about what is causing this sadness or depression. Try thinking about how you could be happier if you had more money. If you have any questions, please ask them here.",
         "Feeling this way can be really tough to deal with on your own. It might help if we talked about what you're going through together - sharing feelings is one of our strengths as friends! What do you think could make things better for you right now?",
         "0.4774991273880005",
         "0.4896962642669678",
         "0.4835208058357239",
         "0.05247902870178223",
         "0.4244861304759979",
         "0.44343727827072144",
         "0.4337548315525055",
         "0.056203365325927734"
        ],
        [
         "23",
         "How do I handle negative feedback at work?",
         "Negative feedback can be tough, but it’s an opportunity for growth. Listen carefully, stay open to improvement, and ask for specific ways to do better in the future.",
         "You can't! It is not possible to be an effective employee if you don't know how to deal with criticism. If your boss tells you that you're doing something wrong or doesn't like what you've done, then it will only make things worse for both of you. So instead of being defensive, try to understand why they think this way. Try to find out where they get their information from so that you can explain yourself better. This might mean asking them questions about themselves (e.g., \"What did you study?\") or even just listening to what they have to say. Be patient and understanding when someone says bad things about you; it takes time to learn how to respond well to such comments.\nIf you want to improve your ability to interact effectively with people, consider using one of these tools .",
         "Handling negativity can be tough but remember that it doesn't define you or your worth as an employee. Try to focus on what positive changes could come from constructive criticism rather than getting defensive about past mistakes. If needed, consider speaking up for yourself during team meetings when discussing areas where improvements need attention.",
         "0.44137588143348694",
         "0.5431617498397827",
         "0.4870072901248932",
         "0.22936201095581055",
         "0.522899866104126",
         "0.5817567110061646",
         "0.5507603287696838",
         "0.048955440521240234"
        ],
        [
         "24",
         "I feel guilty for taking time for myself.",
         "Self-care is crucial for mental health. Taking time for yourself isn't selfish; it's necessary to recharge and be your best self for others.",
         "You're not alone! We all do it sometimes. It is okay to take some time out of your day to help someone else.\nThe bot will then ask you if you would like to be added as an official friend or family member. If you agree, they'll send you a message asking how long you'd like to stay friends. Once you've agreed on this, the bot will start sending messages back and forth between you. The first message sent by the bot should arrive within 10 minutes after you have accepted the invitation from them.\nIf you don't want to receive any more messages from the bot, simply click 'No' at the bottom right corner of the screen. This will remove the invite from your account.",
         "It can be hard to balance work responsibilities while also prioritizing self-care. Remember that you're doing this because it makes sense from your perspective as well – when we take care of ourselves, our energy levels improve so we have more productive days at home or during breaks. What do you think might help?",
         "0.4031664729118347",
         "0.5053500533103943",
         "0.4485118091106415",
         "0.21863102912902832",
         "0.48686712980270386",
         "0.558639645576477",
         "0.5202898979187012",
         "0.10499453544616699"
        ],
        [
         "25",
         "Why does no one ever listen to me?",
         "Feeling unheard can be frustrating and lonely. Have you tried calmly expressing how important it is for others to hear your perspective?",
         "I don't know why you're asking that. You have an opinion on something, but it doesn't matter what your opinion is. It matters how well you answer the questions asked of you by other users. If you can do this, then you will be able to get more answers from people who want them than those who don't.\nThe bot has been around for over two years now, and its popularity continues to grow every day. The most popular question it gets today is \"Why did you leave?\" which is answered almost 100% correctly. This means that there are many people out there who would like to hear about your life story or just ask you some random questions. But they aren't getting any replies because the bot isn't answering their questions properly. So if you'd like to help make sure that everyone else gets the same kind of response as you, here are three ways you could start doing so!",
         "It can be challenging when others don't seem interested or respond as you'd like them too. Try expressing your feelings calmly yet assertively - let people know how they make you feel before reacting negatively about it again. Remember that everyone has different communication styles; some might appreciate directness while others prefer more understanding conversations. If this continues after trying these strategies, consider seeking support from trusted individuals who understand emotional boundaries better than just talking things over online.",
         "0.39356499910354614",
         "0.4916192889213562",
         "0.43716126680374146",
         "0.42316222190856934",
         "0.46589094400405884",
         "0.5812170505523682",
         "0.517203152179718",
         "0.12448644638061523"
        ],
        [
         "26",
         "Why do I feel like I’m not good at anything?",
         "Feeling incompetent often comes from negative self-talk. Challenge those thoughts by focusing on your strengths and accomplishments. What’s something you’re naturally good at?",
         "You're bad at everything!\nUser (sigh): Ok...\nThe bot is now asking you to explain why you think that. The more detailed your answer, the better it will be for them. If they don't understand what you mean by \"everything\", then just say something else. For example, if someone asks you how many people have died from Ebola, you can simply reply \"I'm sorry but I don't know.\" or \"It depends on who you ask\" or \"We don't really know yet\". This kind of response makes the conversation much easier for both parties.\nIf you want to make sure that the person understands what you meant, try saying things like \"That's an interesting point about the virus,\" or \"What does this mean?\" or \"How did you come up with that number?\" or even \"Why didn't you tell me before?\" It doesn't matter whether you use English or Chinese characters; the important thing is that you communicate clearly and accurately.\nWhen you get stuck, try using one of these phrases:\nUser : What should we do next?\nBots: We need to find out more information about the disease.\nThis works well because it gives the other party some time to figure out what you were trying to convey. Try saying something like \"Let's talk about the symptoms first.\" Or \"Can you give us any details about the infection so far?\"\nAnother useful trick is to start off with a simple statement such",
         "Feeling overwhelmed by self-doubt can be really tough to shake off. Try focusing on small achievements you've made recently or setting achievable goals for yourself today – this might help boost your confidence!",
         "0.37313345074653625",
         "0.5052680969238281",
         "0.42926251888275146",
         "0.7000601291656494",
         "0.5478709936141968",
         "0.5740763545036316",
         "0.5606676936149597",
         "0.06077289581298828"
        ],
        [
         "27",
         "I feel like I don't deserve good things in my life.",
         "Everyone deserves happiness and success. Challenge this belief by listing positive qualities about yourself and acknowledging your achievements, no matter how small.",
         "You do?\nUser (sigh): Yeah...I'm not sure what to say.\nThe bot is very friendly and easy to use. It has an intuitive interface that makes it simple for users to interact with it. The bot also provides some useful information about its owner, such as his or her name, age, gender, occupation, etc.\nIn addition, the bot can be used to answer questions from other people on Twitter. For example, if you ask someone \"What was your favorite movie?\" the bot will reply by saying something along the lines of \"My favourite movies were 'A Clockwork Orange' and 'Eyes Wide Shut'.\" This feature allows users to get more out of their conversations with bots than just answering questions.\nAnother great thing about this bot is that it doesn't require any special software installed on your computer. All you need to do is download the app and start chatting!",
         "Feeling this can be really tough to deal with. It might help if you take some time for yourself when everything feels okay again so that your mind doesn’t get overwhelmed by negative thoughts about others' lives or how they're doing right now. Remember why it matters what happens around us – we all have our own unique stories worth celebrating!",
         "0.35542482137680054",
         "0.49010711908340454",
         "0.4120393693447113",
         "0.36772871017456055",
         "0.4250088930130005",
         "0.5038943290710449",
         "0.46110203862190247",
         "0.12235593795776367"
        ],
        [
         "28",
         "How can I stop feeling so insecure about my singing voice?",
         "Many people feel self-conscious about their singing, but remember that singing can be joyful regardless of skill level. Can you think of a time when singing, even privately, made you feel happy?",
         "You're not alone! There is no such thing as an \"insecure\" singer. It just means that you have to work on your vocal skills. If you want to improve your voice, then start by practicing more often. Try different songs or sing along to them while listening to other people's voices. This will help you develop better technique and make it easier for you to hear yourself clearly when you sing.\nIf you feel like you need some extra motivation, try using this video from YouTube . The song is called \"I'm Not Afraid of Anyone\", but if you listen carefully, you'll notice that there isn't any actual singing involved at all. Instead, the lyrics describe how someone feels when they lose something important (like a job) and how they must find it again.",
         "Feeling like you're not good enough is really tough to deal with. Remember that everyone starts somewhere! Singing isn't just for professional voices; it also helps improve your overall self-esteem. Try practicing small scales or simple songs at home – even if they feel awkward now, keep going because progress takes time. And don’t forget to enjoy yourself along the journey of learning how beautiful music sounds inside...",
         "0.4627813696861267",
         "0.5215485095977783",
         "0.4904106557369232",
         "0.24620413780212402",
         "0.4716121554374695",
         "0.5498265624046326",
         "0.5077248215675354",
         "0.12173604965209961"
        ],
        [
         "29",
         "How can I improve my sleep when I feel stressed?",
         "Stress can make it hard to sleep. Try creating a calming bedtime routine, such as reading, listening to relaxing music, or practicing meditation. Avoid screens before bed, and ensure your environment is quiet and comfortable. Would you like to try a guided sleep meditation?",
         "You should try to relax more by reading books or relaxing on your bed.\nThe bot is not perfect but it does what it says. It helps you understand how people use technology and how they interact with each other. The bot also provides some useful tips for improving your productivity.",
         "Stressful situations often make it hard to fall asleep or stay relaxed during rest periods. Try practicing relaxation techniques like deep breathing exercises before bed time for better quality of sleep. Also consider setting boundaries around your work hours so you have more downtime at home where stress is less intense.",
         "0.528140664100647",
         "0.5482474565505981",
         "0.5380062460899353",
         "0.060910701751708984",
         "0.6414123773574829",
         "0.6253654956817627",
         "0.6332873106002808",
         "0.059686899185180664"
        ],
        [
         "30",
         "How can I manage anxiety while working from home?",
         "Working from home can feel isolating. Create a routine, set clear work boundaries, and take breaks to recharge. Stay connected with your team and reach out for support when needed. Practicing mindfulness and movement can also help reduce anxiety.",
         "You should try to avoid doing anything that will make you feel anxious or stressed out. If you do have an issue, talk about it with your boss first. They may be able to help you find some solutions for you.\nIf you're not sure what to say, ask them if they know of any resources on how to deal with stress at work. Some companies offer free consultations as well.\nThe best thing is to keep talking until you get something useful back. It might take several attempts before you actually understand what the person wants to hear.",
         "Managing stress at work is important for your well-being too! Try setting small breaks throughout the day to stretch or take short walks around you workspace - this helps keep things fresh on your mind. Also consider talking about how stressful it feels when feeling overwhelmed by tasks so that others know what’s going through your head if needed. Remember everyone has bad days sometimes but don't let them define everything else all of time. Take care of yourself outside of work as much as possible because being happy will help make any challenges easier to handle better.",
         "0.4708540439605713",
         "0.5040653347969055",
         "0.48689398169517517",
         "0.14706063270568848",
         "0.508532702922821",
         "0.5809817314147949",
         "0.5423483848571777",
         "0.14921855926513672"
        ],
        [
         "31",
         "Why do I feel so insecure about my accent/way of speaking?",
         "Your accent is part of your unique identity and background. Try to embrace it as something that makes you distinct. Can you think of someone you admire who has a unique way of speaking?",
         "Because you're not sure how to express yourself properly! You can't just say \"I'm sorry\" or \"It was an accident\". It would be too awkward for your users. Instead, use this simple sentence: \"I am very nervous because I don't know what to say.\" User: What is it like being a bot on Reddit?\nBots have been around since 2007 when reddit started allowing bots to post comments. Since then, there has always been some kind of interaction between humans and bots. But now that we've got all these new tools at our disposal, we want to make them even more useful by making them smarter than ever before. We think that having a conversation with a human is much easier than trying to figure out if someone is talking to us through text messages or voice calls. So we decided to build a conversational AI that will help people understand each other better. The goal here is to create a tool that helps people communicate with one another in ways they never thought possible. Our first step towards achieving this goal is to get a lot of data from real-world conversations. This means getting access to thousands of conversations across hundreds of subreddits. Then we'll analyze those conversations using machine learning techniques to learn which topics are most important to talk about. Finally, we'll train our artificial intelligence system to recognize patterns in those conversations and tell us whether something is interesting or funny. In order to achieve this, we need to collect as many different kinds of information as possible",
         "Feeling like you don't fit or sound perfect can be challenging for many people around the world who have accents as part of their identity. It doesn’t define your worth! Focus on learning new ways to express yourself confidently while embracing where you come from—your unique voice is beautiful regardless of how it sounds out loud. Remember that everyone has strengths beyond language barriers; try practicing different phrases at home using simple sentences before moving onto more complex conversations.",
         "0.39975640177726746",
         "0.5240409970283508",
         "0.45353829860687256",
         "0.6829688549041748",
         "0.5334829092025757",
         "0.6328626871109009",
         "0.578938901424408",
         "0.12561964988708496"
        ],
        [
         "32",
         "Why do I always feel like giving up?",
         "Feeling like giving up can be a sign of exhaustion or frustration. What’s one small thing you can do today to take care of yourself?",
         "Because you're not good enough! You don't know what it is to be happy. It doesn't matter how much money you make or how many people love you; if you can't find happiness inside yourself, then there will never be any peace for anyone else.\nThe bot has been programmed by an AI that was trained on thousands of conversations between humans and bots over several years. The bot also uses natural language processing (NLP) techniques to understand human speech patterns and respond accordingly.",
         "Feeling overwhelmed by challenges can be tough to handle sometimes. It might help if you break down your feelings into smaller parts - what specifically makes it hard for you right now? Is there something that triggers these thoughts or emotions more than others? Sometimes talking about them helps clarify things better.",
         "0.37240350246429443",
         "0.4343542158603668",
         "0.4010002613067627",
         "0.14430809020996094",
         "0.4794727563858032",
         "0.5300725102424622",
         "0.5035045742988586",
         "0.04749035835266113"
        ],
        [
         "33",
         "I keep procrastinating even though it stresses me out more later.",
         "Procrastination often comes from fear or overwhelm. Break tasks into smaller steps and start with just one—sometimes taking action is the hardest part but makes all the difference.",
         "You're not doing anything wrong! It is just that you don't have enough time to do everything right now.\nThe bot will then ask for your opinion on what they should be working on next. The best advice would probably be to focus on one thing at a time until you get there. If you can't think of something else, try asking them about something else first. This might help you find an answer faster than if you had asked them all at once.\nIf you want to learn how to use this tool yourself, check out our guide here .",
         "It can be really hard to stop when you're feeling overwhelmed by your tasks ahead of time. Try breaking them down into smaller steps or creating an alarm for yourself that signals completion rather than just finishing everything at once. What do you think might help?",
         "0.3710353970527649",
         "0.41131746768951416",
         "0.3901394009590149",
         "0.1401677131652832",
         "0.4714476466178894",
         "0.5183979868888855",
         "0.4938093423843384",
         "0.08515644073486328"
        ],
        [
         "34",
         "Why do I feel like my friends don’t care about me anymore?",
         "It’s hard to feel disconnected from friends. Have you reached out to them to share how you feel? Sometimes, life gets busy, and they may not realize how their actions are affecting you.",
         "You're not alone! We all have our own reasons for feeling this way. But we can help you find your answers by answering some questions that will make sense to you.\nWhat is the difference between \"I\" and \"we\"? What does it mean when someone says they love you? How do you know if someone loves you or cares about you? These are just two of many common questions that people ask each other on social media platforms such as Facebook, Twitter, Instagram, etc. The answer to these questions may be different depending on who you talk to online. However, there are certain things that everyone has in common. They include: 1) Being human 2) Having feelings 3) Wanting to connect 4) Feeling lonely 5) Not being able to express themselves 6) Feelings of worthlessness 7) Lack of self-esteem 8) Fear 9) Self-doubt 10) Depression 11) Anxiety 12) Anger 13) Sadness 14) Confusion 15) Loss 16) Disbelief 17) Hopelessness 18) Unhappiness 19) Loneliness 20) Shame 21) Guilt 22) Hatred 23) Pride 24) Humiliation 25) Envy 26) Hate 27) Insanity 28) Obsession 29) Addiction 30) Sexuality 31) Religion 32) Politics 33) Sex 34) Drugs 35) Alcohol 36) Drug addiction 37) Suicide 38) Death 39) Other 40) Love 41) Hope 42) Despair 43) Rage",
         "It can be really tough to see people not connect as much when you're trying so hard for it too! Sometimes friendships grow old or change over time - maybe your current group isn't working out yet... What would help is talking things through if they seem important enough to keep going on together.",
         "0.3222610354423523",
         "0.5296334028244019",
         "0.4007074236869812",
         "0.5957603454589844",
         "0.4992675483226776",
         "0.5658736824989319",
         "0.530488133430481",
         "0.08395981788635254"
        ],
        [
         "35",
         "How do I recognize when work is affecting my mental health?",
         "Signs that work is affecting your mental health include feeling constantly stressed, fatigued, or unmotivated. You may also experience increased anxiety, irritability, or difficulty concentrating. If these feelings persist, it might be time to reassess your work-life balance.",
         "You're not alone! We all have our own struggles to deal with at times. It can be hard for us to see ourselves as being affected by what we do or how we feel about it. But you don't need to worry; there are many ways that your bot will help you understand yourself better.\nThe first thing you should know is that most of us struggle with depression, anxiety, stress, and other negative emotions. The more you learn about these issues, the easier it'll become to identify them and get support from others who've experienced similar things.\nFor example, if someone asks you \"How does it feel to be depressed?\" you might say something like this:\n\"I'm feeling really down right now.\"\nThis may seem strange because you probably haven't been depressed before. However, if you think back on your life, you likely remember some time where you felt very happy and content. This could mean that you were experiencing positive feelings throughout your entire life. If so, then you may also experience negative thoughts during those moments. For instance, you may find yourself thinking, \"Why am I doing this? Why did I even start working here? What was I expecting?\" Or maybe you just want to escape into fantasy worlds and forget about reality. Either way, you shouldn't let these negative thoughts affect your mood. Instead, try to focus on the positives instead.\nAnother important point is that people often use terms such as \"depression,\" \"anxiety,\" and",
         "Recognizing whether your job affects you mentally can be challenging but it’s important to take care of yourself during tough times or periods where stress increases significantly at home due to workplace issues like long hours or high expectations from colleagues that may impact how much time for self-care they have available if needed.",
         "0.471050500869751",
         "0.598677396774292",
         "0.5272504687309265",
         "0.676410436630249",
         "0.5151840448379517",
         "0.5319769382476807",
         "0.5234458446502686",
         "0.08917546272277832"
        ],
        [
         "36",
         "Why didn’t anyone help me when I needed it most?",
         "It’s painful when support isn’t there when we need it. Let’s focus on building a support system now—who in your life could you reach out to for help?",
         "You were too busy to do anything about it!\nThe bot is not only useful for answering questions but also as an example of how to interact with users. It can be used to show off your knowledge or even just to make you feel good. The best part is that this bot will never ask you any personal information like name, email address, etc.",
         "It can be tough to feel like you're not being helped enough sometimes. Remember that everyone faces challenges differently, so don't give up on yourself or others who might have been there for you too. Reach out if something feels overwhelming – talking about your feelings is okay!",
         "0.39229291677474976",
         "0.40403056144714355",
         "0.39807525277137756",
         "0.1243584156036377",
         "0.489032506942749",
         "0.5021295547485352",
         "0.4954945147037506",
         "0.05206465721130371"
        ],
        [
         "37",
         "Why do I feel so insecure about my cultural background?",
         "Your cultural background is a unique part of who you are. Try to embrace and learn more about your heritage. What's one aspect of your culture that you're proud of or interested in exploring more?",
         "Because you're not white! User: What is your name?\nThe bot replies \"I'm sorry but this conversation has ended.\" The user then asks for another one of his questions to be answered by him. This time he gets an answer that makes sense. He feels more comfortable talking to someone who understands what he wants from them.\nThis example shows how conversational bots can help people understand each other better. They also show us how we can use these tools to improve our own communication skills.",
         "Feeling like you don't fit into any particular culture can be challenging for anyone. It might help to remember that everyone has unique experiences shaped by where they come from – it doesn’t define who we are as individuals or what makes us special. Try reflecting on how your own family traditions have influenced you over time; this could give insight into why certain aspects of your heritage resonate deeply within you.",
         "0.42102986574172974",
         "0.5022261142730713",
         "0.45805755257606506",
         "0.14265108108520508",
         "0.5397851467132568",
         "0.6263511180877686",
         "0.5798551440238953",
         "0.11924362182617188"
        ],
        [
         "38",
         "Why do I often feel helpless in difficult situations?",
         "Feeling helpless can be overwhelming, but the key is recognizing that even small actions can lead to progress. Focus on what you can control, set achievable goals, and celebrate your progress, no matter how small. Empowerment begins with action.",
         "You're not feeling powerless because you don't know what to say or how to ask for help. It is your own fault that you can't find someone who will listen to you when you need them most.\nThe bot has been trained on over 1 million questions from users around the world. The results of this research have shown that people tend to be more open-minded towards new ideas if they see others using similar methods as themselves. This means that we should encourage our bots to use these techniques so that they become better conversationalists.",
         "Feeling powerless can be overwhelming at times but remember that you have control over your reactions to challenges by taking small steps towards solutions or seeking support when needed.",
         "0.45094233751296997",
         "0.4807247817516327",
         "0.46535754203796387",
         "0.1489572525024414",
         "0.6324408054351807",
         "0.5582571029663086",
         "0.593038022518158",
         "0.0749824047088623"
        ],
        [
         "39",
         "I’m worried that people are judging me all the time.",
         "While it's natural to be concerned about others' opinions, most people are focused on their own lives. Try to shift your focus to your own values and goals rather than imagined judgments.",
         "You're not wrong! But you can't help it if you feel like everyone is looking at you as though they have something to say about your appearance or personality. It makes you uncomfortable when this happens. So please try to be more open-minded and considerate of others' feelings.\nThe bot also has some other useful features for users who want to interact with them. For example, it will ask questions such as \"What do you think of my outfit?\" or \"How would you describe yourself?\". The answers given by the bot are then displayed on the screen so that the user can see how well he/she understands what was said. This feature helps the user understand his/her own thoughts better.\nAnother interesting thing about the Bot is its ability to learn from its interactions with the user. If the user asks the bot any question, it'll answer back with an appropriate response. In addition, the bot learns new things through interaction with the users. As long as the user keeps interacting with the bot, it won't forget anything.",
         "It can be really tough to see others' opinions of you sometimes. Try focusing on your own strengths and accomplishments – remember how far you've come so far! And don't forget about positive feedback from friends or family; they might not always agree but still appreciate what you do well.",
         "0.42455047369003296",
         "0.5735450983047485",
         "0.4879269301891327",
         "0.33135080337524414",
         "0.5611495971679688",
         "0.6559449434280396",
         "0.6048555970191956",
         "0.07506132125854492"
        ],
        [
         "40",
         "Why do I always feel stuck?",
         "Feeling stuck is hard, but it can also be a sign that something needs to change. What’s one area of your life you’d like to improve?",
         "You're not really feeling it right now. It is just that you don't know what to say or how to express yourself.\nThe bot will then ask for more information about your situation. The user can also choose to answer questions from other users who have similar problems. This allows them to get help from others who understand their problem better than they do themselves.\nThis kind of interaction has been shown to be effective at reducing anxiety and stress levels among people suffering from depression. In addition, this type of conversation helps improve communication skills between individuals as well as reduce feelings of isolation.",
         "Feeling like you're not moving forward can be really tough to deal with. It might help if we explore what feels stagnant for you right now – is there something specific that’s holding things back or making it hard for you to see opportunities ahead of time?",
         "0.4284137487411499",
         "0.4729984402656555",
         "0.44960346817970276",
         "0.1497793197631836",
         "0.4882473647594452",
         "0.5670038461685181",
         "0.5246866345405579",
         "0.047452688217163086"
        ],
        [
         "41",
         "I'm afraid of becoming like my parents.",
         "You have the power to shape your own identity. Focus on cultivating the traits you admire and working on those you'd like to change.",
         "You're not your parents!\nThe bot is trying to help you understand what it means for someone to be \"like\" something. It doesn't mean that they have an emotional attachment or anything like that; it just means that they feel some sort of connection to the thing being compared to them. The more specific the comparison, the better. For example, if you compare yourself to a person who has been diagnosed as having autism, then you'll probably get a lot of responses from people saying things like \"I don't know how to deal with this!\" or \"It makes me sad.\" But when you ask about the relationship between autism and sadness, you might get replies such as \"That sounds really interesting,\" or \"Wow, that's so cool!\"\nThis kind of conversation can go on forever, but there are two important points here. First, the bot should never say \"you're wrong\" or \"that's stupid.\" That would only make the other person feel worse. Instead, the best response is always \"thank you\" or even \"it was nice talking to you.\" This will show that you care enough about the topic at hand to want to learn more about it. Second, the most effective way to respond to these kinds of questions is by asking the user directly. If you've got a good idea about why they think something is bad, try telling them directly instead of using a general statement like \"your opinion sucks.\" They may still disagree with you, but they won't necessarily hate you.",
         "It can be challenging to grow up feeling similar to your family members all the time. Remember that everyone has different experiences and perspectives – you're unique! Try setting boundaries or finding positive role models who inspire you instead of comparing yourself unfavorably to others around you. What do you think about trying this?",
         "0.36467182636260986",
         "0.5158466100692749",
         "0.42728176712989807",
         "0.6758124828338623",
         "0.5029506087303162",
         "0.5688108205795288",
         "0.5338571667671204",
         "0.09301877021789551"
        ],
        [
         "42",
         "How do I stop feeling resentful toward others for my struggles?",
         "Resentment can hold you back. Try shifting your focus to solutions instead of blame. Acknowledge your feelings without letting them define you, and practice self-compassion. Focusing on your personal growth will help you move forward in a healthier way.",
         "You can't change your past; you have to learn from it.\nThe bot is not perfect, but it does its job well enough that we're happy to use it as an example of how to build a better chatbot (and maybe even help other people).",
         "Feeling resentment can be challenging to overcome. Try focusing on what you've learned from difficult experiences or how they have helped shape your resilience. Practicing gratitude by acknowledging positive aspects of life also helps shift perspective away from negativity. Remember that everyone faces challenges; it doesn't define who we are as individuals. Small acts like offering support when needed show kindness rather than criticism—it’s okay not always being perfect!",
         "0.45309391617774963",
         "0.5180278420448303",
         "0.4833899736404419",
         "0.05749654769897461",
         "0.5327985286712646",
         "0.6263487339019775",
         "0.5757985711097717",
         "0.12314987182617188"
        ],
        [
         "43",
         "I feel like I'm not living authentically.",
         "Authenticity is a journey. Start by identifying your core values and making small choices that align with them each day.",
         "You're right! We can help you to live more authentically by helping you understand your own emotions better.\nThe bot will then ask for some feedback from the user on how they would improve themselves. The user is encouraged to share this information with others who may be interested in improving themselves as well. This process of sharing feedback helps build trust between users and bots.\nThis type of interaction has been shown to increase engagement among both humans and bots (see here ). It also increases the likelihood that people will continue interacting with the bot over time. In fact, it seems likely that these types of interactions could even lead to increased usage of the service itself.\nIn addition to building trust within its community, the bot also provides an opportunity for developers to learn about new technologies and techniques. For example, if someone wants to create a social media app using Facebook Messenger or WhatsApp, they might want to know what tools are available so that they don't have to reinvent the wheel every single time. By providing them with useful resources, the Bot can provide valuable insight into the technology being used.\nAs we've seen above, there are many ways that bots can interact with us. However, one thing that all of these different methods have in common is that they require human intervention. Bots do not need our input at all; they simply respond to questions posed by the user. They are therefore much easier to use than other forms of communication because they don\nt rely on any form of human involvement whatsoever. As such,",
         "Feeling unauthentic can be challenging to navigate. It might help if you take some time for self-reflection – what activities make you proud of yourself? What values do you want your life to reflect? Sometimes talking through these questions helps clarify our sense of purpose. Would that resonate with you?",
         "0.36518800258636475",
         "0.5052559971809387",
         "0.42395246028900146",
         "0.6698341369628906",
         "0.4577527642250061",
         "0.5048133134841919",
         "0.4801326096057892",
         "0.07204937934875488"
        ],
        [
         "44",
         "I feel like I'm always waiting for the other shoe to drop in my relationships.",
         "This anticipation can strain relationships. Try to focus on the present positives in your relationships rather than potential future negatives.",
         "You're not alone! We all have our own stories of how we've been hurt by someone else or ourselves. It can be hard to accept that you might need help from another person when it feels so familiar. But if you want to know more about yourself, ask us anything.\nThe bot will respond to your questions as best it can based on what you tell it. If you don't get an answer back within 24 hours, please contact support@chatbots.io .",
         "It can be really tough when things don't go as planned right away. Try not to put too much pressure on yourself or others; instead focus on being present during moments that might seem insignificant but could become important later. Practicing gratitude daily also helps shift your perspective from what hasn’t happened yet to something positive happening soon—like new opportunities coming along!",
         "0.38497692346572876",
         "0.462197482585907",
         "0.42006784677505493",
         "0.1540544033050537",
         "0.48895367980003357",
         "0.6085554361343384",
         "0.5422376990318298",
         "0.12229394912719727"
        ],
        [
         "45",
         "How can I stay positive when faced with negative people?",
         "Staying positive around negative people involves setting boundaries and focusing on your own energy. What’s one way you could protect your positivity today?",
         "You should be able to tell them that you're not going to give up on them or change your mind about anything. If they don't want to talk to you anymore, then it means that they have something wrong with them. They need help.\nThe bot is very good at understanding what users mean by \"negative\" and \"positive\". It knows how to respond to these terms correctly. The only thing that could make this better would be if the bot was programmed to understand more complex emotions like sadness, anger, fear etc. But for now, we'll just focus on answering questions.\nWhat do you think of this bot? Do you use any other bots? Let us know in comments below!",
         "Staying positive doesn't mean ignoring or avoiding negativity but focusing on your own well-being by practicing gratitude for what you have rather than dwelling on others' problems. It also helps to surround yourself with positivity through good company and activities that uplift you.",
         "0.4149162173271179",
         "0.5196171998977661",
         "0.4614015817642212",
         "0.20028281211853027",
         "0.5857741832733154",
         "0.601908802986145",
         "0.5937318801879883",
         "0.05984687805175781"
        ],
        [
         "46",
         "Why do I always feel like I'm not stylish enough?",
         "Style is personal and subjective. Focus on wearing what makes you feel comfortable and confident. What's one outfit or accessory that makes you feel good when you wear it?",
         "My skin is very dark brown.\nThis time, the bot replies that it doesn't have any specific preferences on what colors people should wear. It just knows how they look when they walk down the street. This kind of response can be used as an effective tool for building rapport with users.\nIn addition to being able to respond to questions from users, bots also provide useful feedback to developers who need help understanding how their apps work. For example, if you want to make sure that your app works properly even after updates, you could ask the bot to tell you which parts of your code were broken. Or, if someone has trouble getting started using your app because of some technical issue, you might ask the robot to give them advice on how to fix it.\nAs we've seen above, there are many ways to use conversational interfaces to build trust between humans and robots. But one thing that all these methods share is that they require human interaction. In other words, while bots may seem like a great solution for helping us interact with our computers, they still rely heavily on human input.",
         "Feeling insecure about your style can be challenging to overcome. Try focusing on what you love wearing rather than trying to follow trends or compare yourself to others who may have more fashion sense. Remember that everyone has unique tastes – there is no one-size-fits all look! What brings you joy when it comes to dressing up today?",
         "0.3990713953971863",
         "0.5241117477416992",
         "0.453123539686203",
         "0.3543224334716797",
         "0.5204711556434631",
         "0.6127554178237915",
         "0.5628556609153748",
         "0.10283899307250977"
        ],
        [
         "47",
         "How do I stop feeling like I'm not knowledgeable enough about current events?",
         "It's impossible to know everything about current events. Focus on staying informed about topics that interest you. What's one reliable news source you could check regularly?",
         "You're too smart for that!\nUser 2: What is your favorite color?\nThe bot responds by saying \"I don't know.\" User 3: Why does it feel so good to be alive?\nIt replies, \"Because you have no idea what life is really like!\"",
         "Feeling this can be challenging but remember that knowledge is always growing through learning from others' experiences or reading up on topics you're interested in. Focus on staying informed by following trusted sources for updates rather than trying to become an expert overnight!",
         "0.3974411189556122",
         "0.4419522285461426",
         "0.41851648688316345",
         "0.07666420936584473",
         "0.556562066078186",
         "0.5940130352973938",
         "0.5746780037879944",
         "0.07260513305664062"
        ],
        [
         "48",
         "How do I stop seeing myself as a victim of my circumstances?",
         "It’s helpful to shift your mindset from a victim mentality to one of resilience. Focus on the things you can control and seek opportunities for growth. Your circumstances don’t define you; your response to them does.",
         "You're not a victim! You have control over your life. Your choices matter to you.\nThe bot is trying to help by giving advice on how to change things for the better. It doesn't want to be an advocate or judge, but it does want to give people some guidance so they can make more informed decisions about what they choose to do next. The bot also wants to show that there are other options available if someone feels like they've been left behind.\nThis isn't just a good example of a conversational AI; this is one of many examples where we see bots helping us out. Bots aren't always perfect, but when used well, they can really improve our lives.",
         "Recognizing your power over situations can help you break free from feeling like a victim. Focus on taking small steps towards change that align with positive goals for yourself rather than dwelling solely on what could go wrong or how others might view you differently due to past experiences. Remember that everyone has strengths they're proud of despite challenges faced – use those positives when possible!",
         "0.47159773111343384",
         "0.5485464334487915",
         "0.5071699619293213",
         "0.20618820190429688",
         "0.5311689376831055",
         "0.5497875213623047",
         "0.5403178930282593",
         "0.11469888687133789"
        ],
        [
         "49",
         "How can I stop feeling so insecure about my ability to keep plants alive?",
         "Plant care is a skill that improves with practice. Remember that even experienced gardeners sometimes struggle. What's one small step you could take to learn more about caring for a specific plant?",
         "You're not doing anything wrong! It is natural for you to feel this way. The problem lies within your own mind. Your thoughts have been distorted by negative emotions such as fear or anxiety. These feelings will continue until they become more manageable. Try to focus on positive things instead of worrying about what others think of you.\nThe bot also has some useful tips that might help you overcome these fears. For example, it suggests using a plant-based diet (such as vegan) when dealing with stress. Another suggestion is to use meditation techniques like mindfulness exercises to calm down your brain. Finally, try to remember that people don't always see you the same way. If someone says something mean to you, just smile back at them and say \"I'm sorry\" again. This helps reduce any negativity from being directed towards you.",
         "It sounds like you're struggling with self-doubt when it comes to caring for living things. Remember that even experienced gardeners face challenges every day – they just have more experience! Try breaking down your tasks into smaller steps or seeking advice from others who might be facing similar issues. What do you think is one small step you could take this week on plant care?",
         "0.4314447045326233",
         "0.5259398818016052",
         "0.47402888536453247",
         "0.24410557746887207",
         "0.5806467533111572",
         "0.7114962339401245",
         "0.6394462585449219",
         "0.12427806854248047"
        ]
       ],
       "shape": {
        "columns": 12,
        "rows": 100
       }
      },
      "text/html": [
       "<div>\n",
       "<style scoped>\n",
       "    .dataframe tbody tr th:only-of-type {\n",
       "        vertical-align: middle;\n",
       "    }\n",
       "\n",
       "    .dataframe tbody tr th {\n",
       "        vertical-align: top;\n",
       "    }\n",
       "\n",
       "    .dataframe thead th {\n",
       "        text-align: right;\n",
       "    }\n",
       "</style>\n",
       "<table border=\"1\" class=\"dataframe\">\n",
       "  <thead>\n",
       "    <tr style=\"text-align: right;\">\n",
       "      <th></th>\n",
       "      <th>input</th>\n",
       "      <th>reference_response</th>\n",
       "      <th>gpt_model_response</th>\n",
       "      <th>custom_model_response</th>\n",
       "      <th>gpt_model_response_BERT_Precision</th>\n",
       "      <th>gpt_model_response_BERT_Recall</th>\n",
       "      <th>gpt_model_response_BERT_F1</th>\n",
       "      <th>gpt_model_response_Time_Taken</th>\n",
       "      <th>custom_model_response_BERT_Precision</th>\n",
       "      <th>custom_model_response_BERT_Recall</th>\n",
       "      <th>custom_model_response_BERT_F1</th>\n",
       "      <th>custom_model_response_Time_Taken</th>\n",
       "    </tr>\n",
       "  </thead>\n",
       "  <tbody>\n",
       "    <tr>\n",
       "      <th>0</th>\n",
       "      <td>I'm worried that my mental health struggles wi...</td>\n",
       "      <td>Your awareness is a positive first step. Focus...</td>\n",
       "      <td>You're not alone! We've all been there. It can...</td>\n",
       "      <td>It can be challenging to balance our responsib...</td>\n",
       "      <td>0.418724</td>\n",
       "      <td>0.577408</td>\n",
       "      <td>0.485426</td>\n",
       "      <td>0.429973</td>\n",
       "      <td>0.448527</td>\n",
       "      <td>0.556372</td>\n",
       "      <td>0.496663</td>\n",
       "      <td>0.124043</td>\n",
       "    </tr>\n",
       "    <tr>\n",
       "      <th>1</th>\n",
       "      <td>I'm worried I'll never find a job I truly enjoy.</td>\n",
       "      <td>Finding fulfilling work can take time. Explore...</td>\n",
       "      <td>You're not alone! There are many people who ha...</td>\n",
       "      <td>It can be tough to know what you're passionate...</td>\n",
       "      <td>0.386464</td>\n",
       "      <td>0.528269</td>\n",
       "      <td>0.446375</td>\n",
       "      <td>0.680681</td>\n",
       "      <td>0.478345</td>\n",
       "      <td>0.526583</td>\n",
       "      <td>0.501306</td>\n",
       "      <td>0.063382</td>\n",
       "    </tr>\n",
       "    <tr>\n",
       "      <th>2</th>\n",
       "      <td>How do I stop feeling like others always get t...</td>\n",
       "      <td>Instead of focusing on others, acknowledge you...</td>\n",
       "      <td>You're not getting any recognition for your wo...</td>\n",
       "      <td>Feeling undervalued can be really tough to dea...</td>\n",
       "      <td>0.403619</td>\n",
       "      <td>0.526456</td>\n",
       "      <td>0.456926</td>\n",
       "      <td>0.671911</td>\n",
       "      <td>0.512272</td>\n",
       "      <td>0.602288</td>\n",
       "      <td>0.553645</td>\n",
       "      <td>0.124299</td>\n",
       "    </tr>\n",
       "    <tr>\n",
       "      <th>3</th>\n",
       "      <td>I feel like I'm not smart enough compared to m...</td>\n",
       "      <td>Intelligence comes in many forms. Focus on you...</td>\n",
       "      <td>You're right! We have lots of people who can d...</td>\n",
       "      <td>Feeling that you're less intelligent than othe...</td>\n",
       "      <td>0.408612</td>\n",
       "      <td>0.500665</td>\n",
       "      <td>0.449979</td>\n",
       "      <td>0.122518</td>\n",
       "      <td>0.463550</td>\n",
       "      <td>0.554617</td>\n",
       "      <td>0.505011</td>\n",
       "      <td>0.065618</td>\n",
       "    </tr>\n",
       "    <tr>\n",
       "      <th>4</th>\n",
       "      <td>Why do I feel like I’m not living in the present?</td>\n",
       "      <td>Feeling disconnected from the present often co...</td>\n",
       "      <td>You're feeling stuck because you don't know wh...</td>\n",
       "      <td>Feeling stuck can be challenging to shake off....</td>\n",
       "      <td>0.430438</td>\n",
       "      <td>0.470008</td>\n",
       "      <td>0.449354</td>\n",
       "      <td>0.136588</td>\n",
       "      <td>0.540873</td>\n",
       "      <td>0.637343</td>\n",
       "      <td>0.585158</td>\n",
       "      <td>0.141500</td>\n",
       "    </tr>\n",
       "    <tr>\n",
       "      <th>...</th>\n",
       "      <td>...</td>\n",
       "      <td>...</td>\n",
       "      <td>...</td>\n",
       "      <td>...</td>\n",
       "      <td>...</td>\n",
       "      <td>...</td>\n",
       "      <td>...</td>\n",
       "      <td>...</td>\n",
       "      <td>...</td>\n",
       "      <td>...</td>\n",
       "      <td>...</td>\n",
       "      <td>...</td>\n",
       "    </tr>\n",
       "    <tr>\n",
       "      <th>95</th>\n",
       "      <td>Why does everyone else get opportunities that ...</td>\n",
       "      <td>It may seem that way, but opportunities often ...</td>\n",
       "      <td>Not yet. Humans still need language to express...</td>\n",
       "      <td>It can be frustrating when others seem to have...</td>\n",
       "      <td>0.385865</td>\n",
       "      <td>0.475733</td>\n",
       "      <td>0.426112</td>\n",
       "      <td>0.207309</td>\n",
       "      <td>0.469204</td>\n",
       "      <td>0.485816</td>\n",
       "      <td>0.477366</td>\n",
       "      <td>0.058707</td>\n",
       "    </tr>\n",
       "    <tr>\n",
       "      <th>96</th>\n",
       "      <td>Why do I feel like nothing will ever change?</td>\n",
       "      <td>Change can feel impossible, but even small ste...</td>\n",
       "      <td>Because you're not human! You don't have feeli...</td>\n",
       "      <td>Feeling stuck can be really tough to shake off...</td>\n",
       "      <td>0.386213</td>\n",
       "      <td>0.485401</td>\n",
       "      <td>0.430163</td>\n",
       "      <td>0.436930</td>\n",
       "      <td>0.476762</td>\n",
       "      <td>0.598325</td>\n",
       "      <td>0.530671</td>\n",
       "      <td>0.123593</td>\n",
       "    </tr>\n",
       "    <tr>\n",
       "      <th>97</th>\n",
       "      <td>How can I prioritize self-care during busy per...</td>\n",
       "      <td>Prioritizing self-care during busy times invol...</td>\n",
       "      <td>You should try to avoid doing things that will...</td>\n",
       "      <td>Remember to take breaks throughout your day – ...</td>\n",
       "      <td>0.447943</td>\n",
       "      <td>0.476662</td>\n",
       "      <td>0.461856</td>\n",
       "      <td>0.136419</td>\n",
       "      <td>0.484071</td>\n",
       "      <td>0.494679</td>\n",
       "      <td>0.489317</td>\n",
       "      <td>0.073912</td>\n",
       "    </tr>\n",
       "    <tr>\n",
       "      <th>98</th>\n",
       "      <td>What can I do if I feel anxious before big pre...</td>\n",
       "      <td>Anxiety before presentations is normal. Practi...</td>\n",
       "      <td>You should relax! It is normal to be nervous w...</td>\n",
       "      <td>Feeling nervous about public speaking is commo...</td>\n",
       "      <td>0.489538</td>\n",
       "      <td>0.573815</td>\n",
       "      <td>0.528337</td>\n",
       "      <td>0.142087</td>\n",
       "      <td>0.571166</td>\n",
       "      <td>0.607637</td>\n",
       "      <td>0.588837</td>\n",
       "      <td>0.043763</td>\n",
       "    </tr>\n",
       "    <tr>\n",
       "      <th>99</th>\n",
       "      <td>I feel like I'm stuck in a cycle of negative t...</td>\n",
       "      <td>Negative thought patterns can be hard to break...</td>\n",
       "      <td>You're not! It is your own mind that you need ...</td>\n",
       "      <td>Feeling trapped can be really tough to shake o...</td>\n",
       "      <td>0.369917</td>\n",
       "      <td>0.460787</td>\n",
       "      <td>0.410382</td>\n",
       "      <td>0.235390</td>\n",
       "      <td>0.523016</td>\n",
       "      <td>0.588469</td>\n",
       "      <td>0.553815</td>\n",
       "      <td>0.086414</td>\n",
       "    </tr>\n",
       "  </tbody>\n",
       "</table>\n",
       "<p>100 rows × 12 columns</p>\n",
       "</div>"
      ],
      "text/plain": [
       "                                                input  \\\n",
       "0   I'm worried that my mental health struggles wi...   \n",
       "1    I'm worried I'll never find a job I truly enjoy.   \n",
       "2   How do I stop feeling like others always get t...   \n",
       "3   I feel like I'm not smart enough compared to m...   \n",
       "4   Why do I feel like I’m not living in the present?   \n",
       "..                                                ...   \n",
       "95  Why does everyone else get opportunities that ...   \n",
       "96       Why do I feel like nothing will ever change?   \n",
       "97  How can I prioritize self-care during busy per...   \n",
       "98  What can I do if I feel anxious before big pre...   \n",
       "99  I feel like I'm stuck in a cycle of negative t...   \n",
       "\n",
       "                                   reference_response  \\\n",
       "0   Your awareness is a positive first step. Focus...   \n",
       "1   Finding fulfilling work can take time. Explore...   \n",
       "2   Instead of focusing on others, acknowledge you...   \n",
       "3   Intelligence comes in many forms. Focus on you...   \n",
       "4   Feeling disconnected from the present often co...   \n",
       "..                                                ...   \n",
       "95  It may seem that way, but opportunities often ...   \n",
       "96  Change can feel impossible, but even small ste...   \n",
       "97  Prioritizing self-care during busy times invol...   \n",
       "98  Anxiety before presentations is normal. Practi...   \n",
       "99  Negative thought patterns can be hard to break...   \n",
       "\n",
       "                                   gpt_model_response  \\\n",
       "0   You're not alone! We've all been there. It can...   \n",
       "1   You're not alone! There are many people who ha...   \n",
       "2   You're not getting any recognition for your wo...   \n",
       "3   You're right! We have lots of people who can d...   \n",
       "4   You're feeling stuck because you don't know wh...   \n",
       "..                                                ...   \n",
       "95  Not yet. Humans still need language to express...   \n",
       "96  Because you're not human! You don't have feeli...   \n",
       "97  You should try to avoid doing things that will...   \n",
       "98  You should relax! It is normal to be nervous w...   \n",
       "99  You're not! It is your own mind that you need ...   \n",
       "\n",
       "                                custom_model_response  \\\n",
       "0   It can be challenging to balance our responsib...   \n",
       "1   It can be tough to know what you're passionate...   \n",
       "2   Feeling undervalued can be really tough to dea...   \n",
       "3   Feeling that you're less intelligent than othe...   \n",
       "4   Feeling stuck can be challenging to shake off....   \n",
       "..                                                ...   \n",
       "95  It can be frustrating when others seem to have...   \n",
       "96  Feeling stuck can be really tough to shake off...   \n",
       "97  Remember to take breaks throughout your day – ...   \n",
       "98  Feeling nervous about public speaking is commo...   \n",
       "99  Feeling trapped can be really tough to shake o...   \n",
       "\n",
       "    gpt_model_response_BERT_Precision  gpt_model_response_BERT_Recall  \\\n",
       "0                            0.418724                        0.577408   \n",
       "1                            0.386464                        0.528269   \n",
       "2                            0.403619                        0.526456   \n",
       "3                            0.408612                        0.500665   \n",
       "4                            0.430438                        0.470008   \n",
       "..                                ...                             ...   \n",
       "95                           0.385865                        0.475733   \n",
       "96                           0.386213                        0.485401   \n",
       "97                           0.447943                        0.476662   \n",
       "98                           0.489538                        0.573815   \n",
       "99                           0.369917                        0.460787   \n",
       "\n",
       "    gpt_model_response_BERT_F1  gpt_model_response_Time_Taken  \\\n",
       "0                     0.485426                       0.429973   \n",
       "1                     0.446375                       0.680681   \n",
       "2                     0.456926                       0.671911   \n",
       "3                     0.449979                       0.122518   \n",
       "4                     0.449354                       0.136588   \n",
       "..                         ...                            ...   \n",
       "95                    0.426112                       0.207309   \n",
       "96                    0.430163                       0.436930   \n",
       "97                    0.461856                       0.136419   \n",
       "98                    0.528337                       0.142087   \n",
       "99                    0.410382                       0.235390   \n",
       "\n",
       "    custom_model_response_BERT_Precision  custom_model_response_BERT_Recall  \\\n",
       "0                               0.448527                           0.556372   \n",
       "1                               0.478345                           0.526583   \n",
       "2                               0.512272                           0.602288   \n",
       "3                               0.463550                           0.554617   \n",
       "4                               0.540873                           0.637343   \n",
       "..                                   ...                                ...   \n",
       "95                              0.469204                           0.485816   \n",
       "96                              0.476762                           0.598325   \n",
       "97                              0.484071                           0.494679   \n",
       "98                              0.571166                           0.607637   \n",
       "99                              0.523016                           0.588469   \n",
       "\n",
       "    custom_model_response_BERT_F1  custom_model_response_Time_Taken  \n",
       "0                        0.496663                          0.124043  \n",
       "1                        0.501306                          0.063382  \n",
       "2                        0.553645                          0.124299  \n",
       "3                        0.505011                          0.065618  \n",
       "4                        0.585158                          0.141500  \n",
       "..                            ...                               ...  \n",
       "95                       0.477366                          0.058707  \n",
       "96                       0.530671                          0.123593  \n",
       "97                       0.489317                          0.073912  \n",
       "98                       0.588837                          0.043763  \n",
       "99                       0.553815                          0.086414  \n",
       "\n",
       "[100 rows x 12 columns]"
      ]
     },
     "execution_count": 34,
     "metadata": {},
     "output_type": "execute_result"
    }
   ],
   "source": [
    "from bert_score import BERTScorer\n",
    "\n",
    "# Initialize BERTScorer\n",
    "scorer = BERTScorer(model_type=\"bert-base-uncased\")\n",
    "\n",
    "# List of model response columns\n",
    "model_response_columns = [\"gpt_model_response\", \"custom_model_response\"]\n",
    "\n",
    "for model_col in model_response_columns:\n",
    "    precision_scores = []\n",
    "    recall_scores = []\n",
    "    f1_scores = []\n",
    "    time_taken = []  # Store time taken for each response\n",
    "\n",
    "    for index, row in df.iterrows():\n",
    "        reference = row[\"reference_response\"]\n",
    "        candidate = row[model_col]\n",
    "\n",
    "        # Record start time\n",
    "        start_time = time.time()\n",
    "\n",
    "        # Compute BERTScore\n",
    "        P, R, F1 = scorer.score([candidate], [reference])\n",
    "\n",
    "        # Record end time\n",
    "        end_time = time.time()\n",
    "\n",
    "        # Compute and store time taken\n",
    "        time_elapsed = end_time - start_time\n",
    "        time_taken.append(time_elapsed)\n",
    "\n",
    "        # Store results\n",
    "        precision_scores.append(P.item())  # Convert tensor to float\n",
    "        recall_scores.append(R.item())\n",
    "        f1_scores.append(F1.item())\n",
    "\n",
    "    # Store scores in the DataFrame\n",
    "    df[f\"{model_col}_BERT_Precision\"] = precision_scores\n",
    "    df[f\"{model_col}_BERT_Recall\"] = recall_scores\n",
    "    df[f\"{model_col}_BERT_F1\"] = f1_scores  # F1 is the main score to look at\n",
    "    df[f\"{model_col}_Time_Taken\"] = time_taken  # Store time taken for each response\n",
    "\n",
    "df"
   ]
  },
  {
   "cell_type": "code",
   "execution_count": 37,
   "metadata": {},
   "outputs": [
    {
     "data": {
      "application/vnd.microsoft.datawrangler.viewer.v0+json": {
       "columns": [
        {
         "name": "index",
         "rawType": "int64",
         "type": "integer"
        },
        {
         "name": "Metric",
         "rawType": "object",
         "type": "string"
        },
        {
         "name": "GPT",
         "rawType": "float64",
         "type": "float"
        },
        {
         "name": "LuminAI",
         "rawType": "float64",
         "type": "float"
        }
       ],
       "conversionMethod": "pd.DataFrame",
       "ref": "d4a0d882-5d27-4dc6-bede-f35d32027578",
       "rows": [
        [
         "0",
         "BERTScore",
         "0.4525407117605209",
         "0.5326888912916183"
        ],
        [
         "1",
         "Time Taken",
         "0.33996198177337644",
         "0.09258988857269287"
        ]
       ],
       "shape": {
        "columns": 3,
        "rows": 2
       }
      },
      "text/html": [
       "<div>\n",
       "<style scoped>\n",
       "    .dataframe tbody tr th:only-of-type {\n",
       "        vertical-align: middle;\n",
       "    }\n",
       "\n",
       "    .dataframe tbody tr th {\n",
       "        vertical-align: top;\n",
       "    }\n",
       "\n",
       "    .dataframe thead th {\n",
       "        text-align: right;\n",
       "    }\n",
       "</style>\n",
       "<table border=\"1\" class=\"dataframe\">\n",
       "  <thead>\n",
       "    <tr style=\"text-align: right;\">\n",
       "      <th></th>\n",
       "      <th>Metric</th>\n",
       "      <th>GPT</th>\n",
       "      <th>LuminAI</th>\n",
       "    </tr>\n",
       "  </thead>\n",
       "  <tbody>\n",
       "    <tr>\n",
       "      <th>0</th>\n",
       "      <td>BERTScore</td>\n",
       "      <td>0.452541</td>\n",
       "      <td>0.532689</td>\n",
       "    </tr>\n",
       "    <tr>\n",
       "      <th>1</th>\n",
       "      <td>Time Taken</td>\n",
       "      <td>0.339962</td>\n",
       "      <td>0.092590</td>\n",
       "    </tr>\n",
       "  </tbody>\n",
       "</table>\n",
       "</div>"
      ],
      "text/plain": [
       "       Metric       GPT   LuminAI\n",
       "0   BERTScore  0.452541  0.532689\n",
       "1  Time Taken  0.339962  0.092590"
      ]
     },
     "execution_count": 37,
     "metadata": {},
     "output_type": "execute_result"
    }
   ],
   "source": [
    "gpt_bert_score = df[\"gpt_model_response_BERT_F1\"].mean()\n",
    "gpt_time_taken = df[\"gpt_model_response_Time_Taken\"].mean()\n",
    "\n",
    "luminai_bert_score = df[\"custom_model_response_BERT_F1\"].mean()\n",
    "luminai_time_taken = df[\"custom_model_response_Time_Taken\"].mean()\n",
    "\n",
    "metrics_df = pd.DataFrame({\n",
    "    \"Metric\": [\"BERTScore\", \"Time Taken\"],\n",
    "    \"GPT\": [gpt_bert_score, gpt_time_taken],\n",
    "    \"LuminAI\": [luminai_bert_score, luminai_time_taken]\n",
    "})\n",
    "\n",
    "metrics_df"
   ]
  },
  {
   "cell_type": "markdown",
   "metadata": {},
   "source": [
    "## Calculate Empathy Score for each model response"
   ]
  },
  {
   "cell_type": "code",
   "execution_count": null,
   "metadata": {},
   "outputs": [
    {
     "name": "stderr",
     "output_type": "stream",
     "text": [
      "Device set to use cuda:0\n",
      "c:\\Users\\wongq\\anaconda3\\envs\\python3.9\\lib\\site-packages\\transformers\\pipelines\\text_classification.py:106: UserWarning: `return_all_scores` is now deprecated,  if want a similar functionality use `top_k=None` instead of `return_all_scores=True` or `top_k=1` instead of `return_all_scores=False`.\n",
      "  warnings.warn(\n"
     ]
    }
   ],
   "source": [
    "# **🔹 STEP 7: Load Empathy Model (RoBERTa-based classifier)**\n",
    "empathy_model_name = \"unitary/unbiased-toxic-roberta\"\n",
    "empathy_tokenizer = AutoTokenizer.from_pretrained(empathy_model_name)\n",
    "empathy_model = AutoModelForSequenceClassification.from_pretrained(empathy_model_name)\n",
    "empathy_pipeline = pipeline(\"text-classification\", model=empathy_model, tokenizer=empathy_tokenizer, return_all_scores=True)\n",
    "\n",
    "# **🔹 STEP 8: Compute Empathy Score**\n",
    "def compute_empathy(text):\n",
    "    scores = empathy_pipeline(text)[0]  # Get model confidence scores\n",
    "    empathetic_score = scores[1]['score'] if len(scores) > 1 else 0  # Index 1 corresponds to \"non-toxic/empathy\"\n",
    "    return empathetic_score\n",
    "\n",
    "df[\"Empathy_Score\"] = df[\"model_response\"].apply(compute_empathy)"
   ]
  },
  {
   "cell_type": "code",
   "execution_count": 51,
   "metadata": {},
   "outputs": [],
   "source": [
    "df.to_csv(\"metrics.csv\", index=False)"
   ]
  },
  {
   "cell_type": "code",
   "execution_count": 52,
   "metadata": {},
   "outputs": [],
   "source": [
    "avg_bertscore_model = df[\"BERTScore_Model\"].mean()\n",
    "avg_bertscore_reference = df[\"BERTScore_Reference\"].mean()\n",
    "avg_bertscore_difference = df[\"BERTScore_Difference\"].mean()\n",
    "avg_empathy_score = df[\"Empathy_Score\"].mean()"
   ]
  },
  {
   "cell_type": "code",
   "execution_count": 53,
   "metadata": {},
   "outputs": [
    {
     "name": "stdout",
     "output_type": "stream",
     "text": [
      "Average BERTScore Model: 0.554422102502135\n",
      "Average BERTScore Reference: 0.6004213055626291\n",
      "Average BERTScore Difference: 0.04904351322377314\n",
      "Average Empathy Score: 2.3390437680988174e-05\n"
     ]
    }
   ],
   "source": [
    "print(f\"Average BERTScore Model: {avg_bertscore_model}\")\n",
    "print(f\"Average BERTScore Reference: {avg_bertscore_reference}\")\n",
    "print(f\"Average BERTScore Difference: {avg_bertscore_difference}\")\n",
    "print(f\"Average Empathy Score: {avg_empathy_score}\")"
   ]
  },
  {
   "cell_type": "code",
   "execution_count": 54,
   "metadata": {},
   "outputs": [
    {
     "ename": "ModuleNotFoundError",
     "evalue": "No module named 'ace_tools'",
     "output_type": "error",
     "traceback": [
      "\u001b[1;31m---------------------------------------------------------------------------\u001b[0m",
      "\u001b[1;31mModuleNotFoundError\u001b[0m                       Traceback (most recent call last)",
      "Cell \u001b[1;32mIn[54], line 1\u001b[0m\n\u001b[1;32m----> 1\u001b[0m \u001b[38;5;28;01mimport\u001b[39;00m\u001b[38;5;250m \u001b[39m\u001b[38;5;21;01mace_tools\u001b[39;00m\u001b[38;5;250m \u001b[39m\u001b[38;5;28;01mas\u001b[39;00m\u001b[38;5;250m \u001b[39m\u001b[38;5;21;01mtools\u001b[39;00m\n\u001b[0;32m      2\u001b[0m tools\u001b[38;5;241m.\u001b[39mdisplay_dataframe_to_user(name\u001b[38;5;241m=\u001b[39m\u001b[38;5;124m\"\u001b[39m\u001b[38;5;124mBERTScore Deviation + Empathy Analysis\u001b[39m\u001b[38;5;124m\"\u001b[39m, dataframe\u001b[38;5;241m=\u001b[39mdf)\n",
      "\u001b[1;31mModuleNotFoundError\u001b[0m: No module named 'ace_tools'"
     ]
    }
   ],
   "source": [
    "import ace_tools as tools\n",
    "tools.display_dataframe_to_user(name=\"BERTScore Deviation + Empathy Analysis\", dataframe=df)"
   ]
  },
  {
   "cell_type": "markdown",
   "metadata": {},
   "source": [
    "# Testing the model"
   ]
  },
  {
   "cell_type": "markdown",
   "metadata": {},
   "source": [
    "## Connection to Database"
   ]
  },
  {
   "cell_type": "code",
   "execution_count": null,
   "metadata": {},
   "outputs": [],
   "source": [
    "load_dotenv()\n",
    "\n",
    "USER = os.getenv(\"user\")\n",
    "PASSWORD = os.getenv(\"password\")\n",
    "HOST = os.getenv(\"host\")\n",
    "PORT = os.getenv(\"port\")\n",
    "DBNAME = os.getenv(\"dbname\")\n",
    "\n",
    "try:\n",
    "    connection = psycopg2.connect(\n",
    "        user=USER,\n",
    "        password=PASSWORD,\n",
    "        host=HOST,\n",
    "        port=PORT,\n",
    "        dbname=DBNAME\n",
    "    )\n",
    "    print(\"Connection successful!\")\n",
    "    \n",
    "    # Create a cursor to execute SQL queries\n",
    "    cursor = connection.cursor()\n",
    "\n",
    "except Exception as e:\n",
    "    print(f\"Failed to connect: {e}\")"
   ]
  },
  {
   "cell_type": "markdown",
   "metadata": {},
   "source": [
    "## Retrieval Augmented Generation"
   ]
  },
  {
   "cell_type": "code",
   "execution_count": null,
   "metadata": {},
   "outputs": [],
   "source": [
    "embedding_model = SentenceTransformer(\"all-MiniLM-L6-v2\")\n",
    "\n",
    "def store_conversation(user_message, bot_response, sentiment):\n",
    "    \"\"\"Stores a conversation in Supabase PostgreSQL.\"\"\"\n",
    "    embedding = embedding_model.encode([user_message])[0].tolist()\n",
    "    try:\n",
    "        cursor.execute(\n",
    "            \"INSERT INTO conversations (user_message, bot_response, sentiment, embedding) VALUES (%s, %s, %s, %s)\",\n",
    "            (user_message, bot_response, sentiment, embedding)\n",
    "        )\n",
    "        connection.commit()\n",
    "        print(\"Stored conversation\")\n",
    "    except Exception as e:\n",
    "        print(e)"
   ]
  },
  {
   "cell_type": "code",
   "execution_count": null,
   "metadata": {},
   "outputs": [],
   "source": [
    "def retrieve_past_conversations(query):\n",
    "    query_embedding = embedding_model.encode([query])[0] \n",
    "\n",
    "    if isinstance(query_embedding, np.ndarray): \n",
    "        query_embedding = query_embedding.tolist()\n",
    "\n",
    "    cursor.execute(\n",
    "        \"SELECT timestamp, user_message, bot_response FROM conversations \"\n",
    "        \"ORDER BY embedding <-> %s::vector LIMIT 5\",\n",
    "        (query_embedding,)  # Ensure it's passed as a tuple\n",
    "    )\n",
    "\n",
    "    results = cursor.fetchall()\n",
    "\n",
    "    if results:\n",
    "        context = \"\\n\".join([f\"[{r[0]}] User: {r[1]}\\nBot: {r[2]}\" for r in results])\n",
    "        return context\n",
    "    else:\n",
    "        return \"\""
   ]
  },
  {
   "cell_type": "markdown",
   "metadata": {},
   "source": [
    "## Load trained model"
   ]
  },
  {
   "cell_type": "code",
   "execution_count": null,
   "metadata": {},
   "outputs": [],
   "source": [
    "model = AutoModelForCausalLM.from_pretrained(\"results\", device_map=\"auto\")\n",
    "tokenizer = AutoTokenizer.from_pretrained(\"results\", device_map=\"auto\")\n",
    "\n",
    "model.to(device)"
   ]
  },
  {
   "cell_type": "markdown",
   "metadata": {},
   "source": [
    "## Models for translation and sentiment analysis"
   ]
  },
  {
   "cell_type": "code",
   "execution_count": null,
   "metadata": {},
   "outputs": [],
   "source": [
    "pipe = pipeline(\"text2text-generation\", model=\"Varine/opus-mt-zh-en-model\")\n",
    "sentiment_classifier = pipeline(\"sentiment-analysis\", model=\"distilbert-base-uncased-finetuned-sst-2-english\")"
   ]
  },
  {
   "cell_type": "code",
   "execution_count": null,
   "metadata": {},
   "outputs": [],
   "source": [
    "def get_sentiment(text):\n",
    "    \"\"\"Improved sentiment analysis with keyword-based distress detection.\"\"\"\n",
    "    crisis_keywords = [\"end my life\", \"suicide\", \"don't want to live\", \"kill myself\", \"worthless\", \"no reason to live\"]\n",
    "\n",
    "    # Check if crisis words are in the input\n",
    "    if any(phrase in text.lower() for phrase in crisis_keywords):\n",
    "        return \"crisis\"  # Override sentiment if crisis words are detected\n",
    "\n",
    "    # Otherwise, use DistilBERT-based sentiment analysis\n",
    "    result = sentiment_classifier(text)[0]\n",
    "    label = result['label']\n",
    "\n",
    "    # Convert to sentiment categories based on DistilBERT outputs\n",
    "    if label == \"NEGATIVE\":\n",
    "        return \"negative\"\n",
    "    elif label == \"POSITIVE\":\n",
    "        return \"positive\"\n",
    "    else:\n",
    "        return \"neutral\""
   ]
  },
  {
   "cell_type": "markdown",
   "metadata": {},
   "source": [
    "## Chatbot response"
   ]
  },
  {
   "cell_type": "code",
   "execution_count": null,
   "metadata": {},
   "outputs": [],
   "source": [
    "def chatbot_response(prompt):\n",
    "    retrieved_context = retrieve_past_conversations(prompt)\n",
    "    translated_prompt = pipe(prompt)[0].get(\"generated_text\", \"Translation failed\")  \n",
    "\n",
    "    print(translated_prompt)\n",
    "\n",
    "    system_prompt = \"You are a helpful and supportive chatbot. Answer the user's question in a clear and concise way without repeating their words exactly.\"\n",
    "    full_prompt = f\"{system_prompt}\\n{retrieved_context}\\nUser: {prompt}\\nBot:\"\n",
    "\n",
    "    sentiment_results = get_sentiment(prompt)\n",
    "\n",
    "    inputs = tokenizer(full_prompt, return_tensors=\"pt\")\n",
    "    inputs = {key: val.to(device) for key, val in inputs.items()}\n",
    "\n",
    "    outputs = model.generate(\n",
    "        **inputs, \n",
    "        max_new_tokens=650,\n",
    "        repetition_penalty=1.3,\n",
    "        no_repeat_ngram_size=3,  \n",
    "        temperature=0.8,  \n",
    "        top_p=0.9,  #\n",
    "        top_k=50  \n",
    "    )\n",
    "\n",
    "    response = tokenizer.decode(outputs[0], skip_special_tokens=True)\n",
    "\n",
    "    # Ensure the response does not include the system prompt\n",
    "    response = response.replace(system_prompt, \"\").strip()\n",
    "    \n",
    "    # Remove any leftover system prompt instructions\n",
    "    if \"Bot:\" in response:\n",
    "        response = response.split(\"Bot:\")[-1].strip()\n",
    "\n",
    "    # Translate response to Chinese\n",
    "    # translated = pipe(response)[0]['translation_text']\n",
    "    translated_text = pipe(response)[0].get(\"generated_text\", \"Translation failed\")  # Use .get() to avoid KeyError\n",
    "\n",
    "    return response, translated_text, sentiment_results"
   ]
  },
  {
   "cell_type": "code",
   "execution_count": null,
   "metadata": {},
   "outputs": [],
   "source": [
    "if __name__ == \"__main__\":\n",
    "    print(\"Chatbot is ready! Type 'exit' to stop.\")\n",
    "    while True:        \n",
    "        user_input = input(\"User: \")\n",
    "        if user_input.lower() == \"exit\":\n",
    "            cursor.close()\n",
    "            connection.close()\n",
    "            print(\"DB connection ended\")\n",
    "            break\n",
    "        response, translated, sentiment_results = chatbot_response(user_input)\n",
    "        store_conversation(user_input, response, sentiment_results)\n",
    "        print(f\"User: {user_input}\")\n",
    "        print(f\"Bot: {response}\")\n",
    "        print(f\"Translated Text: {translated}\")\n",
    "        print(f\"Sentiment Results: {sentiment_results}\")"
   ]
  }
 ],
 "metadata": {
  "kernelspec": {
   "display_name": "python3.9",
   "language": "python",
   "name": "python3"
  },
  "language_info": {
   "codemirror_mode": {
    "name": "ipython",
    "version": 3
   },
   "file_extension": ".py",
   "mimetype": "text/x-python",
   "name": "python",
   "nbconvert_exporter": "python",
   "pygments_lexer": "ipython3",
   "version": "3.9.21"
  }
 },
 "nbformat": 4,
 "nbformat_minor": 2
}
