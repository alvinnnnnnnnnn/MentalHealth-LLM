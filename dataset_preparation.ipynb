{
 "cells": [
  {
   "cell_type": "code",
   "execution_count": 1,
   "metadata": {},
   "outputs": [
    {
     "name": "stdout",
     "output_type": "stream",
     "text": [
      "Train file saved at: dataset/train.txt, Size: 320 dialogues\n",
      "Validation file saved at: dataset/validation.txt, Size: 80 dialogues\n",
      "Test file saved at: dataset/test.txt, Size: 100 dialogues\n"
     ]
    }
   ],
   "source": [
    "import os\n",
    "import random\n",
    "\n",
    "# Define file paths\n",
    "dataset_dir = \"dataset\"\n",
    "file_path = os.path.join(dataset_dir, \"dataset.txt\")\n",
    "train_file_path = os.path.join(dataset_dir, \"train.txt\")\n",
    "validation_file_path = os.path.join(dataset_dir, \"validation.txt\")\n",
    "test_file_path = os.path.join(dataset_dir, \"test.txt\")\n",
    "\n",
    "# Delete existing train, validation, and test files if they exist\n",
    "for file in [train_file_path, validation_file_path, test_file_path]:\n",
    "    if os.path.exists(file):\n",
    "        os.remove(file)\n",
    "\n",
    "# Load the dataset\n",
    "with open(file_path, \"r\", encoding=\"utf-8\") as file:\n",
    "    lines = file.readlines()\n",
    "\n",
    "# Parse dataset into topic-based dialogues\n",
    "dialogues = []\n",
    "current_dialogue = []\n",
    "inside_topic = False\n",
    "\n",
    "for line in lines:\n",
    "    line = line.strip()\n",
    "    if not line:\n",
    "        continue  # Skip empty lines\n",
    "    \n",
    "    if line.lower().startswith(\"topic\"):  # Detect topic headers\n",
    "        if current_dialogue:\n",
    "            dialogues.append(current_dialogue)  # Store previous topic dialogues\n",
    "        current_dialogue = []  # Reset for new topic\n",
    "        inside_topic = True\n",
    "    else:\n",
    "        current_dialogue.append(line)  # Collect user-bot exchanges\n",
    "\n",
    "# Add the last topic's dialogues if any\n",
    "if current_dialogue:\n",
    "    dialogues.append(current_dialogue)\n",
    "\n",
    "# Flatten dialogues to only user-bot pairs\n",
    "user_bot_pairs = []\n",
    "for dialogue in dialogues:\n",
    "    for i in range(0, len(dialogue) - 1, 2):\n",
    "        user_bot_pairs.append((dialogue[i], dialogue[i + 1]))\n",
    "\n",
    "# Shuffle dataset\n",
    "random.shuffle(user_bot_pairs)\n",
    "\n",
    "# Compute split indices\n",
    "test_split = int(0.2 * len(user_bot_pairs))  # 20% for test\n",
    "remaining = user_bot_pairs[test_split:]      # 80% remaining for train + validation\n",
    "train_split = int(0.8 * len(remaining))      # 80% of remaining for train\n",
    "\n",
    "# Split dataset\n",
    "test_dialogues = user_bot_pairs[:test_split]\n",
    "train_dialogues = remaining[:train_split]\n",
    "validation_dialogues = remaining[train_split:]\n",
    "\n",
    "# Function to save dialogues to a file\n",
    "def save_dialogues(file_path, dialogues):\n",
    "    with open(file_path, \"w\", encoding=\"utf-8\") as file:\n",
    "        for user, bot in dialogues:\n",
    "            file.write(f\"{user}\\n{bot}\\n\")\n",
    "\n",
    "# Save datasets\n",
    "save_dialogues(train_file_path, train_dialogues)\n",
    "save_dialogues(validation_file_path, validation_dialogues)\n",
    "save_dialogues(test_file_path, test_dialogues)\n",
    "\n",
    "# Print results\n",
    "print(f\"Train file saved at: {train_file_path}, Size: {len(train_dialogues)} dialogues\")\n",
    "print(f\"Validation file saved at: {validation_file_path}, Size: {len(validation_dialogues)} dialogues\")\n",
    "print(f\"Test file saved at: {test_file_path}, Size: {len(test_dialogues)} dialogues\")\n"
   ]
  }
 ],
 "metadata": {
  "kernelspec": {
   "display_name": "Python 3",
   "language": "python",
   "name": "python3"
  },
  "language_info": {
   "codemirror_mode": {
    "name": "ipython",
    "version": 3
   },
   "file_extension": ".py",
   "mimetype": "text/x-python",
   "name": "python",
   "nbconvert_exporter": "python",
   "pygments_lexer": "ipython3",
   "version": "3.9.21"
  }
 },
 "nbformat": 4,
 "nbformat_minor": 2
}
