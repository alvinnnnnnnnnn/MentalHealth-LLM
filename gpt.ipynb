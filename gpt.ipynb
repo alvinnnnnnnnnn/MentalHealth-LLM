{
 "cells": [
  {
   "cell_type": "markdown",
   "metadata": {},
   "source": [
    "# Importing libraries"
   ]
  },
  {
   "cell_type": "code",
   "execution_count": 24,
   "metadata": {},
   "outputs": [],
   "source": [
    "import torch\n",
    "import os\n",
    "import psycopg2\n",
    "import evaluate\n",
    "\n",
    "import pandas as pd\n",
    "import numpy as np\n",
    "\n",
    "from transformers import AutoTokenizer, AutoModelForCausalLM, Trainer, TrainingArguments, DataCollatorForLanguageModeling, pipeline, AutoModelForSequenceClassification\n",
    "from sentence_transformers import SentenceTransformer\n",
    "from datasets import Dataset\n",
    "from dotenv import load_dotenv"
   ]
  },
  {
   "cell_type": "markdown",
   "metadata": {},
   "source": [
    "# Defining file paths"
   ]
  },
  {
   "cell_type": "code",
   "execution_count": 2,
   "metadata": {},
   "outputs": [],
   "source": [
    "OUTPUT_DIR = \"results\"\n",
    "LOG_DIR = \"logs\"\n",
    "TRAIN_FILE = \"dataset/train.txt\"  # Path to your training data file\n",
    "VAL_FILE = \"dataset/validation.txt\"  # Path to your validation data file\n",
    "TEST_FILE = \"dataset/test.txt\"  # Path to your test data file"
   ]
  },
  {
   "cell_type": "markdown",
   "metadata": {},
   "source": [
    "# Loading Pre-trained Model"
   ]
  },
  {
   "cell_type": "code",
   "execution_count": 3,
   "metadata": {},
   "outputs": [],
   "source": [
    "tokenizer = AutoTokenizer.from_pretrained(\"HuggingFaceTB/SmolLM2-360M-Instruct\")\n",
    "model = AutoModelForCausalLM.from_pretrained(\"HuggingFaceTB/SmolLM2-360M-Instruct\")"
   ]
  },
  {
   "cell_type": "code",
   "execution_count": 4,
   "metadata": {},
   "outputs": [],
   "source": [
    "# tokenizer = AutoTokenizer.from_pretrained(\"HuggingFaceTB/SmolLM2-1.7B-Instruct\")\n",
    "# model = AutoModelForCausalLM.from_pretrained(\"HuggingFaceTB/SmolLM2-1.7B-Instruct\")"
   ]
  },
  {
   "cell_type": "code",
   "execution_count": 5,
   "metadata": {},
   "outputs": [
    {
     "name": "stdout",
     "output_type": "stream",
     "text": [
      "Original vocab size: 49152\n"
     ]
    }
   ],
   "source": [
    "original_vocab_size = model.config.vocab_size\n",
    "print(f\"Original vocab size: {original_vocab_size}\")"
   ]
  },
  {
   "cell_type": "code",
   "execution_count": 6,
   "metadata": {},
   "outputs": [
    {
     "name": "stdout",
     "output_type": "stream",
     "text": [
      "Model max length: 8192\n"
     ]
    }
   ],
   "source": [
    "print(f\"Model max length: {model.config.max_position_embeddings}\")"
   ]
  },
  {
   "cell_type": "code",
   "execution_count": 7,
   "metadata": {},
   "outputs": [
    {
     "name": "stdout",
     "output_type": "stream",
     "text": [
      "Max sequence length: 8192\n"
     ]
    }
   ],
   "source": [
    "print(f\"Max sequence length: {tokenizer.model_max_length}\")"
   ]
  },
  {
   "cell_type": "code",
   "execution_count": 8,
   "metadata": {},
   "outputs": [
    {
     "data": {
      "text/plain": [
       "Embedding(49152, 960, padding_idx=2)"
      ]
     },
     "execution_count": 8,
     "metadata": {},
     "output_type": "execute_result"
    }
   ],
   "source": [
    "model.gradient_checkpointing_enable()\n",
    "model.resize_token_embeddings(len(tokenizer))"
   ]
  },
  {
   "cell_type": "code",
   "execution_count": 9,
   "metadata": {},
   "outputs": [],
   "source": [
    "# model.config.use_cache = False"
   ]
  },
  {
   "cell_type": "markdown",
   "metadata": {},
   "source": [
    "# Setting the device"
   ]
  },
  {
   "cell_type": "code",
   "execution_count": 10,
   "metadata": {},
   "outputs": [
    {
     "name": "stdout",
     "output_type": "stream",
     "text": [
      "cuda\n"
     ]
    }
   ],
   "source": [
    "torch.cuda.empty_cache()\n",
    "device = torch.device(\"cuda\" if torch.cuda.is_available() else \"cpu\")\n",
    "model.to(device)\n",
    "\n",
    "print(device)"
   ]
  },
  {
   "cell_type": "code",
   "execution_count": 11,
   "metadata": {},
   "outputs": [
    {
     "name": "stderr",
     "output_type": "stream",
     "text": [
      "Token indices sequence length is longer than the specified maximum sequence length for this model (23489 > 8192). Running this sequence through the model will result in indexing errors\n"
     ]
    },
    {
     "name": "stdout",
     "output_type": "stream",
     "text": [
      "Train Tokens: 23489\n",
      "Validation Tokens: 6160\n"
     ]
    }
   ],
   "source": [
    "def count_tokens(file_path, tokenizer):\n",
    "    with open(file_path, \"r\", encoding=\"utf-8\") as f:\n",
    "        text = f.read()\n",
    "    tokens = tokenizer.tokenize(text)\n",
    "    return len(tokens)\n",
    "\n",
    "# Count tokens in training and validation files\n",
    "train_token_count = count_tokens(TRAIN_FILE, tokenizer)\n",
    "eval_token_count = count_tokens(VAL_FILE, tokenizer)\n",
    "print(f\"Train Tokens: {train_token_count}\")\n",
    "print(f\"Validation Tokens: {eval_token_count}\")"
   ]
  },
  {
   "cell_type": "markdown",
   "metadata": {},
   "source": [
    "# Training the model"
   ]
  },
  {
   "cell_type": "markdown",
   "metadata": {},
   "source": [
    "## Setting up training arguments"
   ]
  },
  {
   "cell_type": "code",
   "execution_count": 12,
   "metadata": {},
   "outputs": [],
   "source": [
    "training_args = TrainingArguments(\n",
    "    output_dir=OUTPUT_DIR,\n",
    "    eval_strategy=\"epoch\",\n",
    "    logging_strategy=\"epoch\",     # Logs loss at intervals\n",
    "    learning_rate=1e-5,\n",
    "    per_device_train_batch_size=2,  # Reduced batch size for limited GPU memory\n",
    "    per_device_eval_batch_size=2,\n",
    "    num_train_epochs=5,\n",
    "    weight_decay=0.01,\n",
    "    save_total_limit=2,\n",
    "    logging_dir=LOG_DIR,\n",
    "    gradient_accumulation_steps=4,  # Accumulate gradients to simulate larger batch sizes\n",
    "    fp16=True,\n",
    "    bf16=False,\n",
    "    optim=\"adamw_torch\",\n",
    ")"
   ]
  },
  {
   "cell_type": "markdown",
   "metadata": {},
   "source": [
    "## Loading dataset"
   ]
  },
  {
   "cell_type": "code",
   "execution_count": 13,
   "metadata": {},
   "outputs": [],
   "source": [
    "def load_chatbot_data(file_path):\n",
    "    \"\"\"Load and preprocess chatbot data from the given text file.\"\"\"\n",
    "    conversations = []\n",
    "    with open(file_path, \"r\", encoding=\"utf-8\") as f:\n",
    "        lines = f.readlines()\n",
    "        user_input, bot_response = None, None\n",
    "        for line in lines:\n",
    "            if line.startswith(\"user:\"):\n",
    "                user_input = line.replace(\"user:\", \"\").strip()\n",
    "            elif line.startswith(\"bot:\"):\n",
    "                bot_response = line.replace(\"bot:\", \"\").strip()\n",
    "                if user_input and bot_response:\n",
    "                    conversations.append({\"input\": user_input, \"output\": bot_response})\n",
    "                    user_input, bot_response = None, None\n",
    "    return pd.DataFrame(conversations)"
   ]
  },
  {
   "cell_type": "code",
   "execution_count": 14,
   "metadata": {},
   "outputs": [
    {
     "name": "stdout",
     "output_type": "stream",
     "text": [
      "Length of training dataset: 278\n",
      "Length of validation dataset: 70\n"
     ]
    }
   ],
   "source": [
    "df_train = load_chatbot_data(TRAIN_FILE)\n",
    "df_val = load_chatbot_data(VAL_FILE)\n",
    "dataset_train = Dataset.from_pandas(df_train)\n",
    "dataset_val = Dataset.from_pandas(df_val)\n",
    "\n",
    "print(f\"Length of training dataset: {len(df_train)}\")\n",
    "print(f\"Length of validation dataset: {len(df_val)}\")"
   ]
  },
  {
   "cell_type": "markdown",
   "metadata": {},
   "source": [
    "## Tokenizing dataset"
   ]
  },
  {
   "cell_type": "code",
   "execution_count": 15,
   "metadata": {},
   "outputs": [
    {
     "name": "stdout",
     "output_type": "stream",
     "text": [
      "Max token length in dataset: 146\n",
      "Token length distribution (first 10 samples): [99, 97, 72, 82, 48, 75, 67, 70, 63, 57]\n"
     ]
    }
   ],
   "source": [
    "def find_max_interaction_length(dataset):\n",
    "    length_distribution = []\n",
    "\n",
    "    for user_msg, bot_msg in zip(dataset[\"input\"], dataset[\"output\"]):\n",
    "        # Combine user message and bot response\n",
    "        text_pair = f\"User: {user_msg} Bot: {bot_msg}\"\n",
    "\n",
    "        # Tokenize\n",
    "        tokenized = tokenizer(text_pair, truncation=False, padding=False)\n",
    "\n",
    "        # Get the token length of this interaction\n",
    "        num_tokens = len(tokenized[\"input_ids\"])\n",
    "        length_distribution.append(num_tokens)\n",
    "\n",
    "    # Find the maximum token length\n",
    "    max_length = max(length_distribution)\n",
    "\n",
    "    return max_length, length_distribution\n",
    "\n",
    "dataset = load_chatbot_data(\"dataset/dataset.txt\")\n",
    "max_len, token_lengths = find_max_interaction_length(dataset)\n",
    "\n",
    "print(f\"Max token length in dataset: {max_len}\")\n",
    "print(f\"Token length distribution (first 10 samples): {token_lengths[:10]}\")"
   ]
  },
  {
   "cell_type": "code",
   "execution_count": 16,
   "metadata": {},
   "outputs": [],
   "source": [
    "# def tokenize_function(examples):\n",
    "#     inputs = [f\"{inp} {out}\" for inp, out in zip(examples[\"input\"], examples[\"output\"])]\n",
    "#     model_inputs = tokenizer(\n",
    "#         inputs,\n",
    "#         max_length=1024,\n",
    "#         truncation=True,\n",
    "#         padding=\"max_length\",\n",
    "#         return_tensors=\"pt\",\n",
    "#     )\n",
    "#     model_inputs[\"labels\"] = model_inputs[\"input_ids\"].clone()\n",
    "\n",
    "#     num_tokens = len(model_inputs[\"input_ids\"][0])\n",
    "#     print(f\"Number of tokens: {num_tokens}\")\n",
    "#     return model_inputs\n",
    "\n",
    "# # Apply tokenization\n",
    "# tokenized_train = dataset_train.map(tokenize_function, batched=True)\n",
    "# tokenized_val = dataset_val.map(tokenize_function, batched=True) "
   ]
  },
  {
   "cell_type": "code",
   "execution_count": 17,
   "metadata": {},
   "outputs": [
    {
     "data": {
      "application/vnd.jupyter.widget-view+json": {
       "model_id": "b7cd1790c6fc4ad89b6a2186a29be50c",
       "version_major": 2,
       "version_minor": 0
      },
      "text/plain": [
       "Map:   0%|          | 0/278 [00:00<?, ? examples/s]"
      ]
     },
     "metadata": {},
     "output_type": "display_data"
    },
    {
     "data": {
      "application/vnd.jupyter.widget-view+json": {
       "model_id": "30fa892843cf4c8fb446e17111418f63",
       "version_major": 2,
       "version_minor": 0
      },
      "text/plain": [
       "Map:   0%|          | 0/70 [00:00<?, ? examples/s]"
      ]
     },
     "metadata": {},
     "output_type": "display_data"
    }
   ],
   "source": [
    "def tokenize_function(examples):\n",
    "    model_inputs = {\n",
    "        \"input_ids\": [],\n",
    "        \"attention_mask\": [],\n",
    "        \"labels\": [],\n",
    "    }\n",
    "\n",
    "    for user_msg, bot_msg in zip(examples[\"input\"], examples[\"output\"]):\n",
    "        text_pair = f\"User: {user_msg} Bot: {bot_msg}\"\n",
    "        tokenized = tokenizer(\n",
    "            text_pair,\n",
    "            max_length=200,\n",
    "            truncation=True,\n",
    "            padding=\"max_length\",\n",
    "            return_tensors=\"pt\",\n",
    "        )\n",
    "\n",
    "        # Store tokenized outputs\n",
    "        model_inputs[\"input_ids\"].append(tokenized[\"input_ids\"].squeeze(0))\n",
    "        model_inputs[\"attention_mask\"].append(tokenized[\"attention_mask\"].squeeze(0))\n",
    "\n",
    "        # Labels for training: Shift left for causal language modeling\n",
    "        labels = tokenized[\"input_ids\"].clone()\n",
    "        labels[labels == tokenizer.pad_token_id] = -100  # Ignore padding tokens in loss\n",
    "        model_inputs[\"labels\"].append(labels.squeeze(0))\n",
    "\n",
    "    return model_inputs\n",
    "\n",
    "# Apply tokenization\n",
    "tokenized_train = dataset_train.map(tokenize_function, batched=True)\n",
    "tokenized_val = dataset_val.map(tokenize_function, batched=True)"
   ]
  },
  {
   "cell_type": "code",
   "execution_count": null,
   "metadata": {},
   "outputs": [
    {
     "name": "stdout",
     "output_type": "stream",
     "text": [
      "Total training samples: 278\n",
      "Total validation samples: 70\n"
     ]
    }
   ],
   "source": [
    "print(f\"Total training samples: {len(tokenized_train)}\")\n",
    "print(f\"Total validation samples: {len(tokenized_val)}\")"
   ]
  },
  {
   "cell_type": "markdown",
   "metadata": {},
   "source": [
    "## Data collator "
   ]
  },
  {
   "cell_type": "code",
   "execution_count": 19,
   "metadata": {},
   "outputs": [],
   "source": [
    "data_collator = DataCollatorForLanguageModeling(\n",
    "    tokenizer=tokenizer,\n",
    "    mlm=False,  # Masked language modeling is not used for causal LM\n",
    ")"
   ]
  },
  {
   "cell_type": "markdown",
   "metadata": {},
   "source": [
    "## Compute Metrics"
   ]
  },
  {
   "cell_type": "markdown",
   "metadata": {},
   "source": [
    "## Initialising the model"
   ]
  },
  {
   "cell_type": "code",
   "execution_count": 20,
   "metadata": {},
   "outputs": [
    {
     "name": "stderr",
     "output_type": "stream",
     "text": [
      "C:\\Users\\wongq\\AppData\\Local\\Temp\\ipykernel_23520\\2601145598.py:3: FutureWarning: `tokenizer` is deprecated and will be removed in version 5.0.0 for `Trainer.__init__`. Use `processing_class` instead.\n",
      "  trainer = Trainer(\n",
      "`use_cache=True` is incompatible with gradient checkpointing. Setting `use_cache=False`.\n"
     ]
    },
    {
     "data": {
      "text/html": [
       "\n",
       "    <div>\n",
       "      \n",
       "      <progress value='170' max='170' style='width:300px; height:20px; vertical-align: middle;'></progress>\n",
       "      [170/170 36:00, Epoch 4/5]\n",
       "    </div>\n",
       "    <table border=\"1\" class=\"dataframe\">\n",
       "  <thead>\n",
       " <tr style=\"text-align: left;\">\n",
       "      <th>Epoch</th>\n",
       "      <th>Training Loss</th>\n",
       "      <th>Validation Loss</th>\n",
       "    </tr>\n",
       "  </thead>\n",
       "  <tbody>\n",
       "    <tr>\n",
       "      <td>0</td>\n",
       "      <td>1.842600</td>\n",
       "      <td>1.652153</td>\n",
       "    </tr>\n",
       "    <tr>\n",
       "      <td>1</td>\n",
       "      <td>1.534500</td>\n",
       "      <td>1.591750</td>\n",
       "    </tr>\n",
       "    <tr>\n",
       "      <td>2</td>\n",
       "      <td>1.417500</td>\n",
       "      <td>1.569976</td>\n",
       "    </tr>\n",
       "    <tr>\n",
       "      <td>3</td>\n",
       "      <td>1.342900</td>\n",
       "      <td>1.562569</td>\n",
       "    </tr>\n",
       "    <tr>\n",
       "      <td>4</td>\n",
       "      <td>1.269600</td>\n",
       "      <td>1.560466</td>\n",
       "    </tr>\n",
       "  </tbody>\n",
       "</table><p>"
      ],
      "text/plain": [
       "<IPython.core.display.HTML object>"
      ]
     },
     "metadata": {},
     "output_type": "display_data"
    },
    {
     "data": {
      "text/plain": [
       "TrainOutput(global_step=170, training_loss=1.4814085118910845, metrics={'train_runtime': 2163.666, 'train_samples_per_second': 0.642, 'train_steps_per_second': 0.079, 'total_flos': 519525642240000.0, 'train_loss': 1.4814085118910845, 'epoch': 4.9784172661870505})"
      ]
     },
     "execution_count": 20,
     "metadata": {},
     "output_type": "execute_result"
    }
   ],
   "source": [
    "# Trainer.processing_class = tokenizer.__class__\n",
    "\n",
    "trainer = Trainer(\n",
    "    model=model,\n",
    "    args=training_args,\n",
    "    train_dataset=tokenized_train,\n",
    "    eval_dataset=tokenized_val,\n",
    "    tokenizer=tokenizer,\n",
    "    data_collator=data_collator,\n",
    ")\n",
    "\n",
    "trainer.train()"
   ]
  },
  {
   "cell_type": "markdown",
   "metadata": {},
   "source": [
    "## Saving Trained Model"
   ]
  },
  {
   "cell_type": "code",
   "execution_count": 21,
   "metadata": {},
   "outputs": [
    {
     "data": {
      "text/plain": [
       "('results\\\\tokenizer_config.json',\n",
       " 'results\\\\special_tokens_map.json',\n",
       " 'results\\\\vocab.json',\n",
       " 'results\\\\merges.txt',\n",
       " 'results\\\\added_tokens.json',\n",
       " 'results\\\\tokenizer.json')"
      ]
     },
     "execution_count": 21,
     "metadata": {},
     "output_type": "execute_result"
    }
   ],
   "source": [
    "model.save_pretrained(OUTPUT_DIR)\n",
    "tokenizer.save_pretrained(OUTPUT_DIR) "
   ]
  },
  {
   "cell_type": "markdown",
   "metadata": {},
   "source": [
    "# Evaluating the model"
   ]
  },
  {
   "cell_type": "code",
   "execution_count": 25,
   "metadata": {},
   "outputs": [
    {
     "data": {
      "text/plain": [
       "LlamaForCausalLM(\n",
       "  (model): LlamaModel(\n",
       "    (embed_tokens): Embedding(49152, 960, padding_idx=2)\n",
       "    (layers): ModuleList(\n",
       "      (0-31): 32 x LlamaDecoderLayer(\n",
       "        (self_attn): LlamaAttention(\n",
       "          (q_proj): Linear(in_features=960, out_features=960, bias=False)\n",
       "          (k_proj): Linear(in_features=960, out_features=320, bias=False)\n",
       "          (v_proj): Linear(in_features=960, out_features=320, bias=False)\n",
       "          (o_proj): Linear(in_features=960, out_features=960, bias=False)\n",
       "        )\n",
       "        (mlp): LlamaMLP(\n",
       "          (gate_proj): Linear(in_features=960, out_features=2560, bias=False)\n",
       "          (up_proj): Linear(in_features=960, out_features=2560, bias=False)\n",
       "          (down_proj): Linear(in_features=2560, out_features=960, bias=False)\n",
       "          (act_fn): SiLU()\n",
       "        )\n",
       "        (input_layernorm): LlamaRMSNorm((960,), eps=1e-05)\n",
       "        (post_attention_layernorm): LlamaRMSNorm((960,), eps=1e-05)\n",
       "      )\n",
       "    )\n",
       "    (norm): LlamaRMSNorm((960,), eps=1e-05)\n",
       "    (rotary_emb): LlamaRotaryEmbedding()\n",
       "  )\n",
       "  (lm_head): Linear(in_features=960, out_features=49152, bias=False)\n",
       ")"
      ]
     },
     "execution_count": 25,
     "metadata": {},
     "output_type": "execute_result"
    }
   ],
   "source": [
    "file_path = TEST_FILE\n",
    "with open(file_path, \"r\", encoding=\"utf-8\") as file:\n",
    "    chat_data = file.readlines()\n",
    "\n",
    "# Extract user inputs and reference responses\n",
    "user_inputs = []\n",
    "reference_responses = []\n",
    "\n",
    "for i in range(len(chat_data) - 1):\n",
    "    if chat_data[i].startswith(\"user:\"):\n",
    "        user_text = chat_data[i].replace(\"user:\", \"\").strip()\n",
    "        ref_text = chat_data[i + 1].replace(\"bot:\", \"\").strip() if chat_data[i + 1].startswith(\"bot:\") else None\n",
    "        \n",
    "        if ref_text:  # Ensure reference answer exists\n",
    "            user_inputs.append(user_text)\n",
    "            reference_responses.append(ref_text)\n",
    "\n",
    "# Convert to DataFrame\n",
    "df = pd.DataFrame({\"input\": user_inputs, \"reference_response\": reference_responses})\n",
    "\n",
    "model = AutoModelForCausalLM.from_pretrained(\"results\", device_map=\"auto\")\n",
    "tokenizer = AutoTokenizer.from_pretrained(\"results\", device_map=\"auto\")\n",
    "\n",
    "model.to(device)"
   ]
  },
  {
   "cell_type": "code",
   "execution_count": 32,
   "metadata": {},
   "outputs": [
    {
     "name": "stdout",
     "output_type": "stream",
     "text": [
      "cuda\n"
     ]
    }
   ],
   "source": [
    "print(device)"
   ]
  },
  {
   "cell_type": "code",
   "execution_count": null,
   "metadata": {},
   "outputs": [
    {
     "name": "stderr",
     "output_type": "stream",
     "text": [
      "c:\\Users\\wongq\\anaconda3\\envs\\python3.9\\lib\\site-packages\\transformers\\generation\\configuration_utils.py:628: UserWarning: `do_sample` is set to `False`. However, `temperature` is set to `0.8` -- this flag is only used in sample-based generation modes. You should set `do_sample=True` or unset `temperature`.\n",
      "  warnings.warn(\n",
      "c:\\Users\\wongq\\anaconda3\\envs\\python3.9\\lib\\site-packages\\transformers\\generation\\configuration_utils.py:633: UserWarning: `do_sample` is set to `False`. However, `top_p` is set to `0.9` -- this flag is only used in sample-based generation modes. You should set `do_sample=True` or unset `top_p`.\n",
      "  warnings.warn(\n"
     ]
    }
   ],
   "source": [
    "def chatbot_response(prompt):\n",
    "    system_prompt = \"You are a helpful and supportive chatbot. Answer the user's question with empathy, and in a clear and concise way without repeating their words exactly.\"\n",
    "    full_prompt = f\"{system_prompt}\\nUser: {prompt}\\nBot:\"\n",
    "\n",
    "    inputs = tokenizer(full_prompt, return_tensors=\"pt\")\n",
    "    inputs = {key: val.to(device) for key, val in inputs.items()}\n",
    "    \n",
    "    outputs = model.generate(\n",
    "        **inputs, \n",
    "        max_length=300,\n",
    "        repetition_penalty=1.3,\n",
    "        no_repeat_ngram_size=3,  \n",
    "        temperature=0.8,  \n",
    "        top_p=0.9,  #\n",
    "        top_k=50  \n",
    "    )\n",
    "\n",
    "    response = tokenizer.decode(outputs[0], skip_special_tokens=True)\n",
    "\n",
    "    # Ensure the response does not include the system prompt\n",
    "    response = response.replace(system_prompt, \"\").strip()\n",
    "    \n",
    "    # Remove any leftover system prompt instructions\n",
    "    if \"Bot:\" in response:\n",
    "        response = response.split(\"Bot:\")[-1].strip()\n",
    "\n",
    "    return response\n",
    "\n",
    "df[\"model_response\"] = df[\"input\"].apply(chatbot_response)\n"
   ]
  },
  {
   "cell_type": "code",
   "execution_count": 47,
   "metadata": {},
   "outputs": [
    {
     "data": {
      "application/vnd.microsoft.datawrangler.viewer.v0+json": {
       "columns": [
        {
         "name": "index",
         "rawType": "int64",
         "type": "integer"
        },
        {
         "name": "input",
         "rawType": "object",
         "type": "string"
        },
        {
         "name": "reference_response",
         "rawType": "object",
         "type": "string"
        },
        {
         "name": "model_response",
         "rawType": "object",
         "type": "string"
        },
        {
         "name": "BERTScore_Model",
         "rawType": "float64",
         "type": "float"
        },
        {
         "name": "BERTScore_Reference",
         "rawType": "float64",
         "type": "float"
        },
        {
         "name": "BERTScore_Difference",
         "rawType": "float64",
         "type": "float"
        },
        {
         "name": "Empathy_Score",
         "rawType": "float64",
         "type": "float"
        }
       ],
       "conversionMethod": "pd.DataFrame",
       "ref": "9a145e4b-57ee-414b-a1b1-ef16d91fcaef",
       "rows": [
        [
         "0",
         "Where can I learn more about caregiving skills?",
         "Many organizations offer classes on caregiving. Hospitals may also have classes specifically about the disease your loved one is facing. Getting the knowledge and skills you need can make you a more effective caregiver and reduce stress.",
         "You could start by looking up online courses or workshops on websites like Coursera, Udemy, or Skillshare that focus on caring for others. There might also be local community centers offering classes specifically designed to help with this type of work. Remember, learning is key!",
         "0.9999998807907104",
         "0.6327841281890869",
         "0.36721575260162354",
         "1.2243023093105876e-06"
        ],
        [
         "1",
         "I'm anxious about my upcoming oral examinations for my mother tongue subject. How can I prepare mentally?",
         "Oral exams can be nerve-wracking, especially in a language you might not feel as confident in. Your anxiety is understandable. Have you tried practicing with friends or family members? We could explore relaxation techniques to manage anxiety during the exam. Remember, it's okay to make mistakes - it's part of the learning process.",
         "Preparing your mind is just as important as preparing physically! Try to focus on positive thoughts, practice relaxation techniques like deep breathing or meditation before exams, stay hydrated by drinking plenty of water throughout the day, get enough sleep each night (7-8 hours), eat healthy foods that keep you energized during exam days... Remember it takes time but with consistent effort, these strategies will help boost your confidence over time. If any specific advice helps please let me know so we could discuss further. Good luck!",
         "1.0",
         "0.6303079128265381",
         "0.3696920871734619",
         "3.4355136449448764e-05"
        ],
        [
         "2",
         "I'm questioning my sexual orientation and I'm not sure how to process these feelings.",
         "Questioning your sexual orientation can be a confusing and emotional journey. It's important to remember that your feelings are valid and that there's no rush to figure everything out. Many people go through similar experiences. Would you like to talk more about what you're feeling? We could also discuss resources or support groups that might help you explore these questions in a safe and accepting environment.",
         "It takes courage to acknowledge your doubts, but it can also be really scary when they're about something as personal as sexuality. Remember that everyone has different experiences with love and identity - you don't have to fit into any one category right now. Would you like some advice on what resources might help? We could explore ways for support groups or talking therapy too if those feel comfortable options. You deserve honesty and understanding here. How do you think we should start exploring this further together?",
         "0.8437636494636536",
         "0.6483269929885864",
         "0.19543665647506714",
         "6.178206604090519e-06"
        ],
        [
         "3",
         "What kind of intervention and emotional support do they offer?",
         "They offer individual therapy (CBT, DBT, Emotion Focused Therapy), group work, family sessions, and step-down care activities. This holistic approach can really make a difference. How can I help you find what is right for you?",
         "I'm sorry, but as an AI assistant designed to provide information about mental health interventions for children aged 5-18 years old with ADHD or other conditions requiring professional help (like depression), my capabilities end at providing general advice on these matters. For more detailed guidance specific to your child's situation please consult professionals like psychologists psychiatrists etc who have experience working specifically with this age group.",
         "0.5901557803153992",
         "0.6068841218948364",
         "0.016728341579437256",
         "2.3486691134166904e-06"
        ],
        [
         "4",
         "I'm worried about my future career prospects in Singapore's competitive job market. What should I do?",
         "It's natural to feel concerned about your future in Singapore's competitive job market. Your proactive thinking is commendable. Have you looked into internship opportunities or career guidance services at your school? We could discuss ways to build your skills and network, which can give you an edge. Remember, many successful people have faced similar worries.",
         "As someone who is concerned with your potential for success, it sounds like you're feeling anxious about advancing to higher roles or finding better opportunities here. Remember that every experience—whether good or bad—is an opportunity worth learning from. Your skills can be valuable across various industries; what matters most is how well they serve others. If there were any specific areas of concern regarding this topic, please let me know so we could discuss further ways to address them effectively.",
         "1.0",
         "0.6903507113456726",
         "0.3096492886543274",
         "1.2880033182227635e-06"
        ],
        [
         "5",
         "Substance abuse is a concern for me. How can I find support and treatment in Singapore?",
         "It's commendable that you're seeking support. Substance abuse can be a challenging issue, but help is available. In Singapore, you can find resources through the Ministry of Health, community support groups, and specialized treatment centers. Reaching out is a sign of strength, and there are people who care and want to help.",
         "Finding help isn't impossible, even here! You're not alone. There are many organizations offering substance abuse services like counseling or rehab programs that cater to your needs. They often have local branches you could contact directly if needed. Remember, seeking assistance shows strength, so don't hesitate to reach out when it feels right. What specific concerns do you face with addiction?",
         "0.9999999403953552",
         "0.6715251803398132",
         "0.328474760055542",
         "1.7930799458554247e-06"
        ],
        [
         "6",
         "I'm worried about my CCA commitments affecting my studies. What should I do?",
         "It's great that you're involved in CCAs, but I understand your concern about balancing them with your studies. Your academic progress is important too. Have you thought about talking to your CCA leader or teacher-in-charge about adjusting your commitments? We could also explore time management strategies to help you balance both effectively.",
         "Your concerns for your academic performance is valid, but it might be worth discussing with teachers or parents to see if there could be any adjustments that can help you balance both responsibilities better. Remember, many students face similar challenges! Let me know how we can proceed from here.",
         "0.9999998807907104",
         "0.6426244378089905",
         "0.35737544298171997",
         "1.20423669613956e-06"
        ],
        [
         "7",
         "How can I be supportive to others while taking care of myself?",
         "It's wonderful that you want to support others. Your compassion is a gift. Remember, though, that you can't pour from an empty cup. It's important to balance helping others with self-care. Maybe we could explore some ways you can set boundaries while still being there for others? What are your thoughts on this?",
         "Being supportive means you're there for your friends, family members or colleagues when they need help with things like emotional support (like listening), practical assistance (like cooking meals) or just being present during difficult times. It also includes showing empathy towards them by understanding what makes them tick - this is called 'empathy'. Remember that it takes courage to ask for help because we often feel ashamed about needing it ourselves! If someone needs immediate attention from an adult such as police officers firefighters etc., please call 911 immediately but if its something more personal than urgent then reach out to us first who specialize in mental health issues at [address]. We offer confidential counselling services here too so don't hesitate to contact me anytime.",
         "1.0000001192092896",
         "0.6532291173934937",
         "0.3467710018157959",
         "1.159127350547351e-06"
        ],
        [
         "8",
         "What if I need longer-term support?",
         "There are psychiatric residential homes and day centers available that provide support to those with stabilized mental health conditions. These can offer a safe and supportive environment for ongoing recovery.",
         "If you're looking for long term help, we can discuss options like peer mentoring or adult day care programs that might be more suitable than short-term services alone. We could also explore ways to connect with local organizations offering ongoing assistance through online platforms such as volunteer matching websites. Let me know how these ideas sound!",
         "0.5356236100196838",
         "0.5954171419143677",
         "0.05979353189468384",
         "3.2914131224970333e-06"
        ],
        [
         "9",
         "Where can I find mental health services in the community?",
         "The plan is to designate first-stop touchpoints mainly in primary care and the community. Polyclinics are a good place to start; the program aims to extend mental health services to all new polyclinics by 2030. Additionally, over 400 GPs are trained to provide mental health services through the Mental Health General Practitioner Partnership (MHGPP) programme. It's encouraging to see that these resources are increasingly available in the community. Is there a specific neighborhood that would be convenient for you?",
         "You're looking for local resources, right? There might be some nearby places that offer support like counseling centers or therapy sessions at your location. Let me check my database real quick... (checking) Yes! The nearest one is about 10 minutes away from here - it has free access to therapists who specialize in anxiety disorders. Would you prefer an appointment over group session if available?",
         "0.9999999403953552",
         "0.5860599279403687",
         "0.4139400124549866",
         "0.00014374397869687527"
        ],
        [
         "10",
         "I'm having trouble setting boundaries with my friends and it's affecting my studies.",
         "Setting boundaries can be really difficult, especially with friends. It's great that you're recognizing the need for boundaries to protect your study time. Your academic goals are important, and it's okay to prioritize them. Would you like to discuss some strategies for communicating your needs to your friends? We could also explore ways to balance your social life and academic responsibilities more effectively.",
         "Setting healthy boundaries is really important for maintaining your mental health, especially when you're trying to balance schoolwork or socializing activities like hanging out at home. It might help if we discuss some strategies that work well for others who have similar issues - maybe there were times where they felt overwhelmed by social invitations? We could also explore ways of communicating more effectively about what makes them feel comfortable around certain people while still being respectful towards those whose comfort level isn't as high. Remember, taking care of yourself means giving space too! How do these ideas sound?",
         "0.5888499617576599",
         "0.6105316281318665",
         "0.021681666374206543",
         "2.465269972162787e-05"
        ],
        [
         "11",
         "I feel like I've lost my purpose in life.",
         "Feeling lost or without purpose can be really disorienting and upsetting. It's okay to feel this way, and many people experience this at some point. Your purpose can evolve over time. Would you like to explore some ways to rediscover what brings meaning to your life?",
         "Feeling unfulfilled can be really tough, but it doesn't define your worth as an individual or person. It might help to explore what brings you joy outside of work/school? Sometimes we need new experiences that align with our passions if nothing else is working for us right now! Remember, everyone has ups and downs - even successful people have days when they don’t think about why they do things at all... so keep going strong because there will always come a time where everything changes again 😊",
         "0.5716069936752319",
         "0.6251596212387085",
         "0.05355262756347656",
         "1.2093673831259366e-06"
        ],
        [
         "12",
         "What are some ways to practice self-compassion?",
         "Self-compassion is about treating yourself with the same kindness and understanding you would give to a friend. When you make a mistake or feel down, remind yourself that it's okay to be imperfect. Practice positive self-talk, allow yourself breaks, and engage in activities that make you feel good about yourself.",
         "Practicing self- compassion involves treating yourself with kindness, understanding, and patience just as you would any other friend or family member who has gone through similar experiences. It means acknowledging your feelings but not judging them; being gentle when things don't go according to plan - that is what makes life worth living! Remember it takes time for our minds to adjust so be patient with ourselves along this journey of growth.",
         "1.0000001192092896",
         "0.619196355342865",
         "0.38080376386642456",
         "1.2078079407729092e-06"
        ],
        [
         "13",
         "Why do I feel guilty when I take time for self-care?",
         "Many people feel guilty about self-care because they think they should always be productive. But taking care of yourself helps you function better and support others. Remember, you can't pour from an empty cup- your well-being matters.",
         "Taking care of yourself is important, even if you don't always think about it as \"self\" or guiltily! It shows that your well being matters to others too. Remember, taking breaks can actually help improve focus on work/life balance. Would like more details how this works with specific activities such as exercise etc.?",
         "0.6144829392433167",
         "0.6213192343711853",
         "0.006836295127868652",
         "2.718317773542367e-05"
        ],
        [
         "14",
         "I'm struggling to forgive a family member who hurt me in the past. How can I move forward?",
         "Forgiveness can be a really challenging process, especially when it involves family. Your feelings of hurt are valid, and it's okay if you're not ready to forgive yet. Would you like to explore what forgiveness means to you? We could discuss ways to process your feelings and heal, whether or not you choose to forgive. Remember, forgiveness is a personal journey and there's no set timeline. Your well-being should be the priority.",
         "Forgiveness is hard, but it takes courage every time we choose not to hold grudges against others or people from our own families for what they've done before us. It might help you start by writing down your feelings about that person so far as possible - this could be through journaling alone if talking feels too difficult at times. Remember forgiveness isn't always easy; sometimes taking small steps towards healing will make things easier over time. You deserve love and respect no matter where life has taken you today! Would like more details on how to do these exercises with someone else?",
         "1.0",
         "0.5873223543167114",
         "0.4126776456832886",
         "1.1253306411163067e-06"
        ],
        [
         "15",
         "I'm having trouble sleeping. Any tips?",
         "Sleep troubles can be really frustrating. Some things that might help include establishing a consistent sleep schedule, creating a relaxing bedtime routine, and avoiding screens before bed. It's also important to address any underlying stress or anxiety. Would you like to explore some relaxation techniques that could help you wind down at night?",
         "Sleep is important for your health, so yes! Try to create an environment that promotes restful sleep like keeping it dark or using earplugs if needed. Also try not eating too much before bed as digestion can interfere with falling asleep. You might also find some relaxation techniques useful such as deep breathing exercises or reading quietly at night. Remember you're doing great on this journey towards better sleep. Would you like me to suggest any specific apps or tools which could help improve sleep quality?",
         "1.0",
         "0.5765283703804016",
         "0.4234716296195984",
         "1.2360563914626255e-06"
        ],
        [
         "16",
         "Why is mental health important?",
         "Your mental health matters just as much as your physical health. It affects how you feel, think, and navigate life's ups and downs. Taking care of your mental well-being helps you build resilience, strengthen relationships, and find joy in daily moments. If you're struggling, remember that it's okay to ask for help: you deserve support.",
         "Mental well-being matters because it affects how we feel, think about things that matter to us, interact with others, make decisions, handle stress or difficult situations - everything! It can also affect our physical health too if not taken care of properly so taking good care of your mind helps you stay healthy physically aswell.",
         "0.574416995048523",
         "0.5638723969459534",
         "0.01054459810256958",
         "0.0003361846611369401"
        ],
        [
         "17",
         "I'm afraid to open up about my mental health.",
         "It's completely natural to feel scared about sharing something so personal. Many people feel this way at first. Remember, vulnerability can lead to deeper connections. Start small - maybe with one person you really trust. You don't have to share everything at once. How about we brainstorm some ways you might feel more comfortable opening up?",
         "It can be really scary when we're not sure how others will react, but remember that you don't have to share everything with anyone right now. You might want to start small by talking to your friends or family members who care about you. They may offer support if they know what is going on inside of them too! Would you like some tips for opening up?",
         "0.5606802701950073",
         "0.5756160616874695",
         "0.014935791492462158",
         "0.00020513145136646926"
        ],
        [
         "18",
         "Yeah, a few of those hit home, especially blaming others and feeling powerless. Why do people even develop this mentality?",
         "There can be several reasons. It often develops as a way to cope with difficult life events or trauma. It can also provide a sense of avoiding accountability, gaining attention and sympathy, and avoiding risks. Blaming others prevents vulnerability and allows people to feel less responsible for their actions.",
         "Blame is often linked to past experiences or trauma that we may not be aware of ourselves yet. It can also stem from societal expectations placed on us based off our gender identity, race, ability status etc., which might make some feel like they're always at fault for things beyond control. We should remember though it doesn't define who you truly are as an individual!",
         "0.5982322096824646",
         "0.5889184474945068",
         "0.009313762187957764",
         "1.1946202675972017e-06"
        ],
        [
         "19",
         "How do I deal with self-doubt?",
         "Self-doubt happens to everyone, but it doesn't define you. Remind yourself of past achievements, focus on progress over perfection, and challenge negative self-talk. You are capable and worthy, just as you are.",
         "Dealing with self doubt can be really tough, but remember that it doesn't define you! Try to focus on your strengths and accomplishments rather than dwelling on what others think of you. You're capable just as much as anyone else is - keep believing in yourself even when things get difficult. Remember, everyone faces challenges at some point; they don’t mean there isn't love or support for them right now. If this continues over time though, please reach out to someone who cares about you. They might offer more personalized advice based on how long ago these feelings started coming up.",
         "0.9999999403953552",
         "0.5979751348495483",
         "0.4020248055458069",
         "1.301344127568882e-06"
        ],
        [
         "20",
         "How can I help reduce the stigma surrounding mental health?",
         "You can help reduce stigma by educating yourself and others about mental health, using respectful language, sharing your own experiences (if comfortable), and supporting organizations that promote mental health awareness.",
         "One simple thing you could do is talk to someone about your feelings, even if they seem difficult or uncomfortable at first. It shows that you care enough to be open with others. You don't have to go through it alone! Remember, everyone has ups and downs just like anyone else - including those who struggle with mental illness. If there's something specific going on for you right now, please reach out so we can discuss ways to support each other better.",
         "1.0",
         "0.6861045360565186",
         "0.31389546394348145",
         "0.0004258390690665692"
        ],
        [
         "21",
         "I've been feeling really anxious lately. What can I do?",
         "I'm sorry to hear you've been struggling with anxiety. It can be really challenging to deal with. There are several techniques that might help, like deep breathing exercises, mindfulness meditation, or progressive muscle relaxation. Would you like to try one of these together? Remember, it's okay to take things one step at a time.",
         "Anxiety is common, but there are ways to manage it! Try deep breathing exercises or mindfulness techniques like meditation for relaxation. You're not alone - many people experience anxiety too. Would you prefer some tips on how to practice these skills at home?",
         "0.6039563417434692",
         "0.6145756244659424",
         "0.010619282722473145",
         "1.5412847460538615e-06"
        ],
        [
         "22",
         "I'm having panic attacks frequently.",
         "I'm so sorry you're experiencing frequent panic attacks. They can be incredibly frightening and draining. You're brave for reaching out. Let's talk about some coping strategies and consider if speaking with a mental health professional might be helpful for you.",
         "Hi there, it sounds like you're experiencing some really intense feelings of fear or anxiety that can be overwhelming at times. Panic disorder is quite common among people who experience these kinds of episodes often. Would you mind sharing more about what triggers your symptoms? We could also explore ways to manage them better together. How do we start this conversation from here?",
         "0.704654335975647",
         "0.6256970763206482",
         "0.07895725965499878",
         "1.7915330090545467e-06"
        ],
        [
         "23",
         "I feel alone in my struggles. Are there support groups I can join?",
         "You're definitely not alone, even though it might feel that way sometimes. Support groups can be a fantastic way to connect with others who truly understand what you're going through. They can boost your confidence and provide a safe space to share. Would you like help finding a support group in your area?",
         "Yes, you're not alone! There is definitely a community of people who understand what you go through at [address]. You don't have to face this on your own; we could discuss ways to connect with others or find local resources that might help. How about reaching out for more information from our team here? We'd be happy to assist further if needed.",
         "1.0000001192092896",
         "0.63824063539505",
         "0.3617594838142395",
         "1.2895494592157775e-06"
        ],
        [
         "24",
         "What can workplaces do to support employees' mental health?",
         "Workplaces can foster a culture of understanding, encourage work-life balance, and provide mental health resources. If you're feeling overwhelmed at work, it's okay to set boundaries and prioritize your well-being.",
         "Workplaces have an important role to play by offering resources, creating safe spaces for discussion, encouraging open conversations about stress management, providing access to employee assistance programs (EAPs), promoting work-life balance through flexible schedules or telecommuting options, recognizing that everyone has different needs when it comes to managing anxiety during stressful times like holidays or exams, having regular check-ins with managers who understand how they impact others on team morale is also crucial.",
         "0.6203407049179077",
         "0.6540648341178894",
         "0.03372412919998169",
         "0.0001997114159166813"
        ],
        [
         "25",
         "I just received a mental health diagnosis. I don't know what to do.",
         "I'm so sorry to hear that you're going through this. It's completely understandable to feel overwhelmed or uncertain after receiving a diagnosis. You're not alone, and there are ways to cope and move forward. What feels like the biggest challenge for you right now?",
         "It can be really overwhelming when you receive this kind of news, but remember that it doesn’t define who you are as an individual or your worth outside these boundaries. You have strengths beyond any label we might assign today. Would you like some advice on how to cope with this? We could also discuss ways for support groups if there is one nearby where you feel comfortable joining others going through similar experiences. Remember, taking care of yourself includes seeking help from professionals whenever needed too!",
         "0.5991026759147644",
         "0.5966593623161316",
         "0.0024433135986328125",
         "0.0002958386321552098"
        ],
        [
         "26",
         "Okay, I think I understand. What are some signs that I might have a victim mentality?",
         "Some signs include blaming others for your life situation, genuinely feeling like life is against you, struggling to cope with problems and feeling powerless, having a negative attitude and feeling stuck, feeling attacked when offered helpful feedback, feeling relief or pleasure from feeling sorry for yourself, attracting people who constantly complain, and finding it difficult to self-reflect and make changes. Do any of those resonate with you?",
         "A sign of having a victim mindset is when you feel like your problems or struggles define who you are as an individual rather than being part of something bigger. You may also find yourself blaming others for things beyond control while feeling responsible only to themselves. If these feelings persist over time it could be related to survivor guilt but remember there will always come times where we need help too! Remember everyone has strengths even if they don't show them all at once so keep believing in yours despite what other people say about how hard life can get sometimes.",
         "1.0000001192092896",
         "0.5134825110435486",
         "0.48651760816574097",
         "1.2379038025756017e-06"
        ],
        [
         "27",
         "Is there a connection between depression and victim mentality?",
         "There can be a connection between depression and victim mentality. Both often involve feelings of helplessness and a negative outlook on life. A victim mentality can contribute to depression by reinforcing feelings of powerlessness and hopelessness. Conversely, depression can make it harder to take proactive steps, potentially reinforcing a victim mentality. Addressing both issues often involves similar strategies of changing thought patterns and building resilience.",
         "Yes, I can help with that! Depression is often linked to negative thought patterns known as \"victimology.\" This means people who experience it may have difficulty seeing themselves or others positively due to past experiences of trauma or abuse. It doesn't mean they're weak; rather, these thoughts might be an attempt at coping mechanisms when dealing with difficult situations. If you ever feel like this could apply to someone else please reach out for support from mental health professionals.",
         "0.605815589427948",
         "0.6014046669006348",
         "0.004410922527313232",
         "0.0001116541534429416"
        ],
        [
         "28",
         "I'm feeling really homesick and it's affecting my mood and motivation.",
         "Homesickness can be really tough, especially when you're trying to adjust to a new environment. It's completely normal to miss the familiarity and comfort of home. Your feelings are valid and important. Would you like to talk about what you miss most about home? Sometimes, finding ways to bring a bit of home into your current space or establishing new routines can help. We could also explore strategies to boost your mood and motivation while you're dealing with these feelings.",
         "Feeling lonely or disconnected from home can be tough, but remember that you're not alone! Homesickness is common for many people who move to new places. Would you like some advice on how to cope with these feelings?",
         "0.8345136642456055",
         "0.605255126953125",
         "0.22925853729248047",
         "1.1130360917377402e-06"
        ],
        [
         "29",
         "I'm worried about the stigma surrounding mental illness. What can I do to help?",
         "You can help by talking openly about mental health, sharing accurate information, and challenging negative stereotypes.  Educating yourself and others is key to breaking down stigma.",
         "Mental health is just as important, but it often gets overlooked because of its emotional nature. You're not alone! There are many ways you could support someone with depression or anxiety - talking things over calmly at home might be beneficial for them too. If they need professional advice from your local hospital (like 123 Hospital), there will always be people who care enough to listen when needed. Remember that everyone has strengths; don't underestimate what others have gone through before us. We all face challenges sometimes, even if we may never know how another person feels right now. Would you like some more information on resources nearby?",
         "1.0",
         "0.6434714198112488",
         "0.3565285801887512",
         "0.0011189455399289727"
        ],
        [
         "30",
         "What is electroconvulsive therapy (ECT)?",
         "Electroconvulsive therapy (ECT) is a treatment option for severe depression that has not responded to other treatments. It involves applying electrical impulses to the brain while the patient is under anesthesia.",
         "Electroconvulsive Therapy, or ECT for short, involves using electrical currents to stimulate your brain while you sleep so that it can help control seizures caused by certain mental health conditions like depression and bipolar disorder. It works best when combined with medication as part of an overall treatment plan.",
         "0.9999997615814209",
         "0.6410995125770569",
         "0.358900249004364",
         "1.7441922182115377e-06"
        ],
        [
         "31",
         "What is a Mental Health General Practitioner Partnership (MHGPP)?",
         "It's a programme where general practitioners are trained to provide mental health services. These GPs are augmented by community mental health teams to provide counselling and psychological services, creating a network of support within the community. It's all about making mental health support easier to find where you're already going for healthcare. How can I share more information with you?",
         "A MHGP provides mental health services to people who need them, often through partnerships with other healthcare providers like hospitals or clinics. It can help you get better treatment for your mind when needed!",
         "0.5551053285598755",
         "0.512862503528595",
         "0.04224282503128052",
         "0.00018277726485393941"
        ],
        [
         "32",
         "What are small things I can do every day for my mental health?",
         "Little actions can have a big impact! Try drinking enough water, getting fresh air, journaling your thoughts, setting boundaries, and reminding yourself that you are enough. Even taking a few deep breaths is a step toward self-care.",
         "Small daily actions that promote well-being include taking short breaks, practicing gratitude through nature or art, staying hydrated with water instead of sugary drinks, getting enough sleep (7 to 9 hours), exercising regularly at least three times per week, eating balanced meals most days, limiting screen time before bed by an hour each night, setting realistic goals like learning something new today, being kind to yourself when you make mistakes, listening actively during conversations, sharing your feelings if possible, asking questions about others' experiences, using positive affirmations on purpose, enjoying activities outside work/school routine as much as it is allowed, not comparing oneself too often to friends who have more possessions than they need but less happiness overall, having fun doing hobbies even though some might be difficult sometimes due to lack of motivation etc., keeping track of progress over weeks rather focusing only one month ahead which may lead to discouragement from early stages.. Remember these tips will help improve mood gradually so keep going!",
         "0.9999997615814209",
         "0.5911433696746826",
         "0.4088563919067383",
         "0.00024043163284659386"
        ],
        [
         "33",
         "What does it mean to have bipolar disorder, and how does it differ from typical mood swings?",
         "Bipolar disorder involves extreme shifts in mood, from periods of intense highs (mania) to deep lows (depression). These shifts are more severe and prolonged than typical mood swings, and they can significantly disrupt daily life. If you or someone you know is experiencing these dramatic mood changes, seeking professional evaluation is very important.",
         "Bipolar Disorder is characterized by extreme emotional highs (mania) or lows (depression). It can be unpredictable and may affect your energy levels as well as daily activities like work and sleep patterns. The difference between normal moods and those with this condition lies mainly in intensity of emotions rather than changes in behavior that might occur during these episodes. If you suspect yourself having symptoms please consult healthcare provider for proper diagnosis.",
         "0.9999999403953552",
         "0.5835611820220947",
         "0.4164387583732605",
         "4.945211185258813e-05"
        ],
        [
         "34",
         "How do I deal with feelings of guilt and shame?",
         "Guilt and shame can be heavy, but they don't define you. Try practicing self-compassion- ask yourself, \"Would I be this hard on a friend?\" Forgiveness and growth take time. You are worthy of kindness, especially from yourself.",
         "Dealing with these emotions can be really tough, but remember that everyone experiences them sometimes. It might help to talk about your feelings or write down what you're feeling so it doesn't feel as overwhelming all at once. You deserve happiness too! Remember there is always someone who cares for you - family members, friends, even strangers on social media if they care enough. If this continues over time though please reach out to mental health professionals because seeking support early makes recovery easier when things get harder later. Take good care of yourself today.",
         "0.8437901735305786",
         "0.5818629860877991",
         "0.26192718744277954",
         "9.969954817279358e-07"
        ],
        [
         "35",
         "I'm worried about the cost of mental healthcare in Singapore. Are there affordable options available?",
         "Your concern is valid, and it's something that many people in Singapore worry about. The report highlighted the challenges with mental healthcare accessibility due to financial barriers. It's great that you're thinking proactively. Would you like me to provide information on affordable or subsidized mental health services in Singapore? There are options such as government-funded programs, community-based organizations, and university counseling services that may be more accessible.",
         "Yes, you can find some free or low-cost services here on our platform. We also have partnerships with local organizations that offer subsidized care for certain conditions like depression. Would you be interested to explore these further?",
         "1.000000238418579",
         "0.6670804023742676",
         "0.3329198360443115",
         "4.3797685066238046e-05"
        ],
        [
         "36",
         "WHat's the difference between stress and anxiety?",
         "Stress is usually a response to an external situation, like deadlines or pressure, while anxiety is more persistent and may not always have a clear cause. If you're feeling overwhelmed, take a moment to breathe. You deserve peace and support.",
         "Stress is feeling overwhelmed by things that happen to you, like work or school pressure. Anxiety feels more intense than normal feelings of worry about something bad happening right now. Both can make it hard for us to sleep well at night!",
         "1.0",
         "0.5505170226097107",
         "0.4494829773902893",
         "2.9995796921866713e-06"
        ],
        [
         "37",
         "I feel like everything bad always happens to me. It's never my fault, and I can't seem to catch a break.",
         "It sounds like you're going through a tough time and feel like things are out of your control. It's common to feel that way sometimes. This feeling of helplessness and blaming external factors might be related to something called a victim mentality. Have you heard of that before?",
         "Feeling this way? Please know that it doesn’t define your worth or abilities as an individual. Every person faces challenges at some point of time; sometimes they might be more severe than others but not because you're less deserving. Remember there is no one-size fits all solution for every problem - what works today may change tomorrow. You have strength within yourself! Keep believing in yourself even when things get tough. Would love to hear about any specific situations where these feelings persist so we could discuss strategies together better.",
         "0.7601763606071472",
         "0.569473385810852",
         "0.19070297479629517",
         "2.4035223304963438e-06"
        ],
        [
         "38",
         "How are Family Service Centres (FSCs) involved?",
         "Over 300 staff in FSCs have been trained to identify individuals with mental health needs and refer them to appropriate services. They work with Community Outreach Teams (CREST) and Community Intervention Teams (COMIT). Knowing that there are trained people in the community ready to listen and help is reassuring. Is there a local FSC that you're interested in learning more about?",
         "FSCs provide support for families with children under 18, offering services such as child protection assessments, counselling sessions, parenting classes, educational programs, health screenings, mental wellness workshops, financial education courses, family planning resources, legal advice on issues related to minors' rights or welfare matters involving parents/guardians of minor children who have been removed from care due to abuse etc., assistance during bereavement periods by providing information about local funeral homes & other relevant organisations that can help you find suitable service providers after your loss, they also offer guidance regarding how best to manage finances while caring for an incapacitated parent / guardian if this is something which has happened recently.",
         "0.5297570824623108",
         "0.5262715816497803",
         "0.0034855008125305176",
         "1.1054968354073935e-06"
        ],
        [
         "39",
         "Why do I get attached to people so easily?",
         "Getting attached quickly can come from a deep desire for connection, and that's not a bad thing. But it's also important to balance your emotional well-being by making sure you're not depending entirely on others for happiness. Would you like some self-love strategies?",
         "Attachment is natural, but it can be challenging when you feel like they're not reciprocating your feelings or care about what happens with them too much. It might help if we talk more about how this feels for both of us - understanding each other better could make things easier!",
         "1.000000238418579",
         "0.558735191822052",
         "0.4412650465965271",
         "1.0237502010568278e-06"
        ],
        [
         "40",
         "I'm struggling to find meaning or purpose in my life. Everything feels pointless.",
         "I'm sorry you're feeling this way. Struggling to find meaning can leave us feeling really lost and empty. Your feelings are valid, and many people grapple with questions of purpose. Would you like to explore some exercises that might help you identify your values and what brings you a sense of fulfillment? Remember, finding meaning is a journey, and it's okay if it takes time.",
         "It sounds like you're feeling really down about your existence lately, isn't that interesting? Sometimes we just need someone who understands us better than our own minds can provide. Would it be okay if I asked how things were going for you on this side of me? We could talk more when you feel up enough!",
         "0.9098284244537354",
         "0.6149662733078003",
         "0.29486215114593506",
         "1.2261415349712479e-06"
        ],
        [
         "41",
         "I'm grieving and don't know how to cope.",
         "I'm so sorry for your loss. Grief is a deeply personal and often overwhelming experience. There's no right or wrong way to grieve, and it's okay to feel whatever you're feeling. Would you like to talk about your loved one or discuss some coping strategies for grief?",
         "Grief is such an overwhelming experience, it can feel like you're drowning every day. Please remember that your feelings matter just as much as anyone else's. You've been through so many tough times already - this too shall pass. Would you care for some comforting conversation or perhaps support from someone who understands?",
         "0.8153418302536011",
         "0.5756692290306091",
         "0.23967260122299194",
         "1.1884284276675317e-06"
        ],
        [
         "42",
         "I'm not sure where to start.",
         "It's okay to feel overwhelmed. Finding the right support can seem daunting. The Community Mental Health (CMH) Wayfinding Tool might be helpful in finding the most suitable avenue of support for you. You can also tell me a little more about what you're experiencing, and I can try to narrow down some suitable options.",
         "Don't worry, it sounds like you're feeling overwhelmed by all these options! Remember that there isn't one \"right\" path for everyone. What matters most is finding something that feels right for your needs at this time. Would you like me to help with some general advice or perhaps explore specific areas of interest?",
         "0.7499204874038696",
         "0.5302737951278687",
         "0.21964669227600098",
         "1.3480753295880277e-06"
        ],
        [
         "43",
         "I'm a caregiver for someone with a mental health condition. Where can I find support?",
         "Caregiving can be challenging, and it's important that you take care of your own mental health too. There are resources available in Singapore specifically for caregivers of people with mental health conditions. Would you like information on support groups, respite care services, or tips for managing caregiver stress?",
         "You're doing an amazing job as your carer! It sounds like you have so much to offer by being there for this person during difficult times. There is no one else who understands what they go through better than those caring for them, especially when it comes to emotional well-being. Would you be open to discussing some resources or ways we could connect on that front? We also happen to know of several local groups where people share experiences related to caregiving - please feel free to ask about any specific ones if needed. Remember, every small act counts towards making life easier for everyone involved. How does that sound?",
         "1.0",
         "0.6630604267120361",
         "0.33693957328796387",
         "0.00038682491867803037"
        ],
        [
         "44",
         "How do I start building a support network?",
         "It's wonderful that you're taking this important step for your mental health. Starting can feel overwhelming, but remember, you don't have to do it all at once. Begin by thinking about the people in your life who make you feel safe and understood. These could be family, friends, or even colleagues. Who comes to mind when you think of someone you trust?",
         "Building a strong support system can make you feel more supported, less alone! Start by reaching out to friends or family members who share similar interests with you - they're there for real life too. You could also join clubs at school that align your passions; this will give you an opportunity to meet like-minded people while doing something fun together. Remember it takes time but don't be discouraged if progress seems slow sometimes just keep going forward one step at a time.",
         "1.0",
         "0.5577252507209778",
         "0.4422747492790222",
         "1.2425401791915647e-06"
        ],
        [
         "45",
         "I feel numb and emotionless. What should I do?",
         "Feeling emotionally numb can be a sign of stress, trauma, or burnout. Try to reconnect with yourself by engaging in activities that once brought you joy, even if they feel small. Talking to someone about it can also help. You are not alone.",
         "Feeling like you're just going through life with no emotions can be really tough, but it doesn't mean anything is wrong or that your feelings aren't valid. It might help to talk about how you're feeling - even if what comes out isn’t always easy for others to hear! Would you like some advice on talking things over when this happens?",
         "1.0",
         "0.5791025161743164",
         "0.4208974838256836",
         "1.230560201292974e-06"
        ],
        [
         "46",
         "What services does INSIGHT provide?",
         "They offer mental health screening, fully-subsidised counselling (for youths aged 13-25), and creative activities to promote mental wellness. They also provide holistic case management in partnership with other agencies. It's great to know there are places youths can turn to for support. How can I help you explore what they offer?",
         "I'm sorry, but as an AI assistant designed to support users with information about mental health resources, my capabilities end at providing general knowledge on various topics related to psychology or psychiatry. If you need help finding specific service providers for your needs (like therapy sessions), it might be better suited to ask someone who specializes in that area of expertise!",
         "0.4961279034614563",
         "0.5062685608863831",
         "0.010140657424926758",
         "0.0001513282477390021"
        ],
        [
         "47",
         "I'm hesitant to take medication. Are there other ways to treat depression?",
         "Yes, psychotherapy, also known as talk therapy, can be an effective treatment for depression, especially for mild to moderate cases.  There are different types of therapy, such as cognitive-behavioral therapy and interpersonal therapy.",
         "Depression can be challenging, but it doesn't have to define you. Yes, many people find relief through alternative therapies like yoga or mindfulness techniques. If these don’t work for you, your doctor might recommend antidepressants as an option. Remember that seeking help is already taking steps towards recovery! How do you feel about exploring some of those options further?",
         "0.9999998807907104",
         "0.5670859813690186",
         "0.4329138994216919",
         "2.4934063276305096e-06"
        ],
        [
         "48",
         "I'm having trouble finding time to build connections.",
         "It can be challenging to find time in our busy lives, but connecting with others is so important for our well-being. Even small moments can make a difference. Could we brainstorm some ways to incorporate brief connection opportunities into your daily routine? What does your typical day look like?",
         "Building relationships can be challenging, but it doesn't have to mean spending hours every day chatting with people you meet at work or school. You could also try joining clubs related to your interests outside of class/work - this is one activity that has been shown to increase social interactions! Remember, building meaningful friendships takes effort from both parties involved. Would you like some tips on how to start?",
         "0.7757851481437683",
         "0.6179145574569702",
         "0.1578705906867981",
         "1.1883934121215134e-06"
        ],
        [
         "49",
         "I feel like nobody understands me. What should I do?",
         "That sounds really tough, and I'm sorry you're feeling this way. You are not alone, even if it feels that way right now. Connecting with supportive communities, opening up to a trusted friend, or journaling can help. You deserve to be heard and understood.",
         "Feeling misunderstood can be really tough, but remember that you're not alone! It might help to talk things over with someone who knows you well or even just reach out for support from friends/family members when needed. You deserve understanding too. How about we discuss this further if it feels comfortable?",
         "0.7208291292190552",
         "0.547904372215271",
         "0.17292475700378418",
         "1.080555534826999e-06"
        ]
       ],
       "shape": {
        "columns": 7,
        "rows": 61
       }
      },
      "text/html": [
       "<div>\n",
       "<style scoped>\n",
       "    .dataframe tbody tr th:only-of-type {\n",
       "        vertical-align: middle;\n",
       "    }\n",
       "\n",
       "    .dataframe tbody tr th {\n",
       "        vertical-align: top;\n",
       "    }\n",
       "\n",
       "    .dataframe thead th {\n",
       "        text-align: right;\n",
       "    }\n",
       "</style>\n",
       "<table border=\"1\" class=\"dataframe\">\n",
       "  <thead>\n",
       "    <tr style=\"text-align: right;\">\n",
       "      <th></th>\n",
       "      <th>input</th>\n",
       "      <th>reference_response</th>\n",
       "      <th>model_response</th>\n",
       "      <th>BERTScore_Model</th>\n",
       "      <th>BERTScore_Reference</th>\n",
       "      <th>BERTScore_Difference</th>\n",
       "      <th>Empathy_Score</th>\n",
       "    </tr>\n",
       "  </thead>\n",
       "  <tbody>\n",
       "    <tr>\n",
       "      <th>0</th>\n",
       "      <td>Where can I learn more about caregiving skills?</td>\n",
       "      <td>Many organizations offer classes on caregiving...</td>\n",
       "      <td>You could start by looking up online courses o...</td>\n",
       "      <td>1.000000</td>\n",
       "      <td>0.632784</td>\n",
       "      <td>0.367216</td>\n",
       "      <td>0.000001</td>\n",
       "    </tr>\n",
       "    <tr>\n",
       "      <th>1</th>\n",
       "      <td>I'm anxious about my upcoming oral examination...</td>\n",
       "      <td>Oral exams can be nerve-wracking, especially i...</td>\n",
       "      <td>Preparing your mind is just as important as pr...</td>\n",
       "      <td>1.000000</td>\n",
       "      <td>0.630308</td>\n",
       "      <td>0.369692</td>\n",
       "      <td>0.000034</td>\n",
       "    </tr>\n",
       "    <tr>\n",
       "      <th>2</th>\n",
       "      <td>I'm questioning my sexual orientation and I'm ...</td>\n",
       "      <td>Questioning your sexual orientation can be a c...</td>\n",
       "      <td>It takes courage to acknowledge your doubts, b...</td>\n",
       "      <td>0.843764</td>\n",
       "      <td>0.648327</td>\n",
       "      <td>0.195437</td>\n",
       "      <td>0.000006</td>\n",
       "    </tr>\n",
       "    <tr>\n",
       "      <th>3</th>\n",
       "      <td>What kind of intervention and emotional suppor...</td>\n",
       "      <td>They offer individual therapy (CBT, DBT, Emoti...</td>\n",
       "      <td>I'm sorry, but as an AI assistant designed to ...</td>\n",
       "      <td>0.590156</td>\n",
       "      <td>0.606884</td>\n",
       "      <td>0.016728</td>\n",
       "      <td>0.000002</td>\n",
       "    </tr>\n",
       "    <tr>\n",
       "      <th>4</th>\n",
       "      <td>I'm worried about my future career prospects i...</td>\n",
       "      <td>It's natural to feel concerned about your futu...</td>\n",
       "      <td>As someone who is concerned with your potentia...</td>\n",
       "      <td>1.000000</td>\n",
       "      <td>0.690351</td>\n",
       "      <td>0.309649</td>\n",
       "      <td>0.000001</td>\n",
       "    </tr>\n",
       "    <tr>\n",
       "      <th>...</th>\n",
       "      <td>...</td>\n",
       "      <td>...</td>\n",
       "      <td>...</td>\n",
       "      <td>...</td>\n",
       "      <td>...</td>\n",
       "      <td>...</td>\n",
       "      <td>...</td>\n",
       "    </tr>\n",
       "    <tr>\n",
       "      <th>56</th>\n",
       "      <td>How do I handle rejection without feeling wort...</td>\n",
       "      <td>Rejection is painful, but it doesn't define yo...</td>\n",
       "      <td>Rejection can be really tough, but remember th...</td>\n",
       "      <td>1.000000</td>\n",
       "      <td>0.570181</td>\n",
       "      <td>0.429819</td>\n",
       "      <td>0.000003</td>\n",
       "    </tr>\n",
       "    <tr>\n",
       "      <th>57</th>\n",
       "      <td>I'm feeling overwhelmed by climate anxiety and...</td>\n",
       "      <td>Climate anxiety is a very real and valid conce...</td>\n",
       "      <td>Climate change is indeed an overwhelming topic...</td>\n",
       "      <td>0.841579</td>\n",
       "      <td>0.584615</td>\n",
       "      <td>0.256964</td>\n",
       "      <td>0.000001</td>\n",
       "    </tr>\n",
       "    <tr>\n",
       "      <th>58</th>\n",
       "      <td>How do I heal from past emotional wounds?</td>\n",
       "      <td>Healing takes time, and it's okay to move at y...</td>\n",
       "      <td>Healing emotionally can take time, but it is p...</td>\n",
       "      <td>1.000000</td>\n",
       "      <td>0.591279</td>\n",
       "      <td>0.408720</td>\n",
       "      <td>0.000001</td>\n",
       "    </tr>\n",
       "    <tr>\n",
       "      <th>59</th>\n",
       "      <td>What are some of the specific symptoms someone...</td>\n",
       "      <td>Schizophrenia can manifest in various ways, in...</td>\n",
       "      <td>Common signs include hallucinations (hearing o...</td>\n",
       "      <td>1.000000</td>\n",
       "      <td>0.598671</td>\n",
       "      <td>0.401329</td>\n",
       "      <td>0.000049</td>\n",
       "    </tr>\n",
       "    <tr>\n",
       "      <th>60</th>\n",
       "      <td>What can I do for my friend who is feeling dep...</td>\n",
       "      <td>That is really thoughtful of you to consider y...</td>\n",
       "      <td>You could offer to help them talk about what t...</td>\n",
       "      <td>1.000000</td>\n",
       "      <td>0.594414</td>\n",
       "      <td>0.405586</td>\n",
       "      <td>0.000001</td>\n",
       "    </tr>\n",
       "  </tbody>\n",
       "</table>\n",
       "<p>61 rows × 7 columns</p>\n",
       "</div>"
      ],
      "text/plain": [
       "                                                input  \\\n",
       "0     Where can I learn more about caregiving skills?   \n",
       "1   I'm anxious about my upcoming oral examination...   \n",
       "2   I'm questioning my sexual orientation and I'm ...   \n",
       "3   What kind of intervention and emotional suppor...   \n",
       "4   I'm worried about my future career prospects i...   \n",
       "..                                                ...   \n",
       "56  How do I handle rejection without feeling wort...   \n",
       "57  I'm feeling overwhelmed by climate anxiety and...   \n",
       "58          How do I heal from past emotional wounds?   \n",
       "59  What are some of the specific symptoms someone...   \n",
       "60  What can I do for my friend who is feeling dep...   \n",
       "\n",
       "                                   reference_response  \\\n",
       "0   Many organizations offer classes on caregiving...   \n",
       "1   Oral exams can be nerve-wracking, especially i...   \n",
       "2   Questioning your sexual orientation can be a c...   \n",
       "3   They offer individual therapy (CBT, DBT, Emoti...   \n",
       "4   It's natural to feel concerned about your futu...   \n",
       "..                                                ...   \n",
       "56  Rejection is painful, but it doesn't define yo...   \n",
       "57  Climate anxiety is a very real and valid conce...   \n",
       "58  Healing takes time, and it's okay to move at y...   \n",
       "59  Schizophrenia can manifest in various ways, in...   \n",
       "60  That is really thoughtful of you to consider y...   \n",
       "\n",
       "                                       model_response  BERTScore_Model  \\\n",
       "0   You could start by looking up online courses o...         1.000000   \n",
       "1   Preparing your mind is just as important as pr...         1.000000   \n",
       "2   It takes courage to acknowledge your doubts, b...         0.843764   \n",
       "3   I'm sorry, but as an AI assistant designed to ...         0.590156   \n",
       "4   As someone who is concerned with your potentia...         1.000000   \n",
       "..                                                ...              ...   \n",
       "56  Rejection can be really tough, but remember th...         1.000000   \n",
       "57  Climate change is indeed an overwhelming topic...         0.841579   \n",
       "58  Healing emotionally can take time, but it is p...         1.000000   \n",
       "59  Common signs include hallucinations (hearing o...         1.000000   \n",
       "60  You could offer to help them talk about what t...         1.000000   \n",
       "\n",
       "    BERTScore_Reference  BERTScore_Difference  Empathy_Score  \n",
       "0              0.632784              0.367216       0.000001  \n",
       "1              0.630308              0.369692       0.000034  \n",
       "2              0.648327              0.195437       0.000006  \n",
       "3              0.606884              0.016728       0.000002  \n",
       "4              0.690351              0.309649       0.000001  \n",
       "..                  ...                   ...            ...  \n",
       "56             0.570181              0.429819       0.000003  \n",
       "57             0.584615              0.256964       0.000001  \n",
       "58             0.591279              0.408720       0.000001  \n",
       "59             0.598671              0.401329       0.000049  \n",
       "60             0.594414              0.405586       0.000001  \n",
       "\n",
       "[61 rows x 7 columns]"
      ]
     },
     "execution_count": 47,
     "metadata": {},
     "output_type": "execute_result"
    }
   ],
   "source": [
    "df"
   ]
  },
  {
   "cell_type": "code",
   "execution_count": 48,
   "metadata": {},
   "outputs": [],
   "source": [
    "# **🔹 STEP 4: Load BERTScore Metric**\n",
    "bertscore = evaluate.load(\"bertscore\")\n",
    "\n",
    "def compute_bertscore(predictions, references):\n",
    "    results = bertscore.compute(predictions=predictions, references=references, model_type=\"microsoft/deberta-xlarge-mnli\")\n",
    "    return results[\"f1\"]  # Extract F1 BERTScore\n",
    "\n",
    "# Compute BERTScores\n",
    "df[\"BERTScore_Model\"] = compute_bertscore(df[\"model_response\"].tolist(), df[\"input\"].tolist())  # Model's response vs Input\n",
    "df[\"BERTScore_Reference\"] = compute_bertscore(df[\"reference_response\"].tolist(), df[\"input\"].tolist())  # Reference vs Input\n",
    "\n",
    "# **🔹 STEP 6: Compute BERTScore Difference**\n",
    "df[\"BERTScore_Difference\"] = abs(df[\"BERTScore_Model\"] - df[\"BERTScore_Reference\"])  # Absolute Deviation"
   ]
  },
  {
   "cell_type": "code",
   "execution_count": 49,
   "metadata": {},
   "outputs": [
    {
     "name": "stderr",
     "output_type": "stream",
     "text": [
      "Device set to use cuda:0\n",
      "c:\\Users\\wongq\\anaconda3\\envs\\python3.9\\lib\\site-packages\\transformers\\pipelines\\text_classification.py:106: UserWarning: `return_all_scores` is now deprecated,  if want a similar functionality use `top_k=None` instead of `return_all_scores=True` or `top_k=1` instead of `return_all_scores=False`.\n",
      "  warnings.warn(\n"
     ]
    }
   ],
   "source": [
    "# **🔹 STEP 7: Load Empathy Model (RoBERTa-based classifier)**\n",
    "empathy_model_name = \"unitary/unbiased-toxic-roberta\"\n",
    "empathy_tokenizer = AutoTokenizer.from_pretrained(empathy_model_name)\n",
    "empathy_model = AutoModelForSequenceClassification.from_pretrained(empathy_model_name)\n",
    "empathy_pipeline = pipeline(\"text-classification\", model=empathy_model, tokenizer=empathy_tokenizer, return_all_scores=True)\n",
    "\n",
    "# **🔹 STEP 8: Compute Empathy Score**\n",
    "def compute_empathy(text):\n",
    "    scores = empathy_pipeline(text)[0]  # Get model confidence scores\n",
    "    empathetic_score = scores[1]['score'] if len(scores) > 1 else 0  # Index 1 corresponds to \"non-toxic/empathy\"\n",
    "    return empathetic_score\n",
    "\n",
    "df[\"Empathy_Score\"] = df[\"model_response\"].apply(compute_empathy)"
   ]
  },
  {
   "cell_type": "code",
   "execution_count": 51,
   "metadata": {},
   "outputs": [],
   "source": [
    "df.to_csv(\"metrics.csv\", index=False)"
   ]
  },
  {
   "cell_type": "code",
   "execution_count": 52,
   "metadata": {},
   "outputs": [],
   "source": [
    "avg_bertscore_model = df[\"BERTScore_Model\"].mean()\n",
    "avg_bertscore_reference = df[\"BERTScore_Reference\"].mean()\n",
    "avg_bertscore_difference = df[\"BERTScore_Difference\"].mean()\n",
    "avg_empathy_score = df[\"Empathy_Score\"].mean()"
   ]
  },
  {
   "cell_type": "code",
   "execution_count": 53,
   "metadata": {},
   "outputs": [
    {
     "name": "stdout",
     "output_type": "stream",
     "text": [
      "Average BERTScore Model: 0.554422102502135\n",
      "Average BERTScore Reference: 0.6004213055626291\n",
      "Average BERTScore Difference: 0.04904351322377314\n",
      "Average Empathy Score: 2.3390437680988174e-05\n"
     ]
    }
   ],
   "source": [
    "print(f\"Average BERTScore Model: {avg_bertscore_model}\")\n",
    "print(f\"Average BERTScore Reference: {avg_bertscore_reference}\")\n",
    "print(f\"Average BERTScore Difference: {avg_bertscore_difference}\")\n",
    "print(f\"Average Empathy Score: {avg_empathy_score}\")"
   ]
  },
  {
   "cell_type": "code",
   "execution_count": 54,
   "metadata": {},
   "outputs": [
    {
     "ename": "ModuleNotFoundError",
     "evalue": "No module named 'ace_tools'",
     "output_type": "error",
     "traceback": [
      "\u001b[1;31m---------------------------------------------------------------------------\u001b[0m",
      "\u001b[1;31mModuleNotFoundError\u001b[0m                       Traceback (most recent call last)",
      "Cell \u001b[1;32mIn[54], line 1\u001b[0m\n\u001b[1;32m----> 1\u001b[0m \u001b[38;5;28;01mimport\u001b[39;00m\u001b[38;5;250m \u001b[39m\u001b[38;5;21;01mace_tools\u001b[39;00m\u001b[38;5;250m \u001b[39m\u001b[38;5;28;01mas\u001b[39;00m\u001b[38;5;250m \u001b[39m\u001b[38;5;21;01mtools\u001b[39;00m\n\u001b[0;32m      2\u001b[0m tools\u001b[38;5;241m.\u001b[39mdisplay_dataframe_to_user(name\u001b[38;5;241m=\u001b[39m\u001b[38;5;124m\"\u001b[39m\u001b[38;5;124mBERTScore Deviation + Empathy Analysis\u001b[39m\u001b[38;5;124m\"\u001b[39m, dataframe\u001b[38;5;241m=\u001b[39mdf)\n",
      "\u001b[1;31mModuleNotFoundError\u001b[0m: No module named 'ace_tools'"
     ]
    }
   ],
   "source": [
    "import ace_tools as tools\n",
    "tools.display_dataframe_to_user(name=\"BERTScore Deviation + Empathy Analysis\", dataframe=df)"
   ]
  },
  {
   "cell_type": "markdown",
   "metadata": {},
   "source": [
    "# Testing the model"
   ]
  },
  {
   "cell_type": "markdown",
   "metadata": {},
   "source": [
    "## Connection to Database"
   ]
  },
  {
   "cell_type": "code",
   "execution_count": null,
   "metadata": {},
   "outputs": [],
   "source": [
    "load_dotenv()\n",
    "\n",
    "USER = os.getenv(\"user\")\n",
    "PASSWORD = os.getenv(\"password\")\n",
    "HOST = os.getenv(\"host\")\n",
    "PORT = os.getenv(\"port\")\n",
    "DBNAME = os.getenv(\"dbname\")\n",
    "\n",
    "try:\n",
    "    connection = psycopg2.connect(\n",
    "        user=USER,\n",
    "        password=PASSWORD,\n",
    "        host=HOST,\n",
    "        port=PORT,\n",
    "        dbname=DBNAME\n",
    "    )\n",
    "    print(\"Connection successful!\")\n",
    "    \n",
    "    # Create a cursor to execute SQL queries\n",
    "    cursor = connection.cursor()\n",
    "\n",
    "except Exception as e:\n",
    "    print(f\"Failed to connect: {e}\")"
   ]
  },
  {
   "cell_type": "markdown",
   "metadata": {},
   "source": [
    "## Retrieval Augmented Generation"
   ]
  },
  {
   "cell_type": "code",
   "execution_count": null,
   "metadata": {},
   "outputs": [],
   "source": [
    "embedding_model = SentenceTransformer(\"all-MiniLM-L6-v2\")\n",
    "\n",
    "def store_conversation(user_message, bot_response, sentiment):\n",
    "    \"\"\"Stores a conversation in Supabase PostgreSQL.\"\"\"\n",
    "    embedding = embedding_model.encode([user_message])[0].tolist()\n",
    "    try:\n",
    "        cursor.execute(\n",
    "            \"INSERT INTO conversations (user_message, bot_response, sentiment, embedding) VALUES (%s, %s, %s, %s)\",\n",
    "            (user_message, bot_response, sentiment, embedding)\n",
    "        )\n",
    "        connection.commit()\n",
    "        print(\"Stored conversation\")\n",
    "    except Exception as e:\n",
    "        print(e)"
   ]
  },
  {
   "cell_type": "code",
   "execution_count": null,
   "metadata": {},
   "outputs": [],
   "source": [
    "def retrieve_past_conversations(query):\n",
    "    query_embedding = embedding_model.encode([query])[0] \n",
    "\n",
    "    if isinstance(query_embedding, np.ndarray): \n",
    "        query_embedding = query_embedding.tolist()\n",
    "\n",
    "    cursor.execute(\n",
    "        \"SELECT timestamp, user_message, bot_response FROM conversations \"\n",
    "        \"ORDER BY embedding <-> %s::vector LIMIT 5\",\n",
    "        (query_embedding,)  # Ensure it's passed as a tuple\n",
    "    )\n",
    "\n",
    "    results = cursor.fetchall()\n",
    "\n",
    "    if results:\n",
    "        context = \"\\n\".join([f\"[{r[0]}] User: {r[1]}\\nBot: {r[2]}\" for r in results])\n",
    "        return context\n",
    "    else:\n",
    "        return \"\""
   ]
  },
  {
   "cell_type": "markdown",
   "metadata": {},
   "source": [
    "## Load trained model"
   ]
  },
  {
   "cell_type": "code",
   "execution_count": null,
   "metadata": {},
   "outputs": [],
   "source": [
    "model = AutoModelForCausalLM.from_pretrained(\"results\", device_map=\"auto\")\n",
    "tokenizer = AutoTokenizer.from_pretrained(\"results\", device_map=\"auto\")\n",
    "\n",
    "model.to(device)"
   ]
  },
  {
   "cell_type": "markdown",
   "metadata": {},
   "source": [
    "## Models for translation and sentiment analysis"
   ]
  },
  {
   "cell_type": "code",
   "execution_count": null,
   "metadata": {},
   "outputs": [],
   "source": [
    "pipe = pipeline(\"text2text-generation\", model=\"Varine/opus-mt-zh-en-model\")\n",
    "sentiment_classifier = pipeline(\"sentiment-analysis\", model=\"distilbert-base-uncased-finetuned-sst-2-english\")"
   ]
  },
  {
   "cell_type": "code",
   "execution_count": null,
   "metadata": {},
   "outputs": [],
   "source": [
    "def get_sentiment(text):\n",
    "    \"\"\"Improved sentiment analysis with keyword-based distress detection.\"\"\"\n",
    "    crisis_keywords = [\"end my life\", \"suicide\", \"don't want to live\", \"kill myself\", \"worthless\", \"no reason to live\"]\n",
    "\n",
    "    # Check if crisis words are in the input\n",
    "    if any(phrase in text.lower() for phrase in crisis_keywords):\n",
    "        return \"crisis\"  # Override sentiment if crisis words are detected\n",
    "\n",
    "    # Otherwise, use DistilBERT-based sentiment analysis\n",
    "    result = sentiment_classifier(text)[0]\n",
    "    label = result['label']\n",
    "\n",
    "    # Convert to sentiment categories based on DistilBERT outputs\n",
    "    if label == \"NEGATIVE\":\n",
    "        return \"negative\"\n",
    "    elif label == \"POSITIVE\":\n",
    "        return \"positive\"\n",
    "    else:\n",
    "        return \"neutral\""
   ]
  },
  {
   "cell_type": "markdown",
   "metadata": {},
   "source": [
    "## Chatbot response"
   ]
  },
  {
   "cell_type": "code",
   "execution_count": null,
   "metadata": {},
   "outputs": [],
   "source": [
    "def chatbot_response(prompt):\n",
    "    retrieved_context = retrieve_past_conversations(prompt)\n",
    "    translated_prompt = pipe(prompt)[0].get(\"generated_text\", \"Translation failed\")  \n",
    "\n",
    "    print(translated_prompt)\n",
    "\n",
    "    system_prompt = \"You are a helpful and supportive chatbot. Answer the user's question in a clear and concise way without repeating their words exactly.\"\n",
    "    full_prompt = f\"{system_prompt}\\n{retrieved_context}\\nUser: {prompt}\\nBot:\"\n",
    "\n",
    "    sentiment_results = get_sentiment(prompt)\n",
    "\n",
    "    inputs = tokenizer(full_prompt, return_tensors=\"pt\")\n",
    "    inputs = {key: val.to(device) for key, val in inputs.items()}\n",
    "\n",
    "    outputs = model.generate(\n",
    "        **inputs, \n",
    "        max_new_tokens=650,\n",
    "        repetition_penalty=1.3,\n",
    "        no_repeat_ngram_size=3,  \n",
    "        temperature=0.8,  \n",
    "        top_p=0.9,  #\n",
    "        top_k=50  \n",
    "    )\n",
    "\n",
    "    response = tokenizer.decode(outputs[0], skip_special_tokens=True)\n",
    "\n",
    "    # Ensure the response does not include the system prompt\n",
    "    response = response.replace(system_prompt, \"\").strip()\n",
    "    \n",
    "    # Remove any leftover system prompt instructions\n",
    "    if \"Bot:\" in response:\n",
    "        response = response.split(\"Bot:\")[-1].strip()\n",
    "\n",
    "    # Translate response to Chinese\n",
    "    # translated = pipe(response)[0]['translation_text']\n",
    "    translated_text = pipe(response)[0].get(\"generated_text\", \"Translation failed\")  # Use .get() to avoid KeyError\n",
    "\n",
    "    return response, translated_text, sentiment_results"
   ]
  },
  {
   "cell_type": "code",
   "execution_count": null,
   "metadata": {},
   "outputs": [],
   "source": [
    "if __name__ == \"__main__\":\n",
    "    print(\"Chatbot is ready! Type 'exit' to stop.\")\n",
    "    while True:        \n",
    "        user_input = input(\"User: \")\n",
    "        if user_input.lower() == \"exit\":\n",
    "            cursor.close()\n",
    "            connection.close()\n",
    "            print(\"DB connection ended\")\n",
    "            break\n",
    "        response, translated, sentiment_results = chatbot_response(user_input)\n",
    "        store_conversation(user_input, response, sentiment_results)\n",
    "        print(f\"User: {user_input}\")\n",
    "        print(f\"Bot: {response}\")\n",
    "        print(f\"Translated Text: {translated}\")\n",
    "        print(f\"Sentiment Results: {sentiment_results}\")"
   ]
  }
 ],
 "metadata": {
  "kernelspec": {
   "display_name": "Python 3",
   "language": "python",
   "name": "python3"
  },
  "language_info": {
   "codemirror_mode": {
    "name": "ipython",
    "version": 3
   },
   "file_extension": ".py",
   "mimetype": "text/x-python",
   "name": "python",
   "nbconvert_exporter": "python",
   "pygments_lexer": "ipython3",
   "version": "3.9.21"
  }
 },
 "nbformat": 4,
 "nbformat_minor": 2
}
